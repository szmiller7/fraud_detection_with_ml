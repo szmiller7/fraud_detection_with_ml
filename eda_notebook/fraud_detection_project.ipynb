{
 "cells": [
  {
   "cell_type": "markdown",
   "id": "65ba9a04-23d5-41eb-8c1d-7cfc0c084c48",
   "metadata": {
    "tags": []
   },
   "source": [
    "# Import libraries "
   ]
  },
  {
   "cell_type": "code",
   "execution_count": 87,
   "id": "42ab5250-acdc-434b-a4ba-d1e51478e7b2",
   "metadata": {},
   "outputs": [],
   "source": [
    "import os\n",
    "\n",
    "import pickle\n",
    "\n",
    "import pandas as pd\n",
    "import numpy as np\n",
    "import matplotlib.pyplot as plt\n",
    "import seaborn as sns\n",
    "\n",
    "from pandas.api.types import is_string_dtype\n",
    "from pandas.api.types import is_numeric_dtype\n",
    "\n",
    "# preprocessing\n",
    "from sklearn.impute import SimpleImputer\n",
    "from sklearn.preprocessing import MinMaxScaler, StandardScaler, RobustScaler\n",
    "from sklearn.utils import resample\n",
    "\n",
    "# modelling\n",
    "from sklearn.tree import DecisionTreeClassifier\n",
    "from sklearn.ensemble import RandomForestClassifier\n",
    "from sklearn.linear_model import LogisticRegression\n",
    "from sklearn.neighbors import KNeighborsClassifier\n",
    "import xgboost as xgb\n",
    "\n",
    "# model selection\n",
    "from sklearn.model_selection import RandomizedSearchCV\n",
    "from sklearn.model_selection import GridSearchCV\n",
    "from sklearn.model_selection import RepeatedStratifiedKFold\n",
    "\n",
    "# model visualisation \n",
    "from sklearn.tree import plot_tree\n",
    "\n",
    "# performance evaluation\n",
    "from sklearn.metrics import roc_auc_score\n",
    "from sklearn.metrics import roc_curve\n",
    "from sklearn.metrics import accuracy_score\n",
    "from sklearn.metrics import SCORERS\n",
    "from sklearn.metrics import f1_score, recall_score, precision_score\n",
    "from sklearn.metrics import precision_recall_curve\n",
    "from sklearn.metrics import confusion_matrix"
   ]
  },
  {
   "cell_type": "markdown",
   "id": "52cb44b6-f1d1-4f54-ab5f-ae878290a6ec",
   "metadata": {},
   "source": [
    "# Set options"
   ]
  },
  {
   "cell_type": "code",
   "execution_count": 39,
   "id": "2fd0561f-b066-44d6-b09b-48403eaed2e9",
   "metadata": {},
   "outputs": [],
   "source": [
    "pd.set_option(\"display.max_rows\", 100, \"display.max_columns\",200)"
   ]
  },
  {
   "cell_type": "markdown",
   "id": "16446b63-fce1-45f9-9d8b-a9d627582ce9",
   "metadata": {},
   "source": [
    "# General functions"
   ]
  },
  {
   "cell_type": "code",
   "execution_count": 40,
   "id": "86467cab-8038-4364-b0e5-befcb479f69c",
   "metadata": {},
   "outputs": [],
   "source": [
    "def EDA(df, distplot=False):\n",
    "\n",
    "\n",
    "    \n",
    "    \n",
    "    nrows = df.shape[0]\n",
    "\n",
    "    for i, col in enumerate(df.columns):\n",
    "        print('*'*200)\n",
    "        nona =sum(df[col].notna())\n",
    "        na = nrows-nona\n",
    "        uniq =len(df[col].unique())\n",
    "\n",
    "        print(i, \": \", col, '\\n')\n",
    "        print(\"Data type: \", df.dtypes[i])\n",
    "\n",
    "        if nona == uniq:\n",
    "            print(\"- ID variable: YES\")\n",
    "\n",
    "        print('- No. of null values: ', na)\n",
    "        print('- No. of non-null values: ', nona)\n",
    "        print('- No. of unique values: ', uniq)\n",
    "\n",
    "\n",
    "        if uniq <= 50:\n",
    "            print(df[col].value_counts().sort_index())\n",
    "\n",
    "        else:\n",
    "            if is_numeric_dtype(df[col]):\n",
    "                print(\"- min: \", df[col].min())\n",
    "                print(\"- max: \", df[col].max())\n",
    "                \n",
    "                if distplot:\n",
    "                    plt.figure(i)\n",
    "                    sns.distplot(df[col])\n",
    "                    plt.show()\n",
    "                \n",
    "                else:    \n",
    "                    fig, ax = plt.subplots(figsize =(10, 7))\n",
    "                    ax.hist(df[col], bins=20)\n",
    "                    plt.show()\n",
    "                \n",
    "            else:\n",
    "                print(\"- This is a str variable with more than 50 categories \")\n",
    "                print('- Sample 50 categories:\\n', np.random.choice(df[col].unique(), 50))\n",
    "\n",
    "        print('\\n')"
   ]
  },
  {
   "cell_type": "code",
   "execution_count": 41,
   "id": "9e82c40c-db6f-4d24-926b-d31042495271",
   "metadata": {},
   "outputs": [],
   "source": [
    "def numeric_downcast(df):\n",
    "    fcols = df.select_dtypes('float').columns\n",
    "    icols = df.select_dtypes('integer').columns\n",
    "    \n",
    "    df[fcols] = df[fcols].apply(pd.to_numeric, downcast='float')\n",
    "    df[icols] = df[icols].apply(pd.to_numeric, downcast='integer')\n",
    "    \n",
    "    return df"
   ]
  },
  {
   "cell_type": "markdown",
   "id": "6872ee42-d445-40c0-83e5-9ba6a3d71343",
   "metadata": {
    "tags": []
   },
   "source": [
    "# Load data"
   ]
  },
  {
   "cell_type": "markdown",
   "id": "e5db60a0-214c-4550-a8b8-6b4d73c6992b",
   "metadata": {},
   "source": [
    "## Identity "
   ]
  },
  {
   "cell_type": "code",
   "execution_count": 49,
   "id": "bfaf79e6-89ce-4300-850b-f37d0c668e81",
   "metadata": {
    "scrolled": true,
    "tags": []
   },
   "outputs": [
    {
     "name": "stdout",
     "output_type": "stream",
     "text": [
      "Shape:  (144233, 41)\n",
      "<class 'pandas.core.frame.DataFrame'>\n",
      "RangeIndex: 144233 entries, 0 to 144232\n",
      "Data columns (total 41 columns):\n",
      " #   Column         Non-Null Count   Dtype  \n",
      "---  ------         --------------   -----  \n",
      " 0   TransactionID  144233 non-null  object \n",
      " 1   id_01          144233 non-null  float32\n",
      " 2   id_02          140872 non-null  float32\n",
      " 3   id_03          66324 non-null   float32\n",
      " 4   id_04          66324 non-null   float32\n",
      " 5   id_05          136865 non-null  float32\n",
      " 6   id_06          136865 non-null  float32\n",
      " 7   id_07          5155 non-null    float32\n",
      " 8   id_08          5155 non-null    float32\n",
      " 9   id_09          74926 non-null   float32\n",
      " 10  id_10          74926 non-null   float32\n",
      " 11  id_11          140978 non-null  float32\n",
      " 12  id_12          144233 non-null  object \n",
      " 13  id_13          127320 non-null  float32\n",
      " 14  id_14          80044 non-null   float32\n",
      " 15  id_15          140985 non-null  object \n",
      " 16  id_16          129340 non-null  object \n",
      " 17  id_17          139369 non-null  float32\n",
      " 18  id_18          45113 non-null   float32\n",
      " 19  id_19          139318 non-null  float32\n",
      " 20  id_20          139261 non-null  float32\n",
      " 21  id_21          5159 non-null    float32\n",
      " 22  id_22          5169 non-null    float32\n",
      " 23  id_23          5169 non-null    object \n",
      " 24  id_24          4747 non-null    float32\n",
      " 25  id_25          5132 non-null    float32\n",
      " 26  id_26          5163 non-null    float32\n",
      " 27  id_27          5169 non-null    object \n",
      " 28  id_28          140978 non-null  object \n",
      " 29  id_29          140978 non-null  object \n",
      " 30  id_30          77565 non-null   object \n",
      " 31  id_31          140282 non-null  object \n",
      " 32  id_32          77586 non-null   float32\n",
      " 33  id_33          73289 non-null   object \n",
      " 34  id_34          77805 non-null   object \n",
      " 35  id_35          140985 non-null  object \n",
      " 36  id_36          140985 non-null  object \n",
      " 37  id_37          140985 non-null  object \n",
      " 38  id_38          140985 non-null  object \n",
      " 39  DeviceType     140810 non-null  object \n",
      " 40  DeviceInfo     118666 non-null  object \n",
      "dtypes: float32(23), object(18)\n",
      "memory usage: 32.5+ MB\n"
     ]
    }
   ],
   "source": [
    "# read and explore\n",
    "df_id = pd.read_csv(\"./train_identity.csv\", dtype={'TransactionID':str})\n",
    "df_id = numeric_downcast(df_id)\n",
    "print('Shape: ',df_id.shape)\n",
    "df_id.info()"
   ]
  },
  {
   "cell_type": "code",
   "execution_count": 6,
   "id": "3a928e52-3798-4162-beb7-3fbb775cf307",
   "metadata": {},
   "outputs": [
    {
     "data": {
      "text/plain": [
       "(144233, 144233)"
      ]
     },
     "execution_count": 6,
     "metadata": {},
     "output_type": "execute_result"
    }
   ],
   "source": [
    "# explore uniqueness of id column\n",
    "len(df_id['TransactionID'].unique()), len(df_id)"
   ]
  },
  {
   "cell_type": "markdown",
   "id": "4ae80ad3-c829-4ac1-960c-9ff66cd2d390",
   "metadata": {},
   "source": [
    "## Transaction"
   ]
  },
  {
   "cell_type": "code",
   "execution_count": 7,
   "id": "3772c9c5-e75c-45ea-8675-9747914b9618",
   "metadata": {},
   "outputs": [
    {
     "name": "stdout",
     "output_type": "stream",
     "text": [
      "Shape:  (590540, 394)\n",
      "<class 'pandas.core.frame.DataFrame'>\n",
      "RangeIndex: 590540 entries, 0 to 590539\n",
      "Columns: 394 entries, TransactionID to V339\n",
      "dtypes: float32(376), int16(1), int32(1), int8(1), object(15)\n",
      "memory usage: 918.6+ MB\n"
     ]
    }
   ],
   "source": [
    "# read and explore\n",
    "df_trans = pd.read_csv(\"./train_transaction.csv\", dtype = {'TransactionID':str})\n",
    "df_trans = numeric_downcast(df_trans)\n",
    "print(\"Shape: \", df_trans.shape)\n",
    "df_trans.info()"
   ]
  },
  {
   "cell_type": "code",
   "execution_count": 9,
   "id": "a08f7e49-387d-4c79-9b57-953cc4954921",
   "metadata": {},
   "outputs": [
    {
     "data": {
      "text/plain": [
       "(590540, 590540)"
      ]
     },
     "execution_count": 9,
     "metadata": {},
     "output_type": "execute_result"
    }
   ],
   "source": [
    "# explore uniqueness of id column\n",
    "len(df_trans['TransactionID'].unique()), len(df_trans)"
   ]
  },
  {
   "cell_type": "markdown",
   "id": "1ede5e1c-23df-47ab-814e-707e5b1c2930",
   "metadata": {},
   "source": [
    "# Merge tables"
   ]
  },
  {
   "cell_type": "code",
   "execution_count": 10,
   "id": "59ee6f35-06bb-456e-aaa9-a086cd39cf8d",
   "metadata": {},
   "outputs": [
    {
     "name": "stdout",
     "output_type": "stream",
     "text": [
      "<class 'pandas.core.frame.DataFrame'>\n",
      "Int64Index: 144233 entries, 0 to 144232\n",
      "Columns: 434 entries, TransactionID to DeviceInfo\n",
      "dtypes: float32(399), int16(1), int32(1), int8(1), object(32)\n",
      "memory usage: 256.8+ MB\n"
     ]
    }
   ],
   "source": [
    "# keep only those transactions that have identity info \n",
    "df_id_trans = pd.merge(df_trans, df_id, how=\"inner\", on = \"TransactionID\")\n",
    "df_id_trans.info()"
   ]
  },
  {
   "cell_type": "markdown",
   "id": "1e700113-170a-4e37-ac91-6f6bac78b287",
   "metadata": {
    "tags": []
   },
   "source": [
    "# Drop columns with too many missing values"
   ]
  },
  {
   "cell_type": "code",
   "execution_count": 12,
   "id": "5727dc65-44b4-4aae-a680-c53a98069540",
   "metadata": {
    "scrolled": true,
    "tags": []
   },
   "outputs": [
    {
     "data": {
      "text/plain": [
       "TransactionID     0.000000\n",
       "isFraud           0.000000\n",
       "TransactionDT     0.000000\n",
       "TransactionAmt    0.000000\n",
       "ProductCD         0.000000\n",
       "                    ...   \n",
       "id_36             0.022519\n",
       "id_37             0.022519\n",
       "id_38             0.022519\n",
       "DeviceType        0.023732\n",
       "DeviceInfo        0.177262\n",
       "Length: 434, dtype: float64"
      ]
     },
     "metadata": {},
     "output_type": "display_data"
    }
   ],
   "source": [
    "# explore how many null values per column\n",
    "id_trans_NA = df_id_trans.isnull().mean()\n",
    "display(id_trans_NA)"
   ]
  },
  {
   "cell_type": "code",
   "execution_count": 50,
   "id": "0974aba2-3917-4431-b99c-aabfb8efa253",
   "metadata": {
    "scrolled": true,
    "tags": []
   },
   "outputs": [
    {
     "data": {
      "image/png": "[encoded data removed]",
      "text/plain": [
       "<Figure size 432x288 with 1 Axes>"
      ]
     },
     "metadata": {
      "needs_background": "light"
     },
     "output_type": "display_data"
    },
    {
     "name": "stdout",
     "output_type": "stream",
     "text": [
      "Let's select the best value\n"
     ]
    },
    {
     "data": {
      "text/html": [
       "<div>\n",
       "<style scoped>\n",
       "    .dataframe tbody tr th:only-of-type {\n",
       "        vertical-align: middle;\n",
       "    }\n",
       "\n",
       "    .dataframe tbody tr th {\n",
       "        vertical-align: top;\n",
       "    }\n",
       "\n",
       "    .dataframe thead th {\n",
       "        text-align: right;\n",
       "    }\n",
       "</style>\n",
       "<table border=\"1\" class=\"dataframe\">\n",
       "  <thead>\n",
       "    <tr style=\"text-align: right;\">\n",
       "      <th></th>\n",
       "      <th>NA threshold</th>\n",
       "      <th>VARS kept</th>\n",
       "    </tr>\n",
       "  </thead>\n",
       "  <tbody>\n",
       "    <tr>\n",
       "      <th>0</th>\n",
       "      <td>0.00</td>\n",
       "      <td>22</td>\n",
       "    </tr>\n",
       "    <tr>\n",
       "      <th>1</th>\n",
       "      <td>0.01</td>\n",
       "      <td>114</td>\n",
       "    </tr>\n",
       "    <tr>\n",
       "      <th>2</th>\n",
       "      <td>0.02</td>\n",
       "      <td>114</td>\n",
       "    </tr>\n",
       "    <tr>\n",
       "      <th>3</th>\n",
       "      <td>0.03</td>\n",
       "      <td>141</td>\n",
       "    </tr>\n",
       "    <tr>\n",
       "      <th>4</th>\n",
       "      <td>0.04</td>\n",
       "      <td>194</td>\n",
       "    </tr>\n",
       "    <tr>\n",
       "      <th>5</th>\n",
       "      <td>0.05</td>\n",
       "      <td>194</td>\n",
       "    </tr>\n",
       "    <tr>\n",
       "      <th>6</th>\n",
       "      <td>0.06</td>\n",
       "      <td>196</td>\n",
       "    </tr>\n",
       "    <tr>\n",
       "      <th>7</th>\n",
       "      <td>0.07</td>\n",
       "      <td>196</td>\n",
       "    </tr>\n",
       "    <tr>\n",
       "      <th>8</th>\n",
       "      <td>0.08</td>\n",
       "      <td>196</td>\n",
       "    </tr>\n",
       "    <tr>\n",
       "      <th>9</th>\n",
       "      <td>0.09</td>\n",
       "      <td>196</td>\n",
       "    </tr>\n",
       "    <tr>\n",
       "      <th>10</th>\n",
       "      <td>0.10</td>\n",
       "      <td>244</td>\n",
       "    </tr>\n",
       "    <tr>\n",
       "      <th>11</th>\n",
       "      <td>0.11</td>\n",
       "      <td>245</td>\n",
       "    </tr>\n",
       "    <tr>\n",
       "      <th>12</th>\n",
       "      <td>0.12</td>\n",
       "      <td>246</td>\n",
       "    </tr>\n",
       "    <tr>\n",
       "      <th>13</th>\n",
       "      <td>0.13</td>\n",
       "      <td>246</td>\n",
       "    </tr>\n",
       "    <tr>\n",
       "      <th>14</th>\n",
       "      <td>0.14</td>\n",
       "      <td>246</td>\n",
       "    </tr>\n",
       "    <tr>\n",
       "      <th>15</th>\n",
       "      <td>0.15</td>\n",
       "      <td>246</td>\n",
       "    </tr>\n",
       "    <tr>\n",
       "      <th>16</th>\n",
       "      <td>0.16</td>\n",
       "      <td>246</td>\n",
       "    </tr>\n",
       "    <tr>\n",
       "      <th>17</th>\n",
       "      <td>0.17</td>\n",
       "      <td>246</td>\n",
       "    </tr>\n",
       "    <tr>\n",
       "      <th>18</th>\n",
       "      <td>0.18</td>\n",
       "      <td>247</td>\n",
       "    </tr>\n",
       "    <tr>\n",
       "      <th>19</th>\n",
       "      <td>0.19</td>\n",
       "      <td>247</td>\n",
       "    </tr>\n",
       "    <tr>\n",
       "      <th>20</th>\n",
       "      <td>0.20</td>\n",
       "      <td>247</td>\n",
       "    </tr>\n",
       "    <tr>\n",
       "      <th>21</th>\n",
       "      <td>0.21</td>\n",
       "      <td>247</td>\n",
       "    </tr>\n",
       "    <tr>\n",
       "      <th>22</th>\n",
       "      <td>0.22</td>\n",
       "      <td>247</td>\n",
       "    </tr>\n",
       "    <tr>\n",
       "      <th>23</th>\n",
       "      <td>0.23</td>\n",
       "      <td>247</td>\n",
       "    </tr>\n",
       "    <tr>\n",
       "      <th>24</th>\n",
       "      <td>0.24</td>\n",
       "      <td>247</td>\n",
       "    </tr>\n",
       "    <tr>\n",
       "      <th>25</th>\n",
       "      <td>0.25</td>\n",
       "      <td>247</td>\n",
       "    </tr>\n",
       "    <tr>\n",
       "      <th>26</th>\n",
       "      <td>0.26</td>\n",
       "      <td>247</td>\n",
       "    </tr>\n",
       "    <tr>\n",
       "      <th>27</th>\n",
       "      <td>0.27</td>\n",
       "      <td>247</td>\n",
       "    </tr>\n",
       "    <tr>\n",
       "      <th>28</th>\n",
       "      <td>0.28</td>\n",
       "      <td>247</td>\n",
       "    </tr>\n",
       "    <tr>\n",
       "      <th>29</th>\n",
       "      <td>0.29</td>\n",
       "      <td>247</td>\n",
       "    </tr>\n",
       "    <tr>\n",
       "      <th>30</th>\n",
       "      <td>0.30</td>\n",
       "      <td>247</td>\n",
       "    </tr>\n",
       "    <tr>\n",
       "      <th>31</th>\n",
       "      <td>0.31</td>\n",
       "      <td>247</td>\n",
       "    </tr>\n",
       "    <tr>\n",
       "      <th>32</th>\n",
       "      <td>0.32</td>\n",
       "      <td>247</td>\n",
       "    </tr>\n",
       "    <tr>\n",
       "      <th>33</th>\n",
       "      <td>0.33</td>\n",
       "      <td>247</td>\n",
       "    </tr>\n",
       "    <tr>\n",
       "      <th>34</th>\n",
       "      <td>0.34</td>\n",
       "      <td>247</td>\n",
       "    </tr>\n",
       "    <tr>\n",
       "      <th>35</th>\n",
       "      <td>0.35</td>\n",
       "      <td>247</td>\n",
       "    </tr>\n",
       "    <tr>\n",
       "      <th>36</th>\n",
       "      <td>0.36</td>\n",
       "      <td>247</td>\n",
       "    </tr>\n",
       "    <tr>\n",
       "      <th>37</th>\n",
       "      <td>0.37</td>\n",
       "      <td>247</td>\n",
       "    </tr>\n",
       "    <tr>\n",
       "      <th>38</th>\n",
       "      <td>0.38</td>\n",
       "      <td>247</td>\n",
       "    </tr>\n",
       "    <tr>\n",
       "      <th>39</th>\n",
       "      <td>0.39</td>\n",
       "      <td>247</td>\n",
       "    </tr>\n",
       "  </tbody>\n",
       "</table>\n",
       "</div>"
      ],
      "text/plain": [
       "    NA threshold  VARS kept\n",
       "0           0.00         22\n",
       "1           0.01        114\n",
       "2           0.02        114\n",
       "3           0.03        141\n",
       "4           0.04        194\n",
       "5           0.05        194\n",
       "6           0.06        196\n",
       "7           0.07        196\n",
       "8           0.08        196\n",
       "9           0.09        196\n",
       "10          0.10        244\n",
       "11          0.11        245\n",
       "12          0.12        246\n",
       "13          0.13        246\n",
       "14          0.14        246\n",
       "15          0.15        246\n",
       "16          0.16        246\n",
       "17          0.17        246\n",
       "18          0.18        247\n",
       "19          0.19        247\n",
       "20          0.20        247\n",
       "21          0.21        247\n",
       "22          0.22        247\n",
       "23          0.23        247\n",
       "24          0.24        247\n",
       "25          0.25        247\n",
       "26          0.26        247\n",
       "27          0.27        247\n",
       "28          0.28        247\n",
       "29          0.29        247\n",
       "30          0.30        247\n",
       "31          0.31        247\n",
       "32          0.32        247\n",
       "33          0.33        247\n",
       "34          0.34        247\n",
       "35          0.35        247\n",
       "36          0.36        247\n",
       "37          0.37        247\n",
       "38          0.38        247\n",
       "39          0.39        247"
      ]
     },
     "metadata": {},
     "output_type": "display_data"
    }
   ],
   "source": [
    "################## explore how many variables would be kept as a result of changing the threshold value\n",
    "\n",
    "# thresholds to be checked\n",
    "NA_threshold = np.arange(0,1.01,0.01)\n",
    "vars_kept = []\n",
    "\n",
    "# store variables count for various thresholds\n",
    "for i in NA_threshold:\n",
    "    vars_kept.append(sum(id_trans_NA <= i))\n",
    "\n",
    "# plot results\n",
    "plt.scatter(NA_threshold, vars_kept, s = 2)\n",
    "plt.xlabel(\"missing values threshold\")\n",
    "plt.ylabel(\"variables left in the dataset\")\n",
    "plt.title(\"Missing values drop threshold vs Number of variables in the dataset\")\n",
    "plt.grid( alpha=0.9)\n",
    "plt.grid(which='minor',linestyle=\"-\")\n",
    "#plt.minorticks_on()\n",
    "plt.locator_params(nbins=15)\n",
    "plt.scatter(0.1,244,color='red')\n",
    "plt.text(-0.02, 270, \"selected threshold\", fontsize=10, color='red')\n",
    "plt.show()\n",
    "\n",
    "# plot table\n",
    "print(\"Let's select the best value\")\n",
    "display(pd.DataFrame({\"NA threshold\" : NA_threshold, \"VARS kept\" : vars_kept}).head(40))\n",
    "\n",
    "# keep only those with less or equal than 10% missing values\n",
    "ind = id_trans_NA[id_trans_NA<=0.1].index\n",
    "df_id_trans_remNA = df_id_trans[ind].copy()"
   ]
  },
  {
   "cell_type": "code",
   "execution_count": 51,
   "id": "b7ac2fe1-730f-4179-8973-2e78b520d3ba",
   "metadata": {},
   "outputs": [
    {
     "data": {
      "text/plain": [
       "0    0.96501\n",
       "1    0.03499\n",
       "Name: isFraud, dtype: float64"
      ]
     },
     "execution_count": 51,
     "metadata": {},
     "output_type": "execute_result"
    }
   ],
   "source": [
    "# class distribution before dropping rows without identity info \n",
    "df_trans['isFraud'].value_counts() / len(df_trans)"
   ]
  },
  {
   "cell_type": "code",
   "execution_count": 52,
   "id": "37c8da33-921c-4497-a102-d4bba0e50f97",
   "metadata": {},
   "outputs": [
    {
     "data": {
      "text/plain": [
       "0    0.92153\n",
       "1    0.07847\n",
       "Name: isFraud, dtype: float64"
      ]
     },
     "execution_count": 52,
     "metadata": {},
     "output_type": "execute_result"
    }
   ],
   "source": [
    "# dataset after dropping rows without identity info\n",
    "df_id_trans_remNA['isFraud'].value_counts() / len(df_id_trans_remNA)"
   ]
  },
  {
   "cell_type": "markdown",
   "id": "d95fbb73-a437-4c0a-a28d-2eb739fe5510",
   "metadata": {
    "tags": []
   },
   "source": [
    "# Explore variables"
   ]
  },
  {
   "cell_type": "markdown",
   "id": "66db0c49-f68a-4a02-afe1-19d7b27ff3cc",
   "metadata": {},
   "source": [
    "## EDA"
   ]
  },
  {
   "cell_type": "code",
   "execution_count": 106,
   "id": "8a200b2a-56b5-4ab1-b788-02907dd9565d",
   "metadata": {
    "scrolled": true,
    "tags": []
   },
   "outputs": [],
   "source": [
    "#EDA(df_id_trans_remNA)"
   ]
  },
  {
   "cell_type": "markdown",
   "id": "75d629e6-f7e9-4a3c-8806-8c4c167a4099",
   "metadata": {
    "tags": []
   },
   "source": [
    "## Column data types"
   ]
  },
  {
   "cell_type": "code",
   "execution_count": 54,
   "id": "b0c7594a-0a3d-4f63-aefa-34b72a6db617",
   "metadata": {
    "tags": []
   },
   "outputs": [],
   "source": [
    "####################### Data description source: https://www.kaggle.com/competitions/ieee-fraud-detection/discussion/101203 \n",
    "\n",
    "########## outcome variable\n",
    "outcome_cols = ['isFraud']\n",
    "\n",
    "########## transactional info \n",
    "transaction_cols = [\n",
    "    # id\n",
    "    'TransactionID', \n",
    "    # TransactionDT: timedelta from a given reference datetime (not an actual timestamp)            \n",
    "    'TransactionDT']\n",
    "\n",
    "########## categorical predictors\n",
    "cat_cols = [\n",
    "    # ProductCD: product code, the product for each transaction\n",
    "    'ProductCD', \n",
    "    # card1 - card6: payment card information, such as card type, card category, issue bank, country, etc.\n",
    "    'card1', 'card2', 'card3','card4', 'card5','card6', \n",
    "    # address\n",
    "    'addr1','addr2',\n",
    "    # emaildomain: purchaser and recipient email domain\n",
    "    'P_emaildomain', 'R_emaildomain',\n",
    "    # match, such as names on card and address, etc.\n",
    "    'M1', 'M2', 'M3', 'M4', 'M5', 'M6', 'M7', 'M8', 'M9',\n",
    "    # identity categorical\n",
    "    'id_12', 'id_13', 'id_14','id_15', 'id_16', 'id_17', 'id_18', 'id_19', 'id_20', 'id_21', 'id_22',\n",
    "    'id_23', 'id_24', 'id_25', 'id_26', 'id_27', 'id_28', 'id_29', 'id_30','id_31', 'id_32', 'id_33', \n",
    "    'id_34', 'id_35', 'id_36', 'id_37', 'id_38',\n",
    "    # device\n",
    "    'DeviceType', 'DeviceInfo']\n",
    "    \n",
    "############## numerical predictors\n",
    "num_cols = [\n",
    "    # transaction payment amount in USD\n",
    "    'TransactionAmt',\n",
    "    # distance\n",
    "    'dist1','dist2',\n",
    "    # C1-C14: counting, such as how many addresses are found to be associated with the payment card, etc. The actual meaning is masked.\n",
    "    'C1','C2', 'C3', 'C4','C5','C6', 'C7','C8','C9','C10','C11','C12','C13','C14',\n",
    "    # timedelta, such as days between previous transaction, etc.\n",
    "    'D1', 'D2', 'D3', 'D4', 'D5', 'D6', 'D7', 'D8', 'D9', 'D10', 'D11', 'D12', 'D13', 'D14', 'D15',\n",
    "    # Vesta engineered rich features, including ranking, counting, and other entity relations.\n",
    "    'V1', 'V2', 'V3', 'V4', 'V5', 'V6', 'V7', 'V8', 'V9', 'V10', 'V11', 'V12', 'V13', 'V14', 'V15', \n",
    "    'V16', 'V17', 'V18', 'V19', 'V20', 'V21', 'V22', 'V23', 'V24', 'V25', 'V26', 'V27', 'V28', 'V29', \n",
    "    'V30', 'V31', 'V32', 'V33', 'V34', 'V35', 'V36', 'V37', 'V38', 'V39', 'V40', 'V41', 'V42', 'V43', \n",
    "    'V44', 'V45', 'V46', 'V47', 'V48', 'V49', 'V50', 'V51', 'V52', 'V53', 'V54', 'V55','V56', 'V57', \n",
    "    'V58', 'V59', 'V60', 'V61', 'V62', 'V63', 'V64', 'V65','V66', 'V67', 'V68', 'V69', 'V70', 'V71', \n",
    "    'V72', 'V73', 'V74', 'V75','V76', 'V77', 'V78', 'V79', 'V80', 'V81', 'V82', 'V83', 'V84', 'V85',\n",
    "    'V86', 'V87', 'V88', 'V89', 'V90', 'V91', 'V92', 'V93', 'V94', 'V95','V96', 'V97', 'V98', 'V99', \n",
    "    'V100', 'V101', 'V102', 'V103', 'V104', 'V105', 'V106', 'V107', 'V108', 'V109', 'V110', 'V111', \n",
    "    'V112', 'V113','V114', 'V115', 'V116', 'V117', 'V118', 'V119', 'V120', 'V121', 'V122', 'V123', \n",
    "    'V124', 'V125', 'V126', 'V127', 'V128', 'V129', 'V130', 'V131','V132', 'V133', 'V134', 'V135', \n",
    "    'V136', 'V137', 'V138', 'V139', 'V140','V141', 'V142', 'V143', 'V144', 'V145','V146', 'V147', \n",
    "    'V148', 'V149', 'V150', 'V151', 'V152', 'V153', 'V154','V155', 'V156', 'V157', 'V158', 'V159', \n",
    "    'V160', 'V161', 'V162', 'V163','V164', 'V165', 'V166', 'V167', 'V168', 'V169', 'V170', 'V171', \n",
    "    'V172','V173', 'V174', 'V175', 'V176', 'V177', 'V178', 'V179', 'V180', 'V181','V182', 'V183', \n",
    "    'V184', 'V185', 'V186', 'V187', 'V188', 'V189', 'V190','V191', 'V192', 'V193', 'V194', 'V195', \n",
    "    'V196', 'V197', 'V198', 'V199','V200', 'V201', 'V202', 'V203', 'V204', 'V205', 'V206', 'V207', \n",
    "    'V208', 'V209', 'V210', 'V211', 'V212', 'V213', 'V214', 'V215', 'V216', 'V217','V218', 'V219', \n",
    "    'V220', 'V221', 'V222', 'V223', 'V224', 'V225', 'V226','V227', 'V228', 'V229', 'V230', 'V231',\n",
    "    'V232','V233','V234','V235','V236','V237','V238','V239','V240','V241','V242','V243','V244','V245', \n",
    "    'V246', 'V247','V248', 'V249','V250','V251','V252','V253','V254','V255', 'V256', 'V257', 'V258', \n",
    "    'V259', 'V260', 'V261', 'V262', 'V263','V264', 'V265', 'V266', 'V267', 'V268', 'V269', 'V270', \n",
    "    'V271', 'V272','V273', 'V274', 'V275', 'V276', 'V277', 'V278', 'V279', 'V280', 'V281', 'V282', \n",
    "    'V283', 'V284', 'V285', 'V286', 'V287', 'V288', 'V289', 'V290','V291', 'V292', 'V293', 'V294',\n",
    "    'V295', 'V296', 'V297', 'V298', 'V299','V300', 'V301', 'V302', 'V303', 'V304', 'V305', 'V306', \n",
    "    'V307', 'V308','V309', 'V310', 'V311', 'V312', 'V313', 'V314',  'V315', 'V316', 'V317','V318', \n",
    "    'V319', 'V320', 'V321', 'V322', 'V323', 'V324', 'V325', 'V326','V327', 'V328', 'V329', 'V330', \n",
    "    'V331', 'V332', 'V333', 'V334', 'V335', 'V336', 'V337', 'V338', 'V339',\n",
    "    # identity numerical\n",
    "    'id_01', 'id_02', 'id_03', 'id_04', 'id_05', 'id_06', 'id_07', 'id_08', 'id_09', 'id_10', 'id_11']\n",
    "\n",
    "# check if we have all columns from original dataframe here (non-common elements in the 2 lists) \n",
    "assert(len(set(cat_cols+ num_cols + transaction_cols + outcome_cols) ^ set(df_id_trans.columns)) == 0)"
   ]
  },
  {
   "cell_type": "code",
   "execution_count": 55,
   "id": "f7c36bb1-fd3d-4ba8-a571-826b355c8318",
   "metadata": {},
   "outputs": [],
   "source": [
    "################ store only variables that were not excluded in the missing value per column analysis\n",
    "\n",
    "# outcome \n",
    "outcome_cols_remNA = list(set(outcome_cols).intersection(df_id_trans_remNA.columns))\n",
    "\n",
    "# transaction\n",
    "transaction_cols_remNA = list(set(transaction_cols).intersection(df_id_trans_remNA.columns))\n",
    "\n",
    "# categorical\n",
    "cat_cols_remNA = list(set(cat_cols).intersection(df_id_trans_remNA.columns))\n",
    "\n",
    "# numerical\n",
    "num_cols_remNA = list(set(num_cols).intersection(df_id_trans_remNA.columns))"
   ]
  },
  {
   "cell_type": "markdown",
   "id": "f28791dd-fd6f-4a2c-9af3-842fccdfb117",
   "metadata": {
    "tags": []
   },
   "source": [
    "# Categorical variables exploration and recategorisation\n",
    "- Let's check which categorical variables can be binned or have relatively few variables"
   ]
  },
  {
   "cell_type": "markdown",
   "id": "7122fd38-eeb0-4e85-b9ab-df90b94a4abe",
   "metadata": {},
   "source": [
    "- Let's check if the categorical variables are:\n",
    "    - MECE\n",
    "    - Don't have too many categories\n",
    "\n",
    "\n",
    "- In some cases I will replace nulls with 'unknown' (when it is difficult to unanimously choose the most popular value)\n",
    "\n",
    "\n",
    "- 3 cases:\n",
    "    - 1. NA as 'unknown' (no clear most frequent value) +  then create dummies\n",
    "        - 'ProductCD', 'DeviceType', 'id_28', 'card6', 'id_35', 'id_29', 'card4', 'id_12', 'id_36', 'id_38', 'id_37', 'id_15', \n",
    "    - 2. Recategorise + then create dummies\n",
    "        - 'id_31', 'R_emaildomain', 'P_emaildomain'\n",
    "    - 3. Impute as categorical with mode + treat as numeric afterwards\n",
    "        - 'card5', 'card2', 'id_17', 'card3', 'card1', 'id_20', 'id_19'"
   ]
  },
  {
   "cell_type": "code",
   "execution_count": 56,
   "id": "e8e10ba6-2c13-4be5-ac76-891fbee634f9",
   "metadata": {},
   "outputs": [
    {
     "data": {
      "text/plain": [
       "chrome 63.0                   22000\n",
       "mobile safari 11.0            13423\n",
       "mobile safari generic         11474\n",
       "ie 11.0 for desktop            9030\n",
       "safari generic                 8195\n",
       "chrome 62.0                    7182\n",
       "chrome 65.0                    6871\n",
       "chrome 64.0                    6711\n",
       "chrome 63.0 for android        5806\n",
       "chrome generic                 4778\n",
       "chrome 66.0                    4264\n",
       "edge 16.0                      4188\n",
       "chrome 64.0 for android        3473\n",
       "chrome 65.0 for android        3336\n",
       "firefox 57.0                   3315\n",
       "mobile safari 10.0             2779\n",
       "chrome 66.0 for android        2349\n",
       "chrome 62.0 for android        2097\n",
       "edge 15.0                      1600\n",
       "chrome generic for android     1158\n",
       "firefox 59.0                   1099\n",
       "samsung browser 6.2            1061\n",
       "firefox 58.0                    833\n",
       "chrome 49.0                     719\n",
       "firefox                         673\n",
       "ie 11.0 for tablet              647\n",
       "chrome 61.0                     642\n",
       "safari 11.0                     550\n",
       "mobile safari 9.0               541\n",
       "chrome 61.0 for android         538\n",
       "Name: id_31, dtype: int64"
      ]
     },
     "execution_count": 56,
     "metadata": {},
     "output_type": "execute_result"
    }
   ],
   "source": [
    "# example of column that requires recategorisation\n",
    "df_id_trans['id_31'].value_counts().head(30)"
   ]
  },
  {
   "cell_type": "markdown",
   "id": "8b41dbc5-94f8-48fb-a78e-b5bf79bb8e6c",
   "metadata": {},
   "source": [
    "## Replace NA with unknown"
   ]
  },
  {
   "cell_type": "code",
   "execution_count": 58,
   "id": "6e589e86-a4f4-41e3-8a14-e2ddf7902d20",
   "metadata": {},
   "outputs": [],
   "source": [
    "# replace with unknown\n",
    "df_id_trans_remNA.loc[:,['ProductCD', 'DeviceType', 'id_28', 'card6', 'id_35', 'id_29', 'card4', 'id_12', 'id_36', 'id_38', 'id_37', 'id_15']] = df_id_trans_remNA.loc[:,['ProductCD', 'DeviceType', 'id_28', 'card6', 'id_35', 'id_29', 'card4', 'id_12', 'id_36', 'id_38', 'id_37', 'id_15']].fillna(\"Unknown\")\n"
   ]
  },
  {
   "cell_type": "markdown",
   "id": "df2a3e1f-a548-42e5-b13d-f5b6ef84904e",
   "metadata": {},
   "source": [
    "## Recategorize "
   ]
  },
  {
   "cell_type": "code",
   "execution_count": 59,
   "id": "475a087e-f075-4c95-ab93-4abc835ebc37",
   "metadata": {},
   "outputs": [],
   "source": [
    "############# recategorize browsers\n",
    "\n",
    "\n",
    "def id_31_recategorization(row):\n",
    "    \"\"\"\n",
    "    browser recategorization function\n",
    "    \"\"\"\n",
    "    \n",
    "    if \"chrome\" in row.lower():\n",
    "        return \"chrome\"\n",
    "  \n",
    "    elif \"safari\" in row.lower():\n",
    "        return \"safari\"\n",
    "        \n",
    "    \n",
    "    elif \"edge\" in row.lower():\n",
    "        return \"edge\"\n",
    "        \n",
    "        \n",
    "    elif \"firefox\" in row.lower():\n",
    "        return \"firefox\"\n",
    "        \n",
    "        \n",
    "    elif \"samsung\" in row.lower():\n",
    "        return \"samsung\"\n",
    "        \n",
    "        \n",
    "    elif \"opera\" in row.lower():\n",
    "        return \"opera\"\n",
    "    \n",
    "    else:\n",
    "        return \"other\"\n",
    "    \n",
    "    \n",
    "# perform recategorization\n",
    "df_id_trans_remNA.loc[:,'id_31'] = df_id_trans_remNA.loc[:,'id_31'].astype(str).apply(id_31_recategorization)"
   ]
  },
  {
   "cell_type": "code",
   "execution_count": 60,
   "id": "8385305d-9dd5-4df1-88c8-086c5beab6ae",
   "metadata": {},
   "outputs": [],
   "source": [
    "################### recategosie email domain columns\n",
    "\n",
    "\n",
    "def emaildomain_recategorization(row):\n",
    "    \"\"\"\n",
    "    email domain recategorization function\n",
    "    \"\"\"\n",
    "    \n",
    "    if \"gmail\" in row.lower():\n",
    "        return \"gmail\"\n",
    "  \n",
    "    elif \"hotmail\" in row.lower():\n",
    "        return \"hotmail\"\n",
    "    \n",
    "    elif \"yahoo\" in row.lower():\n",
    "        return \"yahoo\"\n",
    "    \n",
    "    elif \"anonymous\" in row.lower():\n",
    "        return \"anonymous\"\n",
    "    \n",
    "    elif \"aol\" in row.lower():\n",
    "        return \"aol\"\n",
    "\n",
    "    elif \"outlook\" in row.lower():\n",
    "        return \"outlook\"\n",
    "    \n",
    "    elif \"comcast\" in row.lower():\n",
    "        return \"comcast\"\n",
    "    \n",
    "    elif \"icloud\" in row.lower():\n",
    "        return \"icloud\"\n",
    "    else:\n",
    "        return \"other\"\n",
    "    \n",
    "\n",
    "# perform recategorization\n",
    "df_id_trans_remNA.loc[:,'R_emaildomain'] = df_id_trans_remNA.loc[:,'R_emaildomain'].astype(str).apply(emaildomain_recategorization)\n",
    "df_id_trans_remNA.loc[:,'P_emaildomain'] = df_id_trans_remNA.loc[:,'P_emaildomain'].astype(str).apply(emaildomain_recategorization)"
   ]
  },
  {
   "cell_type": "markdown",
   "id": "d2dd14cd-47aa-4de2-89bc-240c9d459801",
   "metadata": {},
   "source": [
    "# Drop unary variables"
   ]
  },
  {
   "cell_type": "code",
   "execution_count": 61,
   "id": "e2634fb4-03a7-4fdc-9466-de545a0ed81e",
   "metadata": {},
   "outputs": [
    {
     "name": "stdout",
     "output_type": "stream",
     "text": [
      "(144233, 244)\n"
     ]
    },
    {
     "data": {
      "text/plain": [
       "(144233, 240)"
      ]
     },
     "execution_count": 61,
     "metadata": {},
     "output_type": "execute_result"
    }
   ],
   "source": [
    "# explrore if any unary variables and drop these\n",
    "\n",
    "print(df_id_trans_remNA.shape)\n",
    "\n",
    "mask_nunique = df_id_trans_remNA.nunique().sort_values() == 1\n",
    "\n",
    "unary_variables = df_id_trans_remNA.nunique()[mask_nunique].index\n",
    "\n",
    "df_id_trans_remNA = df_id_trans_remNA.drop(unary_variables, axis=1)\n",
    "\n",
    "df_id_trans_remNA.shape"
   ]
  },
  {
   "cell_type": "markdown",
   "id": "76ca1e43-9d02-4be2-879d-09c1d6b52f4d",
   "metadata": {
    "tags": []
   },
   "source": [
    "# Encoding - create dummies for relevant categorical columns\n",
    "-  we assumed earlier that we are aware of the categories that we may have -> this happen very often in production as we allow for them (otherwise other or unknown)\n",
    "- in cases of situations that there might be values unobserved yet OHE is recommended"
   ]
  },
  {
   "cell_type": "code",
   "execution_count": 62,
   "id": "e2598236-62c8-4e05-bcdd-6f8ea12b252e",
   "metadata": {},
   "outputs": [],
   "source": [
    "# only categorical (ordinal treated as numeric)\n",
    "cols_toDummyConvert = ['ProductCD',\n",
    "                       'DeviceType',  \n",
    "                       'id_28', \n",
    "                       'card6', \n",
    "                       'id_35', \n",
    "                       'id_29', \n",
    "                       'card4', \n",
    "                       'id_12', \n",
    "                       'id_36', \n",
    "                       'id_38', \n",
    "                       'id_37', \n",
    "                       'id_15', \n",
    "                       'id_31', \n",
    "                       'R_emaildomain',  \n",
    "                       'P_emaildomain'] "
   ]
  },
  {
   "cell_type": "code",
   "execution_count": 63,
   "id": "c9efca48-8a0b-470e-a5ca-15ec72c07af0",
   "metadata": {},
   "outputs": [],
   "source": [
    "# create dummy variables\n",
    "one_hot_encoded = pd.get_dummies(df_id_trans_remNA[cols_toDummyConvert])\n",
    "\n",
    "# add one-hot encoded columns to the original dataframe\n",
    "df_id_trans_remNA_dummyCols = pd.concat([df_id_trans_remNA, one_hot_encoded], axis=1)\n",
    "\n",
    "# drop encoded columns \n",
    "df_id_trans_remNA_dummyCols = df_id_trans_remNA_dummyCols.drop(columns = cols_toDummyConvert)"
   ]
  },
  {
   "cell_type": "markdown",
   "id": "69b6bc84-4718-4171-a036-0d5a402d22c0",
   "metadata": {
    "tags": []
   },
   "source": [
    "# Partition data"
   ]
  },
  {
   "cell_type": "code",
   "execution_count": 64,
   "id": "9714954d-8077-4011-b3db-de4c9225ebdc",
   "metadata": {},
   "outputs": [],
   "source": [
    "# define X and Y variables\n",
    "X = df_id_trans_remNA_dummyCols.drop(transaction_cols + outcome_cols, axis=1)\n",
    "y = df_id_trans_remNA_dummyCols['isFraud']\n",
    "\n",
    "# perform splitting \n",
    "X_train, X_test, y_train, y_test = model_selection.train_test_split(X, y, test_size = 0.3, stratify=y, random_state=100)"
   ]
  },
  {
   "cell_type": "markdown",
   "id": "4fb28324-6e68-46d3-a323-fb8ff85ce859",
   "metadata": {
    "tags": []
   },
   "source": [
    "# Impute missing values"
   ]
  },
  {
   "cell_type": "code",
   "execution_count": 65,
   "id": "66632caa-a454-406b-a6c1-d4577742a82a",
   "metadata": {},
   "outputs": [
    {
     "name": "stdout",
     "output_type": "stream",
     "text": [
      "Number of missing outcome variables:  0\n"
     ]
    }
   ],
   "source": [
    "# Check if outcome variable has missing values\n",
    "print(\"Number of missing outcome variables: \", sum(df_id_trans_remNA_dummyCols['isFraud'].isna()))"
   ]
  },
  {
   "cell_type": "code",
   "execution_count": 66,
   "id": "7c9f78ad-2668-46c4-9ba6-176df05b7a92",
   "metadata": {},
   "outputs": [],
   "source": [
    "# categorical columns to impute with mode\n",
    "cat_cols_remNA_toImpute = list(set(X.columns) - set(num_cols_remNA))"
   ]
  },
  {
   "cell_type": "code",
   "execution_count": 67,
   "id": "f067eba5-b240-4034-8b2b-288a3e704d76",
   "metadata": {},
   "outputs": [],
   "source": [
    "# numerical columns to impute with average\n",
    "num_cols_remNA = list(set(num_cols_remNA) - set(unary_variables))"
   ]
  },
  {
   "cell_type": "code",
   "execution_count": 68,
   "id": "17f6c9a7-d98c-450b-a70a-f4fef0f900ab",
   "metadata": {},
   "outputs": [],
   "source": [
    "#################### imputed missing values using: Python Data Science handbook by Jacob T. Vanderplas (O'Reilly)\n",
    "\n",
    "######### X df with all types \n",
    "X_train_imp = X_train.copy()\n",
    "X_test_imp = X_test.copy()\n",
    "\n",
    "# numerical predictors imputation\n",
    "imp_mean = SimpleImputer(strategy='mean')\n",
    "imp_mean = imp_mean.fit(X_train_imp[num_cols_remNA])\n",
    "X_train_imp[num_cols_remNA] = imp_mean.transform(X_train_imp[num_cols_remNA])\n",
    "X_test_imp[num_cols_remNA] = imp_mean.transform(X_test_imp[num_cols_remNA])\n",
    "\n",
    "# categorical predictors imputation\n",
    "imp_mode = SimpleImputer(strategy='most_frequent')\n",
    "imp_mode = imp_mode.fit(X_train_imp[cat_cols_remNA_toImpute])\n",
    "X_train_imp[cat_cols_remNA_toImpute] = imp_mode.transform(X_train_imp[cat_cols_remNA_toImpute])\n",
    "X_test_imp[cat_cols_remNA_toImpute] = imp_mode.transform(X_test_imp[cat_cols_remNA_toImpute])"
   ]
  },
  {
   "cell_type": "markdown",
   "id": "e061e6ee-4e2a-4da0-8294-8639d7e608a9",
   "metadata": {
    "tags": []
   },
   "source": [
    "# Scalling / normalizing"
   ]
  },
  {
   "cell_type": "code",
   "execution_count": 69,
   "id": "cfddf39c-9510-4127-9663-821592087485",
   "metadata": {},
   "outputs": [],
   "source": [
    "def scale_data_new(X_train, X_test, binary_cols):\n",
    "    \"\"\"\n",
    "    scale variables\n",
    "    \"\"\"\n",
    "    \n",
    "    # select non-binary cols for scaling\n",
    "    X_train_toScale = X_train.loc[:, ~X_train.columns.isin(binary_cols)]\n",
    "    X_test_toScale = X_test.loc[:, ~X_test.columns.isin(binary_cols)]\n",
    "    \n",
    "    # keep binary cols that will be later on merged to the main dataframe\n",
    "    X_train_dummy = X_train.loc[:, X_train.columns.isin(binary_cols)]\n",
    "    X_test_dummy = X_test.loc[:, X_test.columns.isin(binary_cols)]\n",
    "    \n",
    "    # fit scaler on the train set and then transform the train and test sets\n",
    "    scaler = StandardScaler()\n",
    "    X_train_scaled = scaler.fit_transform(X_train_toScale)\n",
    "    X_test_scaled = scaler.transform(X_test_toScale)\n",
    "    \n",
    "    # create df with scaled variables\n",
    "    X_train_scaled = pd.DataFrame(X_train_scaled, columns = X_train_toScale.columns, index = X_train_toScale.index)\n",
    "    X_test_scaled = pd.DataFrame(X_test_scaled, columns = X_test_toScale.columns, index = X_test_toScale.index)\n",
    "    \n",
    "    # concat with df containing binary variables\n",
    "    X_train_scaled = pd.concat([X_train_scaled, X_train_dummy], axis=1)\n",
    "    X_test_scaled = pd.concat([X_test_scaled, X_test_dummy], axis=1)\n",
    "    \n",
    "    return X_train_scaled, X_test_scaled"
   ]
  },
  {
   "cell_type": "markdown",
   "id": "37d8b649-74cb-46db-a540-450d15878ebc",
   "metadata": {
    "tags": []
   },
   "source": [
    "# Over / Under sampling"
   ]
  },
  {
   "cell_type": "code",
   "execution_count": 45,
   "id": "ff328c80-80be-41be-bb42-ed22c31b89e1",
   "metadata": {},
   "outputs": [],
   "source": [
    "########################## perform undersampling\n",
    "\n",
    "# merge X and y train\n",
    "train_imp = pd.concat([X_train_imp, y_train],axis=1)\n",
    "\n",
    "# Separate the majority and minority classes\n",
    "majority_class = train_imp[train_imp['isFraud'] == 0]\n",
    "minority_class = train_imp[train_imp['isFraud'] == 1]\n",
    "\n",
    "\n",
    "########## Undersampling\n",
    "\n",
    "# Undersample the majority class\n",
    "undersampled_majority = resample(majority_class, \n",
    "                                 replace=False, # sampling without replacement\n",
    "                                 n_samples=len(minority_class), # match minority n\n",
    "                                 random_state=100) # set random seed for reproducibility\n",
    "# Combine the minority class and undersampled majority class\n",
    "undersampled_training_set = pd.concat([minority_class, undersampled_majority])\n",
    "\n",
    "\n",
    "########## Oversampling\n",
    "\n",
    "# Undersample the majority class\n",
    "oversampled_minority = resample(minority_class, \n",
    "                                 replace=True, # sampling with replacement\n",
    "                                 n_samples=len(majority_class), # match minority n\n",
    "                                 random_state=100) # set random seed for reproducibility\n",
    "# Combine the minority class and undersampled majority class\n",
    "oversampled_training_set = pd.concat([majority_class, oversampled_minority])\n",
    "\n",
    "\n",
    "# prepare undersampled train sets\n",
    "X_train_imp_undersampled, y_train_undersampled = undersampled_training_set.drop('isFraud',axis=1), undersampled_training_set['isFraud']\n",
    "\n",
    "# prepare oversampled train sets\n",
    "X_train_imp_oversampled, y_train_oversampled = oversampled_training_set.drop('isFraud', axis=1), oversampled_training_set['isFraud']"
   ]
  },
  {
   "cell_type": "markdown",
   "id": "1ecf9ace-8f61-48d9-b85e-65d91067073d",
   "metadata": {},
   "source": [
    "# Feature selection"
   ]
  },
  {
   "cell_type": "markdown",
   "id": "d7c11d54-8dea-4e8e-8e46-f2a334fca8bc",
   "metadata": {
    "tags": []
   },
   "source": [
    "# Modelling"
   ]
  },
  {
   "cell_type": "markdown",
   "id": "2ca1c5a0-5dc1-4540-b435-6d16a74eee2f",
   "metadata": {},
   "source": [
    "## Functions"
   ]
  },
  {
   "cell_type": "code",
   "execution_count": 73,
   "id": "ab4b179f-af94-46fd-b5c7-2d1b983b9a31",
   "metadata": {},
   "outputs": [],
   "source": [
    "def plot_cm(cm):\n",
    "    \"\"\"\n",
    "    function to plot confusion matrix\n",
    "    \"\"\"\n",
    "    \n",
    "    fig, ax = plt.subplots()\n",
    "    sns.heatmap(cm, fmt='d', annot=True, square=True, cmap='Blues', vmin=1, vmax=1, linewidths=0.1, linecolor='k',cbar=False, ax=ax)\n",
    "    ax.set_title(\"Confusion Matrix\")\n",
    "    ax.set_xlabel(\"Predicted Class\")\n",
    "    ax.xaxis.label.set_size(12)\n",
    "    ax.set_ylabel('True Class')\n",
    "    ax.yaxis.label.set_size(12)\n",
    "    sns.despine(left=False, right=False, top=False, bottom=False)\n"
   ]
  },
  {
   "cell_type": "code",
   "execution_count": 74,
   "id": "ad213a63-9588-47f1-a37e-a269a7f3f5e0",
   "metadata": {},
   "outputs": [],
   "source": [
    "def plot_cutoff_f1(predicted_proba, y_test, thr):\n",
    "    \"\"\"\n",
    "    function to plot the f1 score for various cut-off values\"\n",
    "    \"\"\"\n",
    "    \n",
    "    # storage for f1 scores \n",
    "    dict_cutoff_f1 = {}\n",
    "    \n",
    "    # calculate f1 scores for various cut-off values\n",
    "    for i in np.arange(0,1.01,0.1):\n",
    "        dict_cutoff_f1[i] = round(f1_score(y_test, 1*(predicted_proba > i)),2)\n",
    "        print(f\"Cutoff = {i}\")\n",
    "    \n",
    "    # Create the line chart\n",
    "    x = dict_cutoff_f1.keys()\n",
    "    y = dict_cutoff_f1.values()\n",
    "    plt.plot(x, y, marker = 'o')\n",
    "\n",
    "    # Set the x-axis and y-axis labels\n",
    "    plt.xlabel('Cut-off value')\n",
    "    plt.ylabel('F1 score')\n",
    "    plt.ylim(0,1)\n",
    "    for i,j in zip(x, y):\n",
    "        if j > thr:\n",
    "            plt.annotate(str(j),xy=(i,j), xytext=(5,14), textcoords='offset points',ha='center')\n",
    "\n",
    "    # Display the chart\n",
    "    plt.show()\n",
    "    \n",
    "    return dict_cutoff_f1\n"
   ]
  },
  {
   "cell_type": "markdown",
   "id": "d135a7f1-49c6-4a7c-a5ca-3e2efc43e0cc",
   "metadata": {
    "tags": []
   },
   "source": [
    "## Naive benchmark"
   ]
  },
  {
   "cell_type": "code",
   "execution_count": 75,
   "id": "4b04f618-bb41-437c-9750-66865e9eebe8",
   "metadata": {},
   "outputs": [
    {
     "data": {
      "text/plain": [
       "0    0.921526\n",
       "1    0.078474\n",
       "Name: isFraud, dtype: float64"
      ]
     },
     "execution_count": 75,
     "metadata": {},
     "output_type": "execute_result"
    }
   ],
   "source": [
    "y_train.value_counts() / len(y_train)"
   ]
  },
  {
   "cell_type": "markdown",
   "id": "c3a19ac3-d770-4af5-ab3f-b1a13b352859",
   "metadata": {},
   "source": [
    "## Scoring measure"
   ]
  },
  {
   "cell_type": "code",
   "execution_count": 76,
   "id": "0f2a348b-361e-41c6-8c86-2d0b6c054b4d",
   "metadata": {
    "scrolled": true,
    "tags": []
   },
   "outputs": [
    {
     "data": {
      "text/plain": [
       "['accuracy',\n",
       " 'adjusted_mutual_info_score',\n",
       " 'adjusted_rand_score',\n",
       " 'average_precision',\n",
       " 'balanced_accuracy',\n",
       " 'completeness_score',\n",
       " 'explained_variance',\n",
       " 'f1',\n",
       " 'f1_macro',\n",
       " 'f1_micro',\n",
       " 'f1_samples',\n",
       " 'f1_weighted',\n",
       " 'fowlkes_mallows_score',\n",
       " 'homogeneity_score',\n",
       " 'jaccard',\n",
       " 'jaccard_macro',\n",
       " 'jaccard_micro',\n",
       " 'jaccard_samples',\n",
       " 'jaccard_weighted',\n",
       " 'max_error',\n",
       " 'mutual_info_score',\n",
       " 'neg_brier_score',\n",
       " 'neg_log_loss',\n",
       " 'neg_mean_absolute_error',\n",
       " 'neg_mean_absolute_percentage_error',\n",
       " 'neg_mean_gamma_deviance',\n",
       " 'neg_mean_poisson_deviance',\n",
       " 'neg_mean_squared_error',\n",
       " 'neg_mean_squared_log_error',\n",
       " 'neg_median_absolute_error',\n",
       " 'neg_root_mean_squared_error',\n",
       " 'normalized_mutual_info_score',\n",
       " 'precision',\n",
       " 'precision_macro',\n",
       " 'precision_micro',\n",
       " 'precision_samples',\n",
       " 'precision_weighted',\n",
       " 'r2',\n",
       " 'rand_score',\n",
       " 'recall',\n",
       " 'recall_macro',\n",
       " 'recall_micro',\n",
       " 'recall_samples',\n",
       " 'recall_weighted',\n",
       " 'roc_auc',\n",
       " 'roc_auc_ovo',\n",
       " 'roc_auc_ovo_weighted',\n",
       " 'roc_auc_ovr',\n",
       " 'roc_auc_ovr_weighted',\n",
       " 'top_k_accuracy',\n",
       " 'v_measure_score']"
      ]
     },
     "execution_count": 76,
     "metadata": {},
     "output_type": "execute_result"
    }
   ],
   "source": [
    "# examine sklearn scoring measure options\n",
    "sorted(SCORERS.keys())"
   ]
  },
  {
   "cell_type": "markdown",
   "id": "ca9a52f9-7768-4e02-98d0-3c865fb0ed62",
   "metadata": {
    "tags": []
   },
   "source": [
    "## Decision Trees"
   ]
  },
  {
   "cell_type": "markdown",
   "id": "bb448963-3930-4938-9dba-c9cd73f745d5",
   "metadata": {},
   "source": [
    "### Hyperparameter tunning"
   ]
  },
  {
   "cell_type": "markdown",
   "id": "2b47d5c1-0446-460b-acec-af9a5744d487",
   "metadata": {},
   "source": [
    "#### Randomized search"
   ]
  },
  {
   "cell_type": "code",
   "execution_count": 77,
   "id": "3d0a9bec-d485-4e3c-8970-ee8cb4edcb54",
   "metadata": {},
   "outputs": [
    {
     "name": "stdout",
     "output_type": "stream",
     "text": [
      "Fitting 15 folds for each of 50 candidates, totalling 750 fits\n",
      "{'random_state': 100, 'min_samples_leaf': 8, 'max_features': None, 'max_depth': 40, 'criterion': 'gini', 'class_weight': {0: 1, 1: 1}}\n",
      "0.6809569267059599\n"
     ]
    }
   ],
   "source": [
    "############### run randomised grid search to find reasonable hyperparameter values\n",
    "\n",
    "# 5-fold cv \n",
    "cv = RepeatedStratifiedKFold(n_splits=5, n_repeats=3, random_state=100)\n",
    "\n",
    "# define grid with hyperparameter values\n",
    "param_grid_decisionTree_randomized = {\n",
    "        'criterion': [\"gini\", \"entropy\"],\n",
    "        \"max_depth\": list(np.arange(10,51,10)) + [None],\n",
    "        \"min_samples_leaf\": np.arange(1,11,1),\n",
    "        \"max_features\" : [\"auto\", \"sqrt\", \"log2\", None],\n",
    "        \"class_weight\" : [{0:1, 1:1},{0:1, 1:2},{0:1, 1:3}, {0:1, 1:4}, {0:1, 1:5},  {0:1, 1:7}, {0:1, 1:10}, {0:1, 1:14}, {0:1, 1:20}],\n",
    "        \"random_state\" : [100]\n",
    "    }\n",
    "\n",
    "# randomised grid search with f1 scoring metric\n",
    "grid_decisionTree_randomized = RandomizedSearchCV(DecisionTreeClassifier(), param_grid_decisionTree_randomized, cv=cv, scoring='f1', n_iter = 50, verbose=1, n_jobs=-1, random_state=100)\n",
    "grid_decisionTree_randomized.fit(X_train_imp, y_train);\n",
    "\n",
    "# print best parameters and score\n",
    "print(grid_decisionTree_randomized.best_params_)\n",
    "print(grid_decisionTree_randomized.best_score_)"
   ]
  },
  {
   "cell_type": "code",
   "execution_count": 78,
   "id": "ce1e8d0d-c60e-48ab-bcf3-591a51fdfd54",
   "metadata": {},
   "outputs": [],
   "source": [
    "######### save results as a pickle file \n",
    "\n",
    "# with open('grid_decisionTree_randomized_bestParams.pkl', 'wb') as f:\n",
    "#     pickle.dump(grid_decisionTree_randomized.best_params_, f)\n",
    "# with open('grid_decisionTree_randomized_bestF1score.pkl', 'wb') as f:\n",
    "#     pickle.dump(grid_decisionTree_randomized.best_score_, f)\n",
    "# with open('grid_decisionTree_randomized_cvResults.pkl', 'wb') as f:\n",
    "#     pickle.dump(grid_decisionTree_randomized.cv_results_, f)"
   ]
  },
  {
   "cell_type": "code",
   "execution_count": 80,
   "id": "8ffa3fd7-565f-4840-af21-9d91e41da5a4",
   "metadata": {},
   "outputs": [
    {
     "name": "stdout",
     "output_type": "stream",
     "text": [
      "0.6809569267059599\n"
     ]
    },
    {
     "data": {
      "text/plain": [
       "{'random_state': 100,\n",
       " 'min_samples_leaf': 8,\n",
       " 'max_features': None,\n",
       " 'max_depth': 40,\n",
       " 'criterion': 'gini',\n",
       " 'class_weight': {0: 1, 1: 1}}"
      ]
     },
     "execution_count": 80,
     "metadata": {},
     "output_type": "execute_result"
    }
   ],
   "source": [
    "####### read pickle file with results \n",
    "\n",
    "with open('grid_decisionTree_randomized_bestParams.pkl', 'rb') as f:\n",
    "    grid_decisionTree_randomized_bestParams = pickle.load(f)\n",
    "with open('grid_decisionTree_randomized_bestF1score.pkl', 'rb') as f:\n",
    "    grid_decisionTree_randomized_bestF1score = pickle.load(f)\n",
    "with open('grid_decisionTree_randomized_cvResults.pkl', 'rb') as f:\n",
    "    grid_decisionTree_randomizcvResults = pickle.load(f)\n",
    "\n",
    "print(grid_decisionTree_randomized_bestF1score)\n",
    "grid_decisionTree_randomized_bestParams"
   ]
  },
  {
   "cell_type": "markdown",
   "id": "b796e7c3-523e-4c44-ad83-9bc99b4c9ed7",
   "metadata": {},
   "source": [
    "#### Complete grid search"
   ]
  },
  {
   "cell_type": "code",
   "execution_count": 81,
   "id": "8e7664e3-ff6f-494f-994d-cb8c166beed0",
   "metadata": {},
   "outputs": [
    {
     "name": "stdout",
     "output_type": "stream",
     "text": [
      "Fitting 15 folds for each of 180 candidates, totalling 2700 fits\n",
      "{'class_weight': {0: 1, 1: 1}, 'criterion': 'gini', 'max_depth': 38, 'max_features': None, 'min_samples_leaf': 8, 'random_state': 100}\n"
     ]
    },
    {
     "data": {
      "text/plain": [
       "0.6819652377893634"
      ]
     },
     "execution_count": 81,
     "metadata": {},
     "output_type": "execute_result"
    }
   ],
   "source": [
    "############### run complete grid search to find best hyperparameter values (among tested)\n",
    "\n",
    "# 5-fold cv \n",
    "cv = RepeatedStratifiedKFold(n_splits=5, n_repeats=3, random_state=100)\n",
    "\n",
    "# define grid with hyperparameter values\n",
    "param_grid_decisionTree_GridSearch = {\n",
    "    'criterion': [\"gini\", \"entropy\"],\n",
    "    \"max_depth\": list(np.arange(38,43,1)) + [None],\n",
    "    \"min_samples_leaf\": [7,8,9],\n",
    "    \"max_features\" :  [None],\n",
    "    \"class_weight\" : [{0:1, 1:1},{0:1, 1:2},{0:1, 1:3}, {0:1, 1:4}, {0:1, 1:5}],\n",
    "    \"random_state\" : [100]\n",
    "}\n",
    "\n",
    "# exhaustive grid search with f1 scoring metric\n",
    "grid_decisionTree_GridSearch = GridSearchCV(DecisionTreeClassifier(), param_grid_decisionTree_GridSearch, cv=cv, scoring='f1', verbose=1, n_jobs=-1)\n",
    "grid_decisionTree_GridSearch.fit(X_train_imp, y_train);\n",
    "\n",
    "# print best hyperparameters and f1 score\n",
    "print(grid_decisionTree_GridSearch.best_params_)\n",
    "grid_decisionTree_GridSearch.best_score_"
   ]
  },
  {
   "cell_type": "code",
   "execution_count": 83,
   "id": "17fa49f6-b94d-4c6e-b68d-84edc33b938d",
   "metadata": {},
   "outputs": [],
   "source": [
    "######### save results as a pickle file \n",
    "\n",
    "# with open('grid_decisionTree_GridSearch_bestParams.pkl', 'wb') as f:\n",
    "#      pickle.dump(grid_decisionTree_GridSearch.best_params_, f)\n",
    "# with open('grid_decisionTree_GridSearch_bestF1score.pkl', 'wb') as f:\n",
    "#      pickle.dump(grid_decisionTree_GridSearch.best_score_, f)\n",
    "# with open('grid_decisionTree_GridSearch_cvResults.pkl', 'wb') as f:\n",
    "#      pickle.dump(grid_decisionTree_GridSearch.cv_results_, f)"
   ]
  },
  {
   "cell_type": "code",
   "execution_count": 84,
   "id": "0b3a9b31-bf5a-401f-8b03-336069348418",
   "metadata": {},
   "outputs": [
    {
     "name": "stdout",
     "output_type": "stream",
     "text": [
      "0.6819652377893634\n"
     ]
    },
    {
     "data": {
      "text/plain": [
       "{'class_weight': {0: 1, 1: 1},\n",
       " 'criterion': 'gini',\n",
       " 'max_depth': 38,\n",
       " 'max_features': None,\n",
       " 'min_samples_leaf': 8,\n",
       " 'random_state': 100}"
      ]
     },
     "execution_count": 84,
     "metadata": {},
     "output_type": "execute_result"
    }
   ],
   "source": [
    "####### read pickle file with results \n",
    "\n",
    "with open('grid_decisionTree_GridSearch_bestParams.pkl', 'rb') as f:\n",
    "    grid_decisionTree_GridSearch_bestParams = pickle.load(f)\n",
    "with open('grid_decisionTree_GridSearch_bestF1score.pkl', 'rb') as f:\n",
    "    grid_decisionTree_GridSearch_bestF1score = pickle.load(f)\n",
    "with open('grid_decisionTree_GridSearch_cvResults.pkl', 'rb') as f:\n",
    "    grid_decisionTree_GridSearch_cvResults = pickle.load(f)\n",
    "    \n",
    "print(grid_decisionTree_GridSearch_bestF1score)\n",
    "grid_decisionTree_GridSearch_bestParams"
   ]
  },
  {
   "cell_type": "markdown",
   "id": "28d493a2-0bde-4e05-88d6-eb6cbdd907c7",
   "metadata": {},
   "source": [
    "### Fit and predict"
   ]
  },
  {
   "cell_type": "code",
   "execution_count": 85,
   "id": "c68a7fd0-dac2-4ca3-be62-ebb2e0e085e2",
   "metadata": {},
   "outputs": [
    {
     "data": {
      "text/plain": [
       "array([[39215,   660],\n",
       "       [ 1215,  2180]])"
      ]
     },
     "metadata": {},
     "output_type": "display_data"
    },
    {
     "name": "stdout",
     "output_type": "stream",
     "text": [
      "0.6992782678428228\n"
     ]
    }
   ],
   "source": [
    "# create decision tree instance\n",
    "decisionTree = DecisionTreeClassifier(\n",
    "    criterion = grid_decisionTree_GridSearch_bestParams[\"criterion\"],\n",
    "    max_depth = grid_decisionTree_GridSearch_bestParams[\"max_depth\"],\n",
    "    min_samples_leaf = grid_decisionTree_GridSearch_bestParams[\"min_samples_leaf\"],\n",
    "    max_features = grid_decisionTree_GridSearch_bestParams[\"max_features\"],\n",
    "    class_weight=  grid_decisionTree_GridSearch_bestParams['class_weight'],\n",
    "    random_state=100)\n",
    "\n",
    "# fit decision tree model\n",
    "decisionTree = decisionTree.fit(X_train_imp, y_train)\n",
    "\n",
    "######### pickle (to save time when reloading notebook again)\n",
    "# with open('decisionTree.pkl', 'wb') as f:\n",
    "#     pickle.dump(decisionTree, f)\n",
    "# with open('decisionTree.pkl', 'rb') as f:\n",
    "#     decisionTree = pickle.load(f)\n",
    "\n",
    "# perform prediction\n",
    "pred_decisionTree = decisionTree.predict(X_test_imp)\n",
    "\n",
    "# show confusion matrix and f1 score\n",
    "display(confusion_matrix(y_test, pred_decisionTree))\n",
    "print(f1_score(y_test, pred_decisionTree))"
   ]
  },
  {
   "cell_type": "code",
   "execution_count": 89,
   "id": "635a3991-e727-4704-9dab-b5b776d1a550",
   "metadata": {},
   "outputs": [
    {
     "data": {
      "image/png": "[encoded data removed]",
      "text/plain": [
       "<Figure size 432x288 with 1 Axes>"
      ]
     },
     "metadata": {
      "needs_background": "light"
     },
     "output_type": "display_data"
    }
   ],
   "source": [
    "# plot confusion matrix\n",
    "cm_decisionTree = confusion_matrix(y_test, pred_decisionTree)\n",
    "plot_cm(cm_decisionTree)"
   ]
  },
  {
   "cell_type": "code",
   "execution_count": 90,
   "id": "9641b25b-6bae-4295-a7c7-ac1382ad7d0f",
   "metadata": {},
   "outputs": [
    {
     "data": {
      "text/html": [
       "<div>\n",
       "<style scoped>\n",
       "    .dataframe tbody tr th:only-of-type {\n",
       "        vertical-align: middle;\n",
       "    }\n",
       "\n",
       "    .dataframe tbody tr th {\n",
       "        vertical-align: top;\n",
       "    }\n",
       "\n",
       "    .dataframe thead th {\n",
       "        text-align: right;\n",
       "    }\n",
       "</style>\n",
       "<table border=\"1\" class=\"dataframe\">\n",
       "  <thead>\n",
       "    <tr style=\"text-align: right;\">\n",
       "      <th></th>\n",
       "      <th>Metric</th>\n",
       "      <th>Score</th>\n",
       "    </tr>\n",
       "  </thead>\n",
       "  <tbody>\n",
       "    <tr>\n",
       "      <th>0</th>\n",
       "      <td>f1</td>\n",
       "      <td>0.699278</td>\n",
       "    </tr>\n",
       "    <tr>\n",
       "      <th>1</th>\n",
       "      <td>precision</td>\n",
       "      <td>0.767606</td>\n",
       "    </tr>\n",
       "    <tr>\n",
       "      <th>2</th>\n",
       "      <td>recall</td>\n",
       "      <td>0.642121</td>\n",
       "    </tr>\n",
       "    <tr>\n",
       "      <th>3</th>\n",
       "      <td>accuracy</td>\n",
       "      <td>0.956667</td>\n",
       "    </tr>\n",
       "  </tbody>\n",
       "</table>\n",
       "</div>"
      ],
      "text/plain": [
       "      Metric     Score\n",
       "0         f1  0.699278\n",
       "1  precision  0.767606\n",
       "2     recall  0.642121\n",
       "3   accuracy  0.956667"
      ]
     },
     "metadata": {},
     "output_type": "display_data"
    }
   ],
   "source": [
    "# calculate various scores\n",
    "display(pd.DataFrame(\n",
    "    {\"Metric\" : [\"f1\", \"precision\", \"recall\", \"accuracy\"], \n",
    "     \"Score\" : [f1_score(y_test, pred_decisionTree), precision_score(y_test, pred_decisionTree),recall_score(y_test, pred_decisionTree), accuracy_score(y_test, pred_decisionTree)]}))\n",
    "    "
   ]
  },
  {
   "cell_type": "code",
   "execution_count": 88,
   "id": "d7256cf7-89cd-4630-99d9-8b3d43aab486",
   "metadata": {},
   "outputs": [
    {
     "data": {
      "image/png": "[encoded data removed]",
      "text/plain": [
       "<Figure size 1800x1440 with 1 Axes>"
      ]
     },
     "metadata": {
      "needs_background": "light"
     },
     "output_type": "display_data"
    }
   ],
   "source": [
    "# plot decision tree\n",
    "fig = plt.figure(figsize=(25,20))\n",
    "_ = plot_tree(decisionTree, feature_names=X_train_imp.columns,max_depth=2, filled=True)"
   ]
  },
  {
   "cell_type": "markdown",
   "id": "244c406e-a3fc-4c5a-94a3-5201fc6dc3d3",
   "metadata": {},
   "source": [
    "### Cutofff"
   ]
  },
  {
   "cell_type": "code",
   "execution_count": 91,
   "id": "e03f6f0b-64d8-4c65-a1f9-b23f7cd14ce7",
   "metadata": {},
   "outputs": [
    {
     "name": "stdout",
     "output_type": "stream",
     "text": [
      "Cutoff = 0.0\n",
      "Cutoff = 0.1\n",
      "Cutoff = 0.2\n",
      "Cutoff = 0.30000000000000004\n",
      "Cutoff = 0.4\n",
      "Cutoff = 0.5\n",
      "Cutoff = 0.6000000000000001\n",
      "Cutoff = 0.7000000000000001\n",
      "Cutoff = 0.8\n",
      "Cutoff = 0.9\n",
      "Cutoff = 1.0\n"
     ]
    },
    {
     "data": {
      "image/png": "[encoded data removed]",
      "text/plain": [
       "<Figure size 432x288 with 1 Axes>"
      ]
     },
     "metadata": {
      "needs_background": "light"
     },
     "output_type": "display_data"
    },
    {
     "data": {
      "text/plain": [
       "{0.0: 0.45,\n",
       " 0.1: 0.55,\n",
       " 0.2: 0.62,\n",
       " 0.30000000000000004: 0.67,\n",
       " 0.4: 0.69,\n",
       " 0.5: 0.7,\n",
       " 0.6000000000000001: 0.7,\n",
       " 0.7000000000000001: 0.69,\n",
       " 0.8: 0.66,\n",
       " 0.9: 0.63,\n",
       " 1.0: 0.0}"
      ]
     },
     "execution_count": 91,
     "metadata": {},
     "output_type": "execute_result"
    }
   ],
   "source": [
    "# plot f1 scores for various cut-off values\n",
    "plot_cutoff_f1(decisionTree.predict_proba(X_test_imp)[:,1], y_test, 0.2)"
   ]
  },
  {
   "cell_type": "markdown",
   "id": "f4eecb55-b1f8-415d-b163-0fb09946afa1",
   "metadata": {
    "tags": []
   },
   "source": [
    "## Random Forest Classifier"
   ]
  },
  {
   "cell_type": "markdown",
   "id": "126366ef-1961-4e03-8954-e8281d567f6b",
   "metadata": {},
   "source": [
    "### Randomized Search"
   ]
  },
  {
   "cell_type": "code",
   "execution_count": 92,
   "id": "72c80d9c-ce0f-4206-9d4c-bce332f16904",
   "metadata": {
    "scrolled": true,
    "tags": []
   },
   "outputs": [
    {
     "name": "stdout",
     "output_type": "stream",
     "text": [
      "Fitting 5 folds for each of 20 candidates, totalling 100 fits\n",
      "[CV 3/5] END bootstrap=True, class_weight={0: 1, 1: 5}, criterion=gini, max_depth=None, max_features=auto, n_estimators=150, random_state=100;, score=0.709 total time=  33.0s\n",
      "[CV 2/5] END bootstrap=False, class_weight={0: 1, 1: 5}, criterion=gini, max_depth=None, max_features=None, n_estimators=150, random_state=100;, score=0.676 total time=11.9min\n",
      "[CV 1/5] END bootstrap=True, class_weight={0: 1, 1: 3}, criterion=gini, max_depth=31, max_features=auto, n_estimators=200, random_state=100;, score=0.710 total time=  44.1s\n",
      "[CV 5/5] END bootstrap=True, class_weight={0: 1, 1: 3}, criterion=gini, max_depth=31, max_features=auto, n_estimators=200, random_state=100;, score=0.725 total time=  44.7s\n",
      "[CV 4/5] END bootstrap=False, class_weight={0: 1, 1: 3}, criterion=gini, max_depth=31, max_features=None, n_estimators=200, random_state=100;, score=0.683 total time=17.5min\n",
      "[CV 2/5] END bootstrap=True, class_weight={0: 1, 1: 5}, criterion=entropy, max_depth=None, max_features=auto, n_estimators=100, random_state=100;, score=0.720 total time=  21.4s\n",
      "[CV 1/5] END bootstrap=True, class_weight={0: 1, 1: 1}, criterion=gini, max_depth=31, max_features=None, n_estimators=100, random_state=100;, score=0.760 total time= 6.6min\n",
      "[CV 1/5] END bootstrap=False, class_weight={0: 1, 1: 1}, criterion=entropy, max_depth=41, max_features=None, n_estimators=200, random_state=100;, score=0.671 total time=13.3min\n",
      "[CV 3/5] END bootstrap=False, class_weight={0: 1, 1: 3}, criterion=gini, max_depth=21, max_features=None, n_estimators=150, random_state=100;, score=0.688 total time=10.7min\n",
      "[CV 2/5] END bootstrap=False, class_weight={0: 1, 1: 5}, criterion=gini, max_depth=31, max_features=auto, n_estimators=100, random_state=100;, score=0.738 total time=  32.2s\n",
      "[CV 5/5] END bootstrap=True, class_weight={0: 1, 1: 5}, criterion=gini, max_depth=None, max_features=auto, n_estimators=150, random_state=100;, score=0.713 total time=  33.1s\n",
      "[CV 4/5] END bootstrap=False, class_weight={0: 1, 1: 5}, criterion=gini, max_depth=None, max_features=None, n_estimators=150, random_state=100;, score=0.674 total time=12.0min\n",
      "[CV 2/5] END bootstrap=True, class_weight={0: 1, 1: 3}, criterion=gini, max_depth=31, max_features=auto, n_estimators=200, random_state=100;, score=0.725 total time=  44.6s\n",
      "[CV 1/5] END bootstrap=False, class_weight={0: 1, 1: 3}, criterion=gini, max_depth=31, max_features=None, n_estimators=200, random_state=100;, score=0.668 total time=18.4min\n",
      "[CV 5/5] END bootstrap=True, class_weight={0: 1, 1: 5}, criterion=entropy, max_depth=None, max_features=auto, n_estimators=100, random_state=100;, score=0.725 total time=  21.7s\n",
      "[CV 5/5] END bootstrap=True, class_weight={0: 1, 1: 1}, criterion=gini, max_depth=31, max_features=None, n_estimators=100, random_state=100;, score=0.776 total time= 6.6min\n",
      "[CV 4/5] END bootstrap=False, class_weight={0: 1, 1: 1}, criterion=entropy, max_depth=41, max_features=None, n_estimators=200, random_state=100;, score=0.681 total time=12.8min\n",
      "[CV 1/5] END bootstrap=False, class_weight={0: 1, 1: 3}, criterion=gini, max_depth=21, max_features=None, n_estimators=150, random_state=100;, score=0.680 total time=11.0min\n",
      "[CV 3/5] END bootstrap=False, class_weight={0: 1, 1: 5}, criterion=gini, max_depth=31, max_features=auto, n_estimators=100, random_state=100;, score=0.731 total time=  31.2s\n",
      "[CV 4/5] END bootstrap=True, class_weight={0: 1, 1: 5}, criterion=gini, max_depth=None, max_features=auto, n_estimators=150, random_state=100;, score=0.719 total time=  32.7s\n",
      "[CV 1/5] END bootstrap=False, class_weight={0: 1, 1: 5}, criterion=gini, max_depth=None, max_features=None, n_estimators=150, random_state=100;, score=0.662 total time=12.2min\n",
      "[CV 3/5] END bootstrap=True, class_weight={0: 1, 1: 3}, criterion=gini, max_depth=31, max_features=auto, n_estimators=200, random_state=100;, score=0.717 total time=  44.4s\n",
      "[CV 2/5] END bootstrap=False, class_weight={0: 1, 1: 3}, criterion=gini, max_depth=31, max_features=None, n_estimators=200, random_state=100;, score=0.686 total time=17.8min\n",
      "[CV 1/5] END bootstrap=True, class_weight={0: 1, 1: 5}, criterion=entropy, max_depth=None, max_features=auto, n_estimators=100, random_state=100;, score=0.706 total time=  20.8s\n",
      "[CV 3/5] END bootstrap=True, class_weight={0: 1, 1: 5}, criterion=entropy, max_depth=None, max_features=auto, n_estimators=100, random_state=100;, score=0.717 total time=  21.6s\n",
      "[CV 2/5] END bootstrap=True, class_weight={0: 1, 1: 1}, criterion=gini, max_depth=31, max_features=None, n_estimators=100, random_state=100;, score=0.753 total time= 6.7min\n",
      "[CV 3/5] END bootstrap=False, class_weight={0: 1, 1: 1}, criterion=entropy, max_depth=41, max_features=None, n_estimators=200, random_state=100;, score=0.661 total time=13.3min\n",
      "[CV 4/5] END bootstrap=False, class_weight={0: 1, 1: 3}, criterion=gini, max_depth=21, max_features=None, n_estimators=150, random_state=100;, score=0.693 total time=10.7min\n",
      "[CV 4/5] END bootstrap=False, class_weight={0: 1, 1: 5}, criterion=gini, max_depth=31, max_features=auto, n_estimators=100, random_state=100;, score=0.742 total time=  30.3s\n",
      "[CV 1/5] END bootstrap=False, class_weight={0: 1, 1: 5}, criterion=gini, max_depth=31, max_features=None, n_estimators=100, random_state=100;, score=0.660 total time= 8.1min\n",
      "[CV 3/5] END bootstrap=True, class_weight={0: 1, 1: 3}, criterion=gini, max_depth=None, max_features=None, n_estimators=250, random_state=100;, score=0.756 total time=14.8min\n",
      "[CV 3/5] END bootstrap=False, class_weight={0: 1, 1: 3}, criterion=gini, max_depth=31, max_features=auto, n_estimators=250, random_state=100;, score=0.732 total time= 1.4min\n",
      "[CV 3/5] END bootstrap=False, class_weight={0: 1, 1: 3}, criterion=gini, max_depth=21, max_features=auto, n_estimators=100, random_state=100;, score=0.734 total time=  29.0s\n",
      "[CV 2/5] END bootstrap=True, class_weight={0: 1, 1: 5}, criterion=entropy, max_depth=31, max_features=auto, n_estimators=100, random_state=100;, score=0.731 total time=  21.7s\n",
      "[CV 2/5] END bootstrap=False, class_weight={0: 1, 1: 3}, criterion=entropy, max_depth=21, max_features=auto, n_estimators=200, random_state=100;, score=0.749 total time=  58.9s\n",
      "[CV 2/5] END bootstrap=True, class_weight={0: 1, 1: 1}, criterion=entropy, max_depth=21, max_features=None, n_estimators=250, random_state=100;, score=0.757 total time=10.7min\n",
      "[CV 3/5] END bootstrap=False, class_weight={0: 1, 1: 1}, criterion=gini, max_depth=21, max_features=None, n_estimators=250, random_state=100;, score=0.700 total time=19.7min\n",
      "[CV 5/5] END bootstrap=True, class_weight={0: 1, 1: 1}, criterion=entropy, max_depth=None, max_features=auto, n_estimators=100, random_state=100;, score=0.731 total time=  21.4s\n",
      "[CV 5/5] END bootstrap=False, class_weight={0: 1, 1: 5}, criterion=entropy, max_depth=21, max_features=None, n_estimators=100, random_state=100;, score=0.682 total time= 6.2min\n",
      "[CV 1/5] END bootstrap=True, class_weight={0: 1, 1: 5}, criterion=gini, max_depth=None, max_features=auto, n_estimators=150, random_state=100;, score=0.711 total time=  33.1s\n",
      "[CV 3/5] END bootstrap=False, class_weight={0: 1, 1: 5}, criterion=gini, max_depth=None, max_features=None, n_estimators=150, random_state=100;, score=0.674 total time=13.4min\n",
      "[CV 5/5] END bootstrap=False, class_weight={0: 1, 1: 3}, criterion=gini, max_depth=31, max_features=None, n_estimators=200, random_state=100;, score=0.683 total time=18.1min\n",
      "[CV 3/5] END bootstrap=True, class_weight={0: 1, 1: 1}, criterion=gini, max_depth=31, max_features=None, n_estimators=100, random_state=100;, score=0.766 total time= 6.7min\n",
      "[CV 5/5] END bootstrap=False, class_weight={0: 1, 1: 1}, criterion=entropy, max_depth=41, max_features=None, n_estimators=200, random_state=100;, score=0.675 total time=13.3min\n",
      "[CV 5/5] END bootstrap=False, class_weight={0: 1, 1: 3}, criterion=gini, max_depth=21, max_features=None, n_estimators=150, random_state=100;, score=0.695 total time=10.8min\n",
      "[CV 5/5] END bootstrap=False, class_weight={0: 1, 1: 5}, criterion=gini, max_depth=31, max_features=auto, n_estimators=100, random_state=100;, score=0.738 total time=  29.0s\n",
      "[CV 4/5] END bootstrap=False, class_weight={0: 1, 1: 5}, criterion=gini, max_depth=31, max_features=None, n_estimators=100, random_state=100;, score=0.667 total time= 7.9min\n",
      "[CV 1/5] END bootstrap=True, class_weight={0: 1, 1: 3}, criterion=gini, max_depth=None, max_features=None, n_estimators=250, random_state=100;, score=0.749 total time=14.8min\n",
      "[CV 1/5] END bootstrap=False, class_weight={0: 1, 1: 3}, criterion=gini, max_depth=31, max_features=auto, n_estimators=250, random_state=100;, score=0.738 total time= 1.4min\n",
      "[CV 1/5] END bootstrap=False, class_weight={0: 1, 1: 3}, criterion=gini, max_depth=21, max_features=auto, n_estimators=100, random_state=100;, score=0.739 total time=  29.1s\n",
      "[CV 5/5] END bootstrap=False, class_weight={0: 1, 1: 3}, criterion=gini, max_depth=21, max_features=auto, n_estimators=100, random_state=100;, score=0.747 total time=  29.2s\n",
      "[CV 1/5] END bootstrap=False, class_weight={0: 1, 1: 3}, criterion=entropy, max_depth=21, max_features=auto, n_estimators=200, random_state=100;, score=0.738 total time=  58.8s\n",
      "[CV 1/5] END bootstrap=True, class_weight={0: 1, 1: 1}, criterion=entropy, max_depth=21, max_features=None, n_estimators=250, random_state=100;, score=0.749 total time=10.5min\n",
      "[CV 1/5] END bootstrap=False, class_weight={0: 1, 1: 1}, criterion=gini, max_depth=21, max_features=None, n_estimators=250, random_state=100;, score=0.687 total time=19.7min\n",
      "[CV 2/5] END bootstrap=True, class_weight={0: 1, 1: 1}, criterion=entropy, max_depth=None, max_features=auto, n_estimators=100, random_state=100;, score=0.729 total time=  21.3s\n",
      "[CV 1/5] END bootstrap=False, class_weight={0: 1, 1: 5}, criterion=entropy, max_depth=21, max_features=None, n_estimators=100, random_state=100;, score=0.660 total time= 6.2min\n",
      "[CV 2/5] END bootstrap=False, class_weight={0: 1, 1: 5}, criterion=gini, max_depth=41, max_features=None, n_estimators=150, random_state=100;, score=0.675 total time= 9.2min\n",
      "[CV 2/5] END bootstrap=True, class_weight={0: 1, 1: 5}, criterion=gini, max_depth=None, max_features=auto, n_estimators=150, random_state=100;, score=0.720 total time=  33.4s\n",
      "[CV 5/5] END bootstrap=False, class_weight={0: 1, 1: 5}, criterion=gini, max_depth=None, max_features=None, n_estimators=150, random_state=100;, score=0.672 total time=12.4min\n",
      "[CV 4/5] END bootstrap=True, class_weight={0: 1, 1: 3}, criterion=gini, max_depth=31, max_features=auto, n_estimators=200, random_state=100;, score=0.720 total time=  44.2s\n",
      "[CV 3/5] END bootstrap=False, class_weight={0: 1, 1: 3}, criterion=gini, max_depth=31, max_features=None, n_estimators=200, random_state=100;, score=0.669 total time=18.0min\n",
      "[CV 4/5] END bootstrap=True, class_weight={0: 1, 1: 5}, criterion=entropy, max_depth=None, max_features=auto, n_estimators=100, random_state=100;, score=0.721 total time=  21.2s\n",
      "[CV 4/5] END bootstrap=True, class_weight={0: 1, 1: 1}, criterion=gini, max_depth=31, max_features=None, n_estimators=100, random_state=100;, score=0.773 total time= 6.6min\n",
      "[CV 2/5] END bootstrap=False, class_weight={0: 1, 1: 1}, criterion=entropy, max_depth=41, max_features=None, n_estimators=200, random_state=100;, score=0.660 total time=13.0min\n",
      "[CV 2/5] END bootstrap=False, class_weight={0: 1, 1: 3}, criterion=gini, max_depth=21, max_features=None, n_estimators=150, random_state=100;, score=0.703 total time=10.7min\n",
      "[CV 1/5] END bootstrap=False, class_weight={0: 1, 1: 5}, criterion=gini, max_depth=31, max_features=auto, n_estimators=100, random_state=100;, score=0.734 total time=  32.2s\n",
      "[CV 4/5] END bootstrap=False, class_weight={0: 1, 1: 5}, criterion=gini, max_depth=41, max_features=None, n_estimators=150, random_state=100;, score=0.672 total time= 9.2min\n",
      "[CV 5/5] END bootstrap=False, class_weight={0: 1, 1: 5}, criterion=gini, max_depth=31, max_features=None, n_estimators=100, random_state=100;, score=0.672 total time= 8.2min\n",
      "[CV 4/5] END bootstrap=True, class_weight={0: 1, 1: 3}, criterion=gini, max_depth=None, max_features=None, n_estimators=250, random_state=100;, score=0.761 total time=14.6min\n",
      "[CV 2/5] END bootstrap=False, class_weight={0: 1, 1: 3}, criterion=gini, max_depth=31, max_features=auto, n_estimators=250, random_state=100;, score=0.747 total time= 1.4min\n",
      "[CV 2/5] END bootstrap=False, class_weight={0: 1, 1: 3}, criterion=gini, max_depth=21, max_features=auto, n_estimators=100, random_state=100;, score=0.744 total time=  28.9s\n",
      "[CV 1/5] END bootstrap=True, class_weight={0: 1, 1: 5}, criterion=entropy, max_depth=31, max_features=auto, n_estimators=100, random_state=100;, score=0.715 total time=  20.5s\n",
      "[CV 5/5] END bootstrap=True, class_weight={0: 1, 1: 5}, criterion=entropy, max_depth=31, max_features=auto, n_estimators=100, random_state=100;, score=0.725 total time=  21.3s\n",
      "[CV 5/5] END bootstrap=False, class_weight={0: 1, 1: 3}, criterion=entropy, max_depth=21, max_features=auto, n_estimators=200, random_state=100;, score=0.751 total time=  58.4s\n",
      "[CV 5/5] END bootstrap=True, class_weight={0: 1, 1: 1}, criterion=entropy, max_depth=21, max_features=None, n_estimators=250, random_state=100;, score=0.766 total time=10.6min\n",
      "[CV 5/5] END bootstrap=False, class_weight={0: 1, 1: 1}, criterion=gini, max_depth=21, max_features=None, n_estimators=250, random_state=100;, score=0.708 total time=19.2min\n",
      "[CV 1/5] END bootstrap=True, class_weight={0: 1, 1: 1}, criterion=entropy, max_depth=None, max_features=auto, n_estimators=100, random_state=100;, score=0.719 total time=  20.8s\n",
      "[CV 4/5] END bootstrap=True, class_weight={0: 1, 1: 1}, criterion=entropy, max_depth=None, max_features=auto, n_estimators=100, random_state=100;, score=0.724 total time=  20.9s\n",
      "[CV 4/5] END bootstrap=False, class_weight={0: 1, 1: 5}, criterion=entropy, max_depth=21, max_features=None, n_estimators=100, random_state=100;, score=0.674 total time= 5.9min\n",
      "[CV 1/5] END bootstrap=False, class_weight={0: 1, 1: 5}, criterion=gini, max_depth=41, max_features=None, n_estimators=150, random_state=100;, score=0.661 total time= 9.4min\n",
      "[CV 2/5] END bootstrap=False, class_weight={0: 1, 1: 5}, criterion=gini, max_depth=31, max_features=None, n_estimators=100, random_state=100;, score=0.680 total time= 7.9min\n",
      "[CV 2/5] END bootstrap=True, class_weight={0: 1, 1: 3}, criterion=gini, max_depth=None, max_features=None, n_estimators=250, random_state=100;, score=0.765 total time=15.0min\n",
      "[CV 4/5] END bootstrap=False, class_weight={0: 1, 1: 3}, criterion=gini, max_depth=31, max_features=auto, n_estimators=250, random_state=100;, score=0.744 total time= 1.4min\n",
      "[CV 4/5] END bootstrap=False, class_weight={0: 1, 1: 3}, criterion=gini, max_depth=21, max_features=auto, n_estimators=100, random_state=100;, score=0.748 total time=  28.8s\n",
      "[CV 3/5] END bootstrap=True, class_weight={0: 1, 1: 5}, criterion=entropy, max_depth=31, max_features=auto, n_estimators=100, random_state=100;, score=0.716 total time=  21.4s\n",
      "[CV 3/5] END bootstrap=False, class_weight={0: 1, 1: 3}, criterion=entropy, max_depth=21, max_features=auto, n_estimators=200, random_state=100;, score=0.741 total time=  59.1s\n",
      "[CV 3/5] END bootstrap=True, class_weight={0: 1, 1: 1}, criterion=entropy, max_depth=21, max_features=None, n_estimators=250, random_state=100;, score=0.762 total time=10.7min\n",
      "[CV 4/5] END bootstrap=False, class_weight={0: 1, 1: 1}, criterion=gini, max_depth=21, max_features=None, n_estimators=250, random_state=100;, score=0.692 total time=19.8min\n",
      "[CV 2/5] END bootstrap=False, class_weight={0: 1, 1: 5}, criterion=entropy, max_depth=21, max_features=None, n_estimators=100, random_state=100;, score=0.654 total time= 6.3min\n",
      "[CV 5/5] END bootstrap=False, class_weight={0: 1, 1: 5}, criterion=gini, max_depth=41, max_features=None, n_estimators=150, random_state=100;, score=0.670 total time= 9.4min\n",
      "[CV 3/5] END bootstrap=False, class_weight={0: 1, 1: 5}, criterion=gini, max_depth=31, max_features=None, n_estimators=100, random_state=100;, score=0.679 total time= 8.5min\n",
      "[CV 5/5] END bootstrap=True, class_weight={0: 1, 1: 3}, criterion=gini, max_depth=None, max_features=None, n_estimators=250, random_state=100;, score=0.767 total time=14.9min\n",
      "[CV 5/5] END bootstrap=False, class_weight={0: 1, 1: 3}, criterion=gini, max_depth=31, max_features=auto, n_estimators=250, random_state=100;, score=0.747 total time= 1.4min\n",
      "[CV 4/5] END bootstrap=True, class_weight={0: 1, 1: 5}, criterion=entropy, max_depth=31, max_features=auto, n_estimators=100, random_state=100;, score=0.721 total time=  21.1s\n",
      "[CV 4/5] END bootstrap=False, class_weight={0: 1, 1: 3}, criterion=entropy, max_depth=21, max_features=auto, n_estimators=200, random_state=100;, score=0.750 total time=  58.8s\n",
      "[CV 4/5] END bootstrap=True, class_weight={0: 1, 1: 1}, criterion=entropy, max_depth=21, max_features=None, n_estimators=250, random_state=100;, score=0.758 total time=10.4min\n",
      "[CV 2/5] END bootstrap=False, class_weight={0: 1, 1: 1}, criterion=gini, max_depth=21, max_features=None, n_estimators=250, random_state=100;, score=0.698 total time=19.7min\n",
      "[CV 3/5] END bootstrap=True, class_weight={0: 1, 1: 1}, criterion=entropy, max_depth=None, max_features=auto, n_estimators=100, random_state=100;, score=0.725 total time=  20.9s\n",
      "[CV 3/5] END bootstrap=False, class_weight={0: 1, 1: 5}, criterion=entropy, max_depth=21, max_features=None, n_estimators=100, random_state=100;, score=0.665 total time= 6.1min\n",
      "[CV 3/5] END bootstrap=False, class_weight={0: 1, 1: 5}, criterion=gini, max_depth=41, max_features=None, n_estimators=150, random_state=100;, score=0.672 total time=10.1min\n",
      "{'random_state': 100, 'n_estimators': 100, 'max_features': None, 'max_depth': 31, 'criterion': 'gini', 'class_weight': {0: 1, 1: 1}, 'bootstrap': True}\n"
     ]
    },
    {
     "data": {
      "text/plain": [
       "0.7656359874968153"
      ]
     },
     "execution_count": 92,
     "metadata": {},
     "output_type": "execute_result"
    }
   ],
   "source": [
    "############### run randomised grid search to find reasonable hyperparameter values\n",
    "\n",
    "# 5-fold cv\n",
    "cv = RepeatedStratifiedKFold(n_splits=5, n_repeats=1, random_state=100)\n",
    "\n",
    "# define grid with hyperparameter values\n",
    "param_grid_randomForest_randomized = {\n",
    "    \"n_estimators\" : [100, 150, 200, 250],\n",
    "    'criterion': [\"gini\", \"entropy\"],\n",
    "    \"max_depth\": [21, 31, 41, None],\n",
    "    \"max_features\" : [\"auto\", None],\n",
    "    \"bootstrap\" : [False,True],\n",
    "    \"class_weight\" : [{0:1, 1:1},{0:1, 1:3}, {0:1, 1:5}],\n",
    "    \"random_state\" : [100]\n",
    "}\n",
    "\n",
    "# randomised grid search with f1 scoring metric\n",
    "grid_randomForest_randomized = RandomizedSearchCV(RandomForestClassifier(), param_grid_randomForest_randomized, cv=cv, scoring='f1', n_iter=20, verbose=3, n_jobs=-1, random_state=100)\n",
    "grid_randomForest_randomized.fit(X_train_imp, y_train);\n",
    "\n",
    "# print best parameters and score\n",
    "print(grid_randomForest_randomized.best_params_)\n",
    "grid_randomForest_randomized.best_score_"
   ]
  },
  {
   "cell_type": "code",
   "execution_count": 90,
   "id": "1492a2d3-d4f8-4163-8a5f-0f31794c8cc2",
   "metadata": {},
   "outputs": [],
   "source": [
    "######### save results as a pickle file \n",
    "\n",
    "# with open('grid_randomForest_randomized_bestParams.pkl', 'wb') as f:\n",
    "#     pickle.dump(grid_randomForest_randomized.best_params_, f)\n",
    "# with open('grid_randomForest_randomized_bestF1score.pkl', 'wb') as f:\n",
    "#     pickle.dump(grid_randomForest_randomized.best_score_, f)\n",
    "# with open('grid_randomForest_randomized_cvResult.pkl', 'wb') as f:\n",
    "#     pickle.dump(grid_randomForest_randomized.cv_results_, f)"
   ]
  },
  {
   "cell_type": "code",
   "execution_count": 94,
   "id": "e45da430-af64-443b-8569-eb636383478e",
   "metadata": {},
   "outputs": [
    {
     "name": "stdout",
     "output_type": "stream",
     "text": [
      "0.7656359874968153\n"
     ]
    },
    {
     "data": {
      "text/plain": [
       "{'random_state': 100,\n",
       " 'n_estimators': 100,\n",
       " 'max_features': None,\n",
       " 'max_depth': 31,\n",
       " 'criterion': 'gini',\n",
       " 'class_weight': {0: 1, 1: 1},\n",
       " 'bootstrap': True}"
      ]
     },
     "execution_count": 94,
     "metadata": {},
     "output_type": "execute_result"
    }
   ],
   "source": [
    "####### read pickle file with results \n",
    "\n",
    "with open('grid_randomForest_randomized_bestParams.pkl', 'rb') as f:\n",
    "    grid_randomForest_randomized_bestParams = pickle.load(f)\n",
    "with open('grid_randomForest_randomized_bestF1score.pkl', 'rb') as f:\n",
    "    grid_randomForest_randomized_bestF1score = pickle.load(f)\n",
    "with open('grid_randomForest_randomized_cvResult.pkl', 'rb') as f:\n",
    "    grid_randomForest_randomized_cvResults = pickle.load(f)\n",
    "    \n",
    "print(grid_randomForest_randomized_bestF1score)\n",
    "grid_randomForest_randomized_bestParams"
   ]
  },
  {
   "cell_type": "markdown",
   "id": "962cfdb4-8b77-4161-a204-55cd29336f3b",
   "metadata": {},
   "source": [
    "### Complete grid Search"
   ]
  },
  {
   "cell_type": "code",
   "execution_count": 82,
   "id": "7988d4b4-fa4c-4a40-9aac-f336e43b2166",
   "metadata": {
    "scrolled": true,
    "tags": []
   },
   "outputs": [
    {
     "name": "stdout",
     "output_type": "stream",
     "text": [
      "Fitting 5 folds for each of 36 candidates, totalling 180 fits\n",
      "[CV 2/5] END bootstrap=True, class_weight={0: 1, 1: 1}, criterion=gini, max_depth=26, max_features=auto, n_estimators=100, random_state=100;, score=0.733 total time=  24.4s\n",
      "[CV 5/5] END bootstrap=True, class_weight={0: 1, 1: 1}, criterion=gini, max_depth=26, max_features=None, n_estimators=75, random_state=100;, score=0.767 total time= 4.4min\n",
      "[CV 5/5] END bootstrap=True, class_weight={0: 1, 1: 1}, criterion=gini, max_depth=26, max_features=None, n_estimators=125, random_state=100;, score=0.771 total time= 7.5min\n",
      "[CV 4/5] END bootstrap=True, class_weight={0: 1, 1: 1}, criterion=gini, max_depth=31, max_features=None, n_estimators=100, random_state=100;, score=0.773 total time= 6.5min\n",
      "[CV 1/5] END bootstrap=True, class_weight={0: 1, 1: 1}, criterion=gini, max_depth=36, max_features=auto, n_estimators=75, random_state=100;, score=0.720 total time=  18.1s\n",
      "[CV 1/5] END bootstrap=True, class_weight={0: 1, 1: 1}, criterion=gini, max_depth=36, max_features=auto, n_estimators=100, random_state=100;, score=0.720 total time=  23.7s\n",
      "[CV 1/5] END bootstrap=True, class_weight={0: 1, 1: 1}, criterion=gini, max_depth=36, max_features=auto, n_estimators=125, random_state=100;, score=0.722 total time=  29.7s\n",
      "[CV 1/5] END bootstrap=True, class_weight={0: 1, 1: 1}, criterion=gini, max_depth=36, max_features=None, n_estimators=75, random_state=100;, score=0.758 total time= 5.1min\n",
      "[CV 1/5] END bootstrap=True, class_weight={0: 1, 1: 1}, criterion=gini, max_depth=36, max_features=None, n_estimators=125, random_state=100;, score=0.760 total time= 8.5min\n",
      "[CV 1/5] END bootstrap=False, class_weight={0: 1, 1: 1}, criterion=gini, max_depth=26, max_features=None, n_estimators=100, random_state=100;, score=0.674 total time= 9.4min\n",
      "[CV 2/5] END bootstrap=False, class_weight={0: 1, 1: 1}, criterion=gini, max_depth=31, max_features=auto, n_estimators=75, random_state=100;, score=0.746 total time=  27.4s\n",
      "[CV 2/5] END bootstrap=False, class_weight={0: 1, 1: 1}, criterion=gini, max_depth=31, max_features=auto, n_estimators=100, random_state=100;, score=0.748 total time=  38.0s\n",
      "[CV 2/5] END bootstrap=False, class_weight={0: 1, 1: 1}, criterion=gini, max_depth=31, max_features=auto, n_estimators=125, random_state=100;, score=0.750 total time=  44.6s\n",
      "[CV 2/5] END bootstrap=False, class_weight={0: 1, 1: 1}, criterion=gini, max_depth=31, max_features=None, n_estimators=75, random_state=100;, score=0.678 total time= 7.5min\n",
      "[CV 2/5] END bootstrap=False, class_weight={0: 1, 1: 1}, criterion=gini, max_depth=31, max_features=None, n_estimators=125, random_state=100;, score=0.679 total time=12.0min\n",
      "[CV 3/5] END bootstrap=False, class_weight={0: 1, 1: 1}, criterion=gini, max_depth=36, max_features=None, n_estimators=100, random_state=100;, score=0.674 total time= 9.6min\n",
      "[CV 5/5] END bootstrap=True, class_weight={0: 1, 1: 1}, criterion=gini, max_depth=26, max_features=auto, n_estimators=100, random_state=100;, score=0.730 total time=  21.8s\n",
      "[CV 2/5] END bootstrap=True, class_weight={0: 1, 1: 1}, criterion=gini, max_depth=26, max_features=None, n_estimators=75, random_state=100;, score=0.754 total time= 4.4min\n",
      "[CV 4/5] END bootstrap=True, class_weight={0: 1, 1: 1}, criterion=gini, max_depth=26, max_features=None, n_estimators=125, random_state=100;, score=0.768 total time= 7.5min\n",
      "[CV 1/5] END bootstrap=True, class_weight={0: 1, 1: 1}, criterion=gini, max_depth=31, max_features=None, n_estimators=100, random_state=100;, score=0.760 total time= 6.6min\n",
      "[CV 2/5] END bootstrap=True, class_weight={0: 1, 1: 1}, criterion=gini, max_depth=36, max_features=auto, n_estimators=75, random_state=100;, score=0.730 total time=  18.3s\n",
      "[CV 2/5] END bootstrap=True, class_weight={0: 1, 1: 1}, criterion=gini, max_depth=36, max_features=auto, n_estimators=100, random_state=100;, score=0.734 total time=  24.1s\n",
      "[CV 2/5] END bootstrap=True, class_weight={0: 1, 1: 1}, criterion=gini, max_depth=36, max_features=auto, n_estimators=125, random_state=100;, score=0.735 total time=  29.8s\n",
      "[CV 2/5] END bootstrap=True, class_weight={0: 1, 1: 1}, criterion=gini, max_depth=36, max_features=None, n_estimators=75, random_state=100;, score=0.756 total time= 5.2min\n",
      "[CV 4/5] END bootstrap=True, class_weight={0: 1, 1: 1}, criterion=gini, max_depth=36, max_features=None, n_estimators=125, random_state=100;, score=0.773 total time= 8.4min\n",
      "[CV 2/5] END bootstrap=False, class_weight={0: 1, 1: 1}, criterion=gini, max_depth=26, max_features=None, n_estimators=100, random_state=100;, score=0.682 total time= 9.4min\n",
      "[CV 3/5] END bootstrap=False, class_weight={0: 1, 1: 1}, criterion=gini, max_depth=31, max_features=auto, n_estimators=75, random_state=100;, score=0.739 total time=  27.3s\n",
      "[CV 3/5] END bootstrap=False, class_weight={0: 1, 1: 1}, criterion=gini, max_depth=31, max_features=auto, n_estimators=100, random_state=100;, score=0.742 total time=  37.7s\n",
      "[CV 3/5] END bootstrap=False, class_weight={0: 1, 1: 1}, criterion=gini, max_depth=31, max_features=auto, n_estimators=125, random_state=100;, score=0.744 total time=  44.4s\n",
      "[CV 3/5] END bootstrap=False, class_weight={0: 1, 1: 1}, criterion=gini, max_depth=31, max_features=None, n_estimators=75, random_state=100;, score=0.680 total time= 7.4min\n",
      "[CV 1/5] END bootstrap=False, class_weight={0: 1, 1: 1}, criterion=gini, max_depth=31, max_features=None, n_estimators=125, random_state=100;, score=0.665 total time=12.2min\n",
      "[CV 4/5] END bootstrap=False, class_weight={0: 1, 1: 1}, criterion=gini, max_depth=36, max_features=None, n_estimators=100, random_state=100;, score=0.668 total time= 9.6min\n",
      "[CV 1/5] END bootstrap=True, class_weight={0: 1, 1: 1}, criterion=gini, max_depth=26, max_features=auto, n_estimators=100, random_state=100;, score=0.711 total time=  22.2s\n",
      "[CV 3/5] END bootstrap=True, class_weight={0: 1, 1: 1}, criterion=gini, max_depth=26, max_features=None, n_estimators=75, random_state=100;, score=0.762 total time= 4.4min\n",
      "[CV 1/5] END bootstrap=True, class_weight={0: 1, 1: 1}, criterion=gini, max_depth=26, max_features=None, n_estimators=125, random_state=100;, score=0.754 total time= 7.6min\n",
      "[CV 3/5] END bootstrap=True, class_weight={0: 1, 1: 1}, criterion=gini, max_depth=31, max_features=None, n_estimators=100, random_state=100;, score=0.766 total time= 6.6min\n",
      "[CV 3/5] END bootstrap=True, class_weight={0: 1, 1: 1}, criterion=gini, max_depth=36, max_features=auto, n_estimators=75, random_state=100;, score=0.728 total time=  18.0s\n",
      "[CV 3/5] END bootstrap=True, class_weight={0: 1, 1: 1}, criterion=gini, max_depth=36, max_features=auto, n_estimators=100, random_state=100;, score=0.730 total time=  23.9s\n",
      "[CV 3/5] END bootstrap=True, class_weight={0: 1, 1: 1}, criterion=gini, max_depth=36, max_features=auto, n_estimators=125, random_state=100;, score=0.728 total time=  29.7s\n",
      "[CV 3/5] END bootstrap=True, class_weight={0: 1, 1: 1}, criterion=gini, max_depth=36, max_features=None, n_estimators=75, random_state=100;, score=0.766 total time= 5.2min\n",
      "[CV 3/5] END bootstrap=True, class_weight={0: 1, 1: 1}, criterion=gini, max_depth=36, max_features=None, n_estimators=125, random_state=100;, score=0.770 total time= 8.6min\n",
      "[CV 3/5] END bootstrap=False, class_weight={0: 1, 1: 1}, criterion=gini, max_depth=26, max_features=None, n_estimators=100, random_state=100;, score=0.691 total time= 9.4min\n",
      "[CV 4/5] END bootstrap=False, class_weight={0: 1, 1: 1}, criterion=gini, max_depth=31, max_features=auto, n_estimators=75, random_state=100;, score=0.747 total time=  26.9s\n",
      "[CV 4/5] END bootstrap=False, class_weight={0: 1, 1: 1}, criterion=gini, max_depth=31, max_features=auto, n_estimators=100, random_state=100;, score=0.750 total time=  36.8s\n",
      "[CV 4/5] END bootstrap=False, class_weight={0: 1, 1: 1}, criterion=gini, max_depth=31, max_features=auto, n_estimators=125, random_state=100;, score=0.749 total time=  44.6s\n",
      "[CV 4/5] END bootstrap=False, class_weight={0: 1, 1: 1}, criterion=gini, max_depth=31, max_features=None, n_estimators=75, random_state=100;, score=0.677 total time= 7.4min\n",
      "[CV 3/5] END bootstrap=False, class_weight={0: 1, 1: 1}, criterion=gini, max_depth=31, max_features=None, n_estimators=125, random_state=100;, score=0.678 total time=11.9min\n",
      "[CV 1/5] END bootstrap=False, class_weight={0: 1, 1: 1}, criterion=gini, max_depth=36, max_features=None, n_estimators=100, random_state=100;, score=0.660 total time=10.0min\n",
      "[CV 4/5] END bootstrap=True, class_weight={0: 1, 1: 1}, criterion=gini, max_depth=26, max_features=auto, n_estimators=100, random_state=100;, score=0.724 total time=  23.0s\n",
      "[CV 4/5] END bootstrap=True, class_weight={0: 1, 1: 1}, criterion=gini, max_depth=26, max_features=None, n_estimators=75, random_state=100;, score=0.768 total time= 4.4min\n",
      "[CV 2/5] END bootstrap=True, class_weight={0: 1, 1: 1}, criterion=gini, max_depth=26, max_features=None, n_estimators=125, random_state=100;, score=0.752 total time= 7.6min\n",
      "[CV 2/5] END bootstrap=True, class_weight={0: 1, 1: 1}, criterion=gini, max_depth=31, max_features=None, n_estimators=100, random_state=100;, score=0.753 total time= 6.7min\n",
      "[CV 5/5] END bootstrap=True, class_weight={0: 1, 1: 1}, criterion=gini, max_depth=36, max_features=auto, n_estimators=75, random_state=100;, score=0.737 total time=  18.1s\n",
      "[CV 5/5] END bootstrap=True, class_weight={0: 1, 1: 1}, criterion=gini, max_depth=36, max_features=auto, n_estimators=100, random_state=100;, score=0.733 total time=  24.3s\n",
      "[CV 5/5] END bootstrap=True, class_weight={0: 1, 1: 1}, criterion=gini, max_depth=36, max_features=auto, n_estimators=125, random_state=100;, score=0.734 total time=  29.7s\n",
      "[CV 5/5] END bootstrap=True, class_weight={0: 1, 1: 1}, criterion=gini, max_depth=36, max_features=None, n_estimators=75, random_state=100;, score=0.770 total time= 5.2min\n",
      "[CV 5/5] END bootstrap=True, class_weight={0: 1, 1: 1}, criterion=gini, max_depth=36, max_features=None, n_estimators=125, random_state=100;, score=0.774 total time= 8.6min\n",
      "[CV 5/5] END bootstrap=False, class_weight={0: 1, 1: 1}, criterion=gini, max_depth=26, max_features=None, n_estimators=100, random_state=100;, score=0.702 total time= 9.1min\n",
      "[CV 1/5] END bootstrap=False, class_weight={0: 1, 1: 1}, criterion=gini, max_depth=31, max_features=auto, n_estimators=75, random_state=100;, score=0.740 total time=  27.2s\n",
      "[CV 1/5] END bootstrap=False, class_weight={0: 1, 1: 1}, criterion=gini, max_depth=31, max_features=auto, n_estimators=100, random_state=100;, score=0.742 total time=  37.6s\n",
      "[CV 1/5] END bootstrap=False, class_weight={0: 1, 1: 1}, criterion=gini, max_depth=31, max_features=auto, n_estimators=125, random_state=100;, score=0.739 total time=  44.3s\n",
      "[CV 1/5] END bootstrap=False, class_weight={0: 1, 1: 1}, criterion=gini, max_depth=31, max_features=None, n_estimators=75, random_state=100;, score=0.664 total time= 7.6min\n",
      "[CV 4/5] END bootstrap=False, class_weight={0: 1, 1: 1}, criterion=gini, max_depth=31, max_features=None, n_estimators=125, random_state=100;, score=0.676 total time=11.9min\n",
      "[CV 2/5] END bootstrap=False, class_weight={0: 1, 1: 1}, criterion=gini, max_depth=36, max_features=None, n_estimators=100, random_state=100;, score=0.675 total time=10.0min\n",
      "[CV 3/5] END bootstrap=True, class_weight={0: 1, 1: 1}, criterion=gini, max_depth=26, max_features=auto, n_estimators=100, random_state=100;, score=0.723 total time=  21.8s\n",
      "[CV 1/5] END bootstrap=True, class_weight={0: 1, 1: 1}, criterion=gini, max_depth=26, max_features=None, n_estimators=75, random_state=100;, score=0.754 total time= 4.4min\n",
      "[CV 3/5] END bootstrap=True, class_weight={0: 1, 1: 1}, criterion=gini, max_depth=26, max_features=None, n_estimators=125, random_state=100;, score=0.762 total time= 7.6min\n",
      "[CV 5/5] END bootstrap=True, class_weight={0: 1, 1: 1}, criterion=gini, max_depth=31, max_features=None, n_estimators=100, random_state=100;, score=0.776 total time= 6.6min\n",
      "[CV 4/5] END bootstrap=True, class_weight={0: 1, 1: 1}, criterion=gini, max_depth=36, max_features=auto, n_estimators=75, random_state=100;, score=0.727 total time=  17.8s\n",
      "[CV 4/5] END bootstrap=True, class_weight={0: 1, 1: 1}, criterion=gini, max_depth=36, max_features=auto, n_estimators=100, random_state=100;, score=0.728 total time=  23.9s\n",
      "[CV 4/5] END bootstrap=True, class_weight={0: 1, 1: 1}, criterion=gini, max_depth=36, max_features=auto, n_estimators=125, random_state=100;, score=0.729 total time=  29.7s\n",
      "[CV 4/5] END bootstrap=True, class_weight={0: 1, 1: 1}, criterion=gini, max_depth=36, max_features=None, n_estimators=75, random_state=100;, score=0.772 total time= 5.1min\n",
      "[CV 2/5] END bootstrap=True, class_weight={0: 1, 1: 1}, criterion=gini, max_depth=36, max_features=None, n_estimators=125, random_state=100;, score=0.757 total time= 8.7min\n",
      "[CV 4/5] END bootstrap=False, class_weight={0: 1, 1: 1}, criterion=gini, max_depth=26, max_features=None, n_estimators=100, random_state=100;, score=0.683 total time= 9.4min\n",
      "[CV 5/5] END bootstrap=False, class_weight={0: 1, 1: 1}, criterion=gini, max_depth=31, max_features=auto, n_estimators=75, random_state=100;, score=0.743 total time=  27.6s\n",
      "[CV 5/5] END bootstrap=False, class_weight={0: 1, 1: 1}, criterion=gini, max_depth=31, max_features=auto, n_estimators=100, random_state=100;, score=0.748 total time=  37.2s\n",
      "[CV 5/5] END bootstrap=False, class_weight={0: 1, 1: 1}, criterion=gini, max_depth=31, max_features=auto, n_estimators=125, random_state=100;, score=0.748 total time=  45.0s\n",
      "[CV 5/5] END bootstrap=False, class_weight={0: 1, 1: 1}, criterion=gini, max_depth=31, max_features=None, n_estimators=75, random_state=100;, score=0.695 total time= 7.6min\n",
      "[CV 5/5] END bootstrap=False, class_weight={0: 1, 1: 1}, criterion=gini, max_depth=31, max_features=None, n_estimators=125, random_state=100;, score=0.693 total time=12.1min\n",
      "[CV 5/5] END bootstrap=False, class_weight={0: 1, 1: 1}, criterion=gini, max_depth=36, max_features=None, n_estimators=100, random_state=100;, score=0.691 total time=10.3min\n",
      "[CV 4/5] END bootstrap=True, class_weight={0: 1, 1: 1}, criterion=gini, max_depth=26, max_features=auto, n_estimators=75, random_state=100;, score=0.721 total time=  16.1s\n",
      "[CV 4/5] END bootstrap=True, class_weight={0: 1, 1: 1}, criterion=gini, max_depth=26, max_features=auto, n_estimators=125, random_state=100;, score=0.725 total time=  26.9s\n",
      "[CV 2/5] END bootstrap=True, class_weight={0: 1, 1: 1}, criterion=gini, max_depth=26, max_features=None, n_estimators=100, random_state=100;, score=0.753 total time= 5.9min\n",
      "[CV 5/5] END bootstrap=True, class_weight={0: 1, 1: 1}, criterion=gini, max_depth=31, max_features=auto, n_estimators=75, random_state=100;, score=0.729 total time=  17.4s\n",
      "[CV 4/5] END bootstrap=True, class_weight={0: 1, 1: 1}, criterion=gini, max_depth=31, max_features=auto, n_estimators=100, random_state=100;, score=0.726 total time=  23.1s\n",
      "[CV 3/5] END bootstrap=True, class_weight={0: 1, 1: 1}, criterion=gini, max_depth=31, max_features=auto, n_estimators=125, random_state=100;, score=0.730 total time=  28.8s\n",
      "[CV 3/5] END bootstrap=True, class_weight={0: 1, 1: 1}, criterion=gini, max_depth=31, max_features=None, n_estimators=75, random_state=100;, score=0.765 total time= 5.0min\n",
      "[CV 5/5] END bootstrap=True, class_weight={0: 1, 1: 1}, criterion=gini, max_depth=31, max_features=None, n_estimators=125, random_state=100;, score=0.774 total time= 8.2min\n",
      "[CV 4/5] END bootstrap=True, class_weight={0: 1, 1: 1}, criterion=gini, max_depth=36, max_features=None, n_estimators=100, random_state=100;, score=0.771 total time= 6.7min\n",
      "[CV 2/5] END bootstrap=False, class_weight={0: 1, 1: 1}, criterion=gini, max_depth=26, max_features=auto, n_estimators=75, random_state=100;, score=0.746 total time=  26.2s\n",
      "[CV 2/5] END bootstrap=False, class_weight={0: 1, 1: 1}, criterion=gini, max_depth=26, max_features=auto, n_estimators=100, random_state=100;, score=0.746 total time=  33.7s\n",
      "[CV 2/5] END bootstrap=False, class_weight={0: 1, 1: 1}, criterion=gini, max_depth=26, max_features=auto, n_estimators=125, random_state=100;, score=0.750 total time=  41.8s\n",
      "[CV 2/5] END bootstrap=False, class_weight={0: 1, 1: 1}, criterion=gini, max_depth=26, max_features=None, n_estimators=75, random_state=100;, score=0.681 total time= 7.0min\n",
      "[CV 3/5] END bootstrap=False, class_weight={0: 1, 1: 1}, criterion=gini, max_depth=26, max_features=None, n_estimators=125, random_state=100;, score=0.690 total time=11.8min\n",
      "[CV 3/5] END bootstrap=False, class_weight={0: 1, 1: 1}, criterion=gini, max_depth=31, max_features=None, n_estimators=100, random_state=100;, score=0.679 total time= 9.6min\n",
      "[CV 1/5] END bootstrap=False, class_weight={0: 1, 1: 1}, criterion=gini, max_depth=36, max_features=auto, n_estimators=75, random_state=100;, score=0.739 total time=  27.0s\n",
      "[CV 1/5] END bootstrap=False, class_weight={0: 1, 1: 1}, criterion=gini, max_depth=36, max_features=auto, n_estimators=100, random_state=100;, score=0.737 total time=  36.0s\n",
      "[CV 1/5] END bootstrap=False, class_weight={0: 1, 1: 1}, criterion=gini, max_depth=36, max_features=auto, n_estimators=125, random_state=100;, score=0.737 total time=  45.0s\n",
      "[CV 1/5] END bootstrap=False, class_weight={0: 1, 1: 1}, criterion=gini, max_depth=36, max_features=None, n_estimators=75, random_state=100;, score=0.659 total time= 7.5min\n",
      "[CV 3/5] END bootstrap=False, class_weight={0: 1, 1: 1}, criterion=gini, max_depth=36, max_features=None, n_estimators=125, random_state=100;, score=0.673 total time=11.0min\n",
      "[CV 3/5] END bootstrap=True, class_weight={0: 1, 1: 1}, criterion=gini, max_depth=26, max_features=auto, n_estimators=75, random_state=100;, score=0.722 total time=  16.0s\n",
      "[CV 3/5] END bootstrap=True, class_weight={0: 1, 1: 1}, criterion=gini, max_depth=26, max_features=auto, n_estimators=125, random_state=100;, score=0.721 total time=  26.9s\n",
      "[CV 1/5] END bootstrap=True, class_weight={0: 1, 1: 1}, criterion=gini, max_depth=26, max_features=None, n_estimators=100, random_state=100;, score=0.752 total time= 5.9min\n",
      "[CV 3/5] END bootstrap=True, class_weight={0: 1, 1: 1}, criterion=gini, max_depth=31, max_features=auto, n_estimators=75, random_state=100;, score=0.730 total time=  17.6s\n",
      "[CV 3/5] END bootstrap=True, class_weight={0: 1, 1: 1}, criterion=gini, max_depth=31, max_features=auto, n_estimators=100, random_state=100;, score=0.729 total time=  23.4s\n",
      "[CV 4/5] END bootstrap=True, class_weight={0: 1, 1: 1}, criterion=gini, max_depth=31, max_features=auto, n_estimators=125, random_state=100;, score=0.725 total time=  28.8s\n",
      "[CV 4/5] END bootstrap=True, class_weight={0: 1, 1: 1}, criterion=gini, max_depth=31, max_features=None, n_estimators=75, random_state=100;, score=0.774 total time= 4.9min\n",
      "[CV 1/5] END bootstrap=True, class_weight={0: 1, 1: 1}, criterion=gini, max_depth=31, max_features=None, n_estimators=125, random_state=100;, score=0.760 total time= 8.2min\n",
      "[CV 2/5] END bootstrap=True, class_weight={0: 1, 1: 1}, criterion=gini, max_depth=36, max_features=None, n_estimators=100, random_state=100;, score=0.756 total time= 7.0min\n",
      "[CV 5/5] END bootstrap=False, class_weight={0: 1, 1: 1}, criterion=gini, max_depth=26, max_features=auto, n_estimators=75, random_state=100;, score=0.741 total time=  26.6s\n",
      "[CV 5/5] END bootstrap=False, class_weight={0: 1, 1: 1}, criterion=gini, max_depth=26, max_features=auto, n_estimators=100, random_state=100;, score=0.743 total time=  32.6s\n",
      "[CV 5/5] END bootstrap=False, class_weight={0: 1, 1: 1}, criterion=gini, max_depth=26, max_features=auto, n_estimators=125, random_state=100;, score=0.746 total time=  41.9s\n",
      "[CV 5/5] END bootstrap=False, class_weight={0: 1, 1: 1}, criterion=gini, max_depth=26, max_features=None, n_estimators=75, random_state=100;, score=0.702 total time= 6.8min\n",
      "[CV 1/5] END bootstrap=False, class_weight={0: 1, 1: 1}, criterion=gini, max_depth=26, max_features=None, n_estimators=125, random_state=100;, score=0.673 total time=11.9min\n",
      "[CV 4/5] END bootstrap=False, class_weight={0: 1, 1: 1}, criterion=gini, max_depth=31, max_features=None, n_estimators=100, random_state=100;, score=0.674 total time= 9.6min\n",
      "[CV 3/5] END bootstrap=False, class_weight={0: 1, 1: 1}, criterion=gini, max_depth=36, max_features=auto, n_estimators=75, random_state=100;, score=0.743 total time=  26.7s\n",
      "[CV 3/5] END bootstrap=False, class_weight={0: 1, 1: 1}, criterion=gini, max_depth=36, max_features=auto, n_estimators=100, random_state=100;, score=0.741 total time=  35.7s\n",
      "[CV 3/5] END bootstrap=False, class_weight={0: 1, 1: 1}, criterion=gini, max_depth=36, max_features=auto, n_estimators=125, random_state=100;, score=0.745 total time=  44.3s\n",
      "[CV 2/5] END bootstrap=False, class_weight={0: 1, 1: 1}, criterion=gini, max_depth=36, max_features=None, n_estimators=75, random_state=100;, score=0.672 total time= 7.5min\n",
      "[CV 4/5] END bootstrap=False, class_weight={0: 1, 1: 1}, criterion=gini, max_depth=36, max_features=None, n_estimators=125, random_state=100;, score=0.665 total time=11.1min\n",
      "[CV 1/5] END bootstrap=True, class_weight={0: 1, 1: 1}, criterion=gini, max_depth=26, max_features=auto, n_estimators=75, random_state=100;, score=0.713 total time=  16.0s\n",
      "[CV 2/5] END bootstrap=True, class_weight={0: 1, 1: 1}, criterion=gini, max_depth=26, max_features=auto, n_estimators=125, random_state=100;, score=0.732 total time=  27.3s\n",
      "[CV 4/5] END bootstrap=True, class_weight={0: 1, 1: 1}, criterion=gini, max_depth=26, max_features=None, n_estimators=100, random_state=100;, score=0.768 total time= 5.9min\n",
      "[CV 1/5] END bootstrap=True, class_weight={0: 1, 1: 1}, criterion=gini, max_depth=31, max_features=auto, n_estimators=75, random_state=100;, score=0.721 total time=  17.4s\n",
      "[CV 1/5] END bootstrap=True, class_weight={0: 1, 1: 1}, criterion=gini, max_depth=31, max_features=auto, n_estimators=100, random_state=100;, score=0.722 total time=  23.3s\n",
      "[CV 1/5] END bootstrap=True, class_weight={0: 1, 1: 1}, criterion=gini, max_depth=31, max_features=auto, n_estimators=125, random_state=100;, score=0.723 total time=  28.9s\n",
      "[CV 1/5] END bootstrap=True, class_weight={0: 1, 1: 1}, criterion=gini, max_depth=31, max_features=None, n_estimators=75, random_state=100;, score=0.761 total time= 4.9min\n",
      "[CV 2/5] END bootstrap=True, class_weight={0: 1, 1: 1}, criterion=gini, max_depth=31, max_features=None, n_estimators=125, random_state=100;, score=0.755 total time= 8.3min\n",
      "[CV 5/5] END bootstrap=True, class_weight={0: 1, 1: 1}, criterion=gini, max_depth=36, max_features=None, n_estimators=100, random_state=100;, score=0.775 total time= 6.9min\n",
      "[CV 4/5] END bootstrap=False, class_weight={0: 1, 1: 1}, criterion=gini, max_depth=26, max_features=auto, n_estimators=75, random_state=100;, score=0.740 total time=  26.6s\n",
      "[CV 4/5] END bootstrap=False, class_weight={0: 1, 1: 1}, criterion=gini, max_depth=26, max_features=auto, n_estimators=100, random_state=100;, score=0.737 total time=  32.6s\n",
      "[CV 4/5] END bootstrap=False, class_weight={0: 1, 1: 1}, criterion=gini, max_depth=26, max_features=auto, n_estimators=125, random_state=100;, score=0.739 total time=  41.8s\n",
      "[CV 4/5] END bootstrap=False, class_weight={0: 1, 1: 1}, criterion=gini, max_depth=26, max_features=None, n_estimators=75, random_state=100;, score=0.680 total time= 7.0min\n",
      "[CV 5/5] END bootstrap=False, class_weight={0: 1, 1: 1}, criterion=gini, max_depth=26, max_features=None, n_estimators=125, random_state=100;, score=0.704 total time=11.5min\n",
      "[CV 1/5] END bootstrap=False, class_weight={0: 1, 1: 1}, criterion=gini, max_depth=31, max_features=None, n_estimators=100, random_state=100;, score=0.665 total time= 9.8min\n",
      "[CV 2/5] END bootstrap=False, class_weight={0: 1, 1: 1}, criterion=gini, max_depth=36, max_features=auto, n_estimators=75, random_state=100;, score=0.751 total time=  27.1s\n",
      "[CV 2/5] END bootstrap=False, class_weight={0: 1, 1: 1}, criterion=gini, max_depth=36, max_features=auto, n_estimators=100, random_state=100;, score=0.752 total time=  36.2s\n",
      "[CV 2/5] END bootstrap=False, class_weight={0: 1, 1: 1}, criterion=gini, max_depth=36, max_features=auto, n_estimators=125, random_state=100;, score=0.750 total time=  45.0s\n",
      "[CV 3/5] END bootstrap=False, class_weight={0: 1, 1: 1}, criterion=gini, max_depth=36, max_features=None, n_estimators=75, random_state=100;, score=0.673 total time= 7.2min\n",
      "[CV 1/5] END bootstrap=False, class_weight={0: 1, 1: 1}, criterion=gini, max_depth=36, max_features=None, n_estimators=125, random_state=100;, score=0.660 total time=11.4min\n",
      "[CV 5/5] END bootstrap=True, class_weight={0: 1, 1: 1}, criterion=gini, max_depth=26, max_features=auto, n_estimators=75, random_state=100;, score=0.730 total time=  16.5s\n",
      "[CV 5/5] END bootstrap=True, class_weight={0: 1, 1: 1}, criterion=gini, max_depth=26, max_features=auto, n_estimators=125, random_state=100;, score=0.730 total time=  27.0s\n",
      "[CV 5/5] END bootstrap=True, class_weight={0: 1, 1: 1}, criterion=gini, max_depth=26, max_features=None, n_estimators=100, random_state=100;, score=0.771 total time= 5.9min\n",
      "[CV 2/5] END bootstrap=True, class_weight={0: 1, 1: 1}, criterion=gini, max_depth=31, max_features=auto, n_estimators=75, random_state=100;, score=0.732 total time=  17.6s\n",
      "[CV 2/5] END bootstrap=True, class_weight={0: 1, 1: 1}, criterion=gini, max_depth=31, max_features=auto, n_estimators=100, random_state=100;, score=0.729 total time=  23.5s\n",
      "[CV 2/5] END bootstrap=True, class_weight={0: 1, 1: 1}, criterion=gini, max_depth=31, max_features=auto, n_estimators=125, random_state=100;, score=0.731 total time=  29.1s\n",
      "[CV 2/5] END bootstrap=True, class_weight={0: 1, 1: 1}, criterion=gini, max_depth=31, max_features=None, n_estimators=75, random_state=100;, score=0.754 total time= 5.0min\n",
      "[CV 4/5] END bootstrap=True, class_weight={0: 1, 1: 1}, criterion=gini, max_depth=31, max_features=None, n_estimators=125, random_state=100;, score=0.772 total time= 8.1min\n",
      "[CV 1/5] END bootstrap=True, class_weight={0: 1, 1: 1}, criterion=gini, max_depth=36, max_features=None, n_estimators=100, random_state=100;, score=0.755 total time= 6.8min\n",
      "[CV 1/5] END bootstrap=False, class_weight={0: 1, 1: 1}, criterion=gini, max_depth=26, max_features=auto, n_estimators=75, random_state=100;, score=0.737 total time=  25.9s\n",
      "[CV 1/5] END bootstrap=False, class_weight={0: 1, 1: 1}, criterion=gini, max_depth=26, max_features=auto, n_estimators=100, random_state=100;, score=0.737 total time=  34.1s\n",
      "[CV 1/5] END bootstrap=False, class_weight={0: 1, 1: 1}, criterion=gini, max_depth=26, max_features=auto, n_estimators=125, random_state=100;, score=0.738 total time=  41.7s\n",
      "[CV 1/5] END bootstrap=False, class_weight={0: 1, 1: 1}, criterion=gini, max_depth=26, max_features=None, n_estimators=75, random_state=100;, score=0.671 total time= 7.0min\n",
      "[CV 2/5] END bootstrap=False, class_weight={0: 1, 1: 1}, criterion=gini, max_depth=26, max_features=None, n_estimators=125, random_state=100;, score=0.681 total time=11.8min\n",
      "[CV 2/5] END bootstrap=False, class_weight={0: 1, 1: 1}, criterion=gini, max_depth=31, max_features=None, n_estimators=100, random_state=100;, score=0.678 total time= 9.7min\n",
      "[CV 4/5] END bootstrap=False, class_weight={0: 1, 1: 1}, criterion=gini, max_depth=36, max_features=auto, n_estimators=75, random_state=100;, score=0.749 total time=  26.8s\n",
      "[CV 4/5] END bootstrap=False, class_weight={0: 1, 1: 1}, criterion=gini, max_depth=36, max_features=auto, n_estimators=100, random_state=100;, score=0.748 total time=  36.0s\n",
      "[CV 4/5] END bootstrap=False, class_weight={0: 1, 1: 1}, criterion=gini, max_depth=36, max_features=auto, n_estimators=125, random_state=100;, score=0.749 total time=  44.6s\n",
      "[CV 4/5] END bootstrap=False, class_weight={0: 1, 1: 1}, criterion=gini, max_depth=36, max_features=None, n_estimators=75, random_state=100;, score=0.665 total time= 7.2min\n",
      "[CV 2/5] END bootstrap=False, class_weight={0: 1, 1: 1}, criterion=gini, max_depth=36, max_features=None, n_estimators=125, random_state=100;, score=0.676 total time=11.4min\n",
      "[CV 2/5] END bootstrap=True, class_weight={0: 1, 1: 1}, criterion=gini, max_depth=26, max_features=auto, n_estimators=75, random_state=100;, score=0.732 total time=  15.9s\n",
      "[CV 1/5] END bootstrap=True, class_weight={0: 1, 1: 1}, criterion=gini, max_depth=26, max_features=auto, n_estimators=125, random_state=100;, score=0.714 total time=  27.2s\n",
      "[CV 3/5] END bootstrap=True, class_weight={0: 1, 1: 1}, criterion=gini, max_depth=26, max_features=None, n_estimators=100, random_state=100;, score=0.762 total time= 5.9min\n",
      "[CV 4/5] END bootstrap=True, class_weight={0: 1, 1: 1}, criterion=gini, max_depth=31, max_features=auto, n_estimators=75, random_state=100;, score=0.725 total time=  17.5s\n",
      "[CV 5/5] END bootstrap=True, class_weight={0: 1, 1: 1}, criterion=gini, max_depth=31, max_features=auto, n_estimators=100, random_state=100;, score=0.735 total time=  23.4s\n",
      "[CV 5/5] END bootstrap=True, class_weight={0: 1, 1: 1}, criterion=gini, max_depth=31, max_features=auto, n_estimators=125, random_state=100;, score=0.734 total time=  29.0s\n",
      "[CV 5/5] END bootstrap=True, class_weight={0: 1, 1: 1}, criterion=gini, max_depth=31, max_features=None, n_estimators=75, random_state=100;, score=0.771 total time= 4.9min\n",
      "[CV 3/5] END bootstrap=True, class_weight={0: 1, 1: 1}, criterion=gini, max_depth=31, max_features=None, n_estimators=125, random_state=100;, score=0.765 total time= 8.3min\n",
      "[CV 3/5] END bootstrap=True, class_weight={0: 1, 1: 1}, criterion=gini, max_depth=36, max_features=None, n_estimators=100, random_state=100;, score=0.770 total time= 6.9min\n",
      "[CV 3/5] END bootstrap=False, class_weight={0: 1, 1: 1}, criterion=gini, max_depth=26, max_features=auto, n_estimators=75, random_state=100;, score=0.740 total time=  26.6s\n",
      "[CV 3/5] END bootstrap=False, class_weight={0: 1, 1: 1}, criterion=gini, max_depth=26, max_features=auto, n_estimators=100, random_state=100;, score=0.745 total time=  32.6s\n",
      "[CV 3/5] END bootstrap=False, class_weight={0: 1, 1: 1}, criterion=gini, max_depth=26, max_features=auto, n_estimators=125, random_state=100;, score=0.742 total time=  42.0s\n",
      "[CV 3/5] END bootstrap=False, class_weight={0: 1, 1: 1}, criterion=gini, max_depth=26, max_features=None, n_estimators=75, random_state=100;, score=0.689 total time= 7.0min\n",
      "[CV 4/5] END bootstrap=False, class_weight={0: 1, 1: 1}, criterion=gini, max_depth=26, max_features=None, n_estimators=125, random_state=100;, score=0.684 total time=11.8min\n",
      "[CV 5/5] END bootstrap=False, class_weight={0: 1, 1: 1}, criterion=gini, max_depth=31, max_features=None, n_estimators=100, random_state=100;, score=0.693 total time= 9.8min\n",
      "[CV 5/5] END bootstrap=False, class_weight={0: 1, 1: 1}, criterion=gini, max_depth=36, max_features=auto, n_estimators=75, random_state=100;, score=0.749 total time=  27.0s\n",
      "[CV 5/5] END bootstrap=False, class_weight={0: 1, 1: 1}, criterion=gini, max_depth=36, max_features=auto, n_estimators=100, random_state=100;, score=0.752 total time=  36.3s\n",
      "[CV 5/5] END bootstrap=False, class_weight={0: 1, 1: 1}, criterion=gini, max_depth=36, max_features=auto, n_estimators=125, random_state=100;, score=0.749 total time=  45.1s\n",
      "[CV 5/5] END bootstrap=False, class_weight={0: 1, 1: 1}, criterion=gini, max_depth=36, max_features=None, n_estimators=75, random_state=100;, score=0.693 total time= 7.8min\n",
      "[CV 5/5] END bootstrap=False, class_weight={0: 1, 1: 1}, criterion=gini, max_depth=36, max_features=None, n_estimators=125, random_state=100;, score=0.693 total time=11.6min\n",
      "{'bootstrap': True, 'class_weight': {0: 1, 1: 1}, 'criterion': 'gini', 'max_depth': 36, 'max_features': None, 'n_estimators': 125, 'random_state': 100}\n",
      "0.7667373802010868\n"
     ]
    }
   ],
   "source": [
    "############### run complete grid search to find best hyperparameter values (among tested)\n",
    "\n",
    "# 5-fold cv \n",
    "cv = RepeatedStratifiedKFold(n_splits=5, n_repeats=1, random_state=100)\n",
    "\n",
    "# define grid with hyperparameter values\n",
    "param_grid_randomForest_GridSearch = {\n",
    "    \"n_estimators\" : [75,100,125],\n",
    "    \"max_features\" : [\"auto\", None],\n",
    "    'criterion': [\"gini\"],\n",
    "    \"max_depth\": [26,31,36],\n",
    "    \"random_state\" : [100],\n",
    "    \"bootstrap\" : [True, False],\n",
    "    \"class_weight\" : [{0:1, 1:1}]\n",
    "}\n",
    "\n",
    "# exhaustive grid search with f1 scoring metric\n",
    "grid_randomForest_GridSearch = GridSearchCV(RandomForestClassifier(), param_grid_randomForest_GridSearch, cv=cv, scoring='f1', verbose=3, n_jobs=-1)\n",
    "grid_randomForest_GridSearch.fit(X_train_imp, y_train);\n",
    "\n",
    "# print best hyperparameters and f1 score\n",
    "print(grid_randomForest_GridSearch.best_params_)\n",
    "print(grid_randomForest_GridSearch.best_score_)"
   ]
  },
  {
   "cell_type": "code",
   "execution_count": 100,
   "id": "121a7a98-a925-45ce-9bf2-c1afcd9d9a1d",
   "metadata": {},
   "outputs": [],
   "source": [
    "######### save results as a pickle file \n",
    "\n",
    "# with open('grid_randomForest_GridSearch_bestParams.pkl', 'wb') as f:\n",
    "#     pickle.dump(grid_randomForest_GridSearch.best_params_, f)\n",
    "    \n",
    "# with open('grid_randomForest_GridSearch_bestF1score.pkl', 'wb') as f:\n",
    "#     pickle.dump(grid_randomForest_GridSearch.best_score_, f)\n",
    "    \n",
    "# with open('grid_randomForest_GridSearch_crossVal.pkl', 'wb') as f:\n",
    "#     pickle.dump(grid_randomForest_GridSearch.cv_results_, f)  "
   ]
  },
  {
   "cell_type": "code",
   "execution_count": 95,
   "id": "5dbc8d96-bc1b-4667-b25b-e3ca2afbf5c1",
   "metadata": {},
   "outputs": [
    {
     "name": "stdout",
     "output_type": "stream",
     "text": [
      "{'bootstrap': True, 'class_weight': {0: 1, 1: 1}, 'criterion': 'gini', 'max_depth': 36, 'max_features': None, 'n_estimators': 125, 'random_state': 100}\n"
     ]
    },
    {
     "data": {
      "text/plain": [
       "0.7667373802010868"
      ]
     },
     "execution_count": 95,
     "metadata": {},
     "output_type": "execute_result"
    }
   ],
   "source": [
    "####### read pickle file with results \n",
    "\n",
    "with open('grid_randomForest_GridSearch_bestParams.pkl', 'rb') as f:\n",
    "    grid_randomForest_GridSearch_bestParams = pickle.load(f)\n",
    "    \n",
    "with open('grid_randomForest_GridSearch_bestF1score.pkl', 'rb') as f:\n",
    "    grid_randomForest_GridSearch_bestF1score = pickle.load(f)\n",
    "\n",
    "with open('grid_randomForest_GridSearch_crossVal.pkl', 'rb') as f:\n",
    "    grid_randomForest_GridSearch_crossVal = pickle.load(f)\n",
    "    \n",
    "print(grid_randomForest_GridSearch_bestParams)\n",
    "grid_randomForest_GridSearch_bestF1score"
   ]
  },
  {
   "cell_type": "markdown",
   "id": "e0ecb685-3f23-4a8c-be42-309996b8a602",
   "metadata": {},
   "source": [
    "### Fit and predict"
   ]
  },
  {
   "cell_type": "code",
   "execution_count": 147,
   "id": "8ead5b01-bb9e-49b3-a578-a9772ab86771",
   "metadata": {},
   "outputs": [
    {
     "name": "stdout",
     "output_type": "stream",
     "text": [
      "[[39631   244]\n",
      " [ 1060  2335]]\n"
     ]
    },
    {
     "data": {
      "text/plain": [
       "0.7817207900903917"
      ]
     },
     "execution_count": 147,
     "metadata": {},
     "output_type": "execute_result"
    }
   ],
   "source": [
    "# create random forest  instance\n",
    "rfc_grid = RandomForestClassifier(\n",
    "    n_estimators = grid_randomForest_GridSearch_bestParams[\"n_estimators\"],\n",
    "    criterion = grid_randomForest_GridSearch_bestParams[\"criterion\"],\n",
    "    max_depth = grid_randomForest_GridSearch_bestParams[\"max_depth\"],\n",
    "    bootstrap= grid_randomForest_GridSearch_bestParams['bootstrap'],\n",
    "    max_features= grid_randomForest_GridSearch_bestParams[\"max_features\"],\n",
    "    random_state=100,\n",
    "    class_weight = grid_randomForest_GridSearch_bestParams[\"class_weight\"]\n",
    "    )\n",
    "\n",
    "# fit decision tree model\n",
    "rfc_grid = rfc_grid.fit(X_train_imp, y_train)\n",
    "\n",
    "######### pickle (to save time when reloading notebook again)\n",
    "# with open('rfc_grid_finalModel.pkl', 'wb') as f:\n",
    "#     pickle.dump(rfc_grid, f)\n",
    "# with open('rfc_grid_finalModel.pkl', 'rb') as f:\n",
    "#     rfc_grid = pickle.load(f)\n",
    "    \n",
    "# perform prediction\n",
    "pred_rfc_grid = rfc_grid.predict(X_test_imp)\n",
    "\n",
    "# show confusion matrix and f1 score\n",
    "print(confusion_matrix(y_test, pred_rfc_grid))\n",
    "f1_score(y_test, pred_rfc_grid)"
   ]
  },
  {
   "cell_type": "code",
   "execution_count": 148,
   "id": "dd0fc363-b3a2-4904-9147-dd949d5e22c2",
   "metadata": {},
   "outputs": [
    {
     "data": {
      "image/png": "[encoded data removed]",
      "text/plain": [
       "<Figure size 432x288 with 1 Axes>"
      ]
     },
     "metadata": {
      "needs_background": "light"
     },
     "output_type": "display_data"
    }
   ],
   "source": [
    "# plot confusion matrix\n",
    "cm_RF = confusion_matrix(y_test, pred_rfc_grid)\n",
    "plot_cm(cm_RF)"
   ]
  },
  {
   "cell_type": "code",
   "execution_count": 149,
   "id": "be3a6de5-c290-40fd-8ed1-ee956d7501ba",
   "metadata": {},
   "outputs": [
    {
     "data": {
      "text/html": [
       "<div>\n",
       "<style scoped>\n",
       "    .dataframe tbody tr th:only-of-type {\n",
       "        vertical-align: middle;\n",
       "    }\n",
       "\n",
       "    .dataframe tbody tr th {\n",
       "        vertical-align: top;\n",
       "    }\n",
       "\n",
       "    .dataframe thead th {\n",
       "        text-align: right;\n",
       "    }\n",
       "</style>\n",
       "<table border=\"1\" class=\"dataframe\">\n",
       "  <thead>\n",
       "    <tr style=\"text-align: right;\">\n",
       "      <th></th>\n",
       "      <th>Metric</th>\n",
       "      <th>Score</th>\n",
       "    </tr>\n",
       "  </thead>\n",
       "  <tbody>\n",
       "    <tr>\n",
       "      <th>0</th>\n",
       "      <td>f1</td>\n",
       "      <td>0.781721</td>\n",
       "    </tr>\n",
       "    <tr>\n",
       "      <th>1</th>\n",
       "      <td>precision</td>\n",
       "      <td>0.905390</td>\n",
       "    </tr>\n",
       "    <tr>\n",
       "      <th>2</th>\n",
       "      <td>recall</td>\n",
       "      <td>0.687776</td>\n",
       "    </tr>\n",
       "    <tr>\n",
       "      <th>3</th>\n",
       "      <td>accuracy</td>\n",
       "      <td>0.969864</td>\n",
       "    </tr>\n",
       "  </tbody>\n",
       "</table>\n",
       "</div>"
      ],
      "text/plain": [
       "      Metric     Score\n",
       "0         f1  0.781721\n",
       "1  precision  0.905390\n",
       "2     recall  0.687776\n",
       "3   accuracy  0.969864"
      ]
     },
     "execution_count": 149,
     "metadata": {},
     "output_type": "execute_result"
    }
   ],
   "source": [
    "# calculate various scores\n",
    "pd.DataFrame(\n",
    "    {\"Metric\" : [\"f1\", \"precision\", \"recall\", \"accuracy\"], \n",
    "     \"Score\" : [f1_score(y_test, pred_rfc_grid), precision_score(y_test, pred_rfc_grid),recall_score(y_test, pred_rfc_grid), accuracy_score(y_test, pred_rfc_grid)]})\n",
    "    "
   ]
  },
  {
   "cell_type": "markdown",
   "id": "62b8c2f7-7d42-4e54-8719-6272823196e6",
   "metadata": {},
   "source": [
    "### Cut-off value"
   ]
  },
  {
   "cell_type": "code",
   "execution_count": 150,
   "id": "9386b792-6483-4249-9246-5394f3fcb554",
   "metadata": {},
   "outputs": [
    {
     "name": "stdout",
     "output_type": "stream",
     "text": [
      "Cutoff = 0.0\n",
      "Cutoff = 0.1\n",
      "Cutoff = 0.2\n",
      "Cutoff = 0.30000000000000004\n",
      "Cutoff = 0.4\n",
      "Cutoff = 0.5\n",
      "Cutoff = 0.6000000000000001\n",
      "Cutoff = 0.7000000000000001\n",
      "Cutoff = 0.8\n",
      "Cutoff = 0.9\n",
      "Cutoff = 1.0\n"
     ]
    },
    {
     "data": {
      "image/png": "[encoded data removed]",
      "text/plain": [
       "<Figure size 432x288 with 1 Axes>"
      ]
     },
     "metadata": {
      "needs_background": "light"
     },
     "output_type": "display_data"
    },
    {
     "data": {
      "text/plain": [
       "{0.0: 0.15,\n",
       " 0.1: 0.6,\n",
       " 0.2: 0.74,\n",
       " 0.30000000000000004: 0.79,\n",
       " 0.4: 0.8,\n",
       " 0.5: 0.78,\n",
       " 0.6000000000000001: 0.75,\n",
       " 0.7000000000000001: 0.72,\n",
       " 0.8: 0.66,\n",
       " 0.9: 0.55,\n",
       " 1.0: 0.0}"
      ]
     },
     "execution_count": 150,
     "metadata": {},
     "output_type": "execute_result"
    }
   ],
   "source": [
    "# plot f1 scores for various cut-off values\n",
    "plot_cutoff_f1(rfc_grid.predict_proba(X_test_imp)[:,1], y_test, 0.2)"
   ]
  },
  {
   "cell_type": "code",
   "execution_count": 158,
   "id": "07cfcbfd-88a4-44b2-a233-5ed4acff5080",
   "metadata": {},
   "outputs": [
    {
     "data": {
      "image/png": "[encoded data removed]",
      "text/plain": [
       "<Figure size 432x288 with 1 Axes>"
      ]
     },
     "metadata": {
      "needs_background": "light"
     },
     "output_type": "display_data"
    }
   ],
   "source": [
    "# plot confusion matrix for cut-off value of 0.4\n",
    "plot_cm(confusion_matrix(y_test, 1*(rfc_grid.predict_proba(X_test_imp)[:,1] > 0.4)))"
   ]
  },
  {
   "cell_type": "markdown",
   "id": "e64609dc-6171-4ed5-b64b-6413f2976630",
   "metadata": {
    "tags": []
   },
   "source": [
    "### Oversampling experiment"
   ]
  },
  {
   "cell_type": "code",
   "execution_count": 161,
   "id": "817e860b-1526-48f7-ab47-c465ad694057",
   "metadata": {},
   "outputs": [
    {
     "name": "stdout",
     "output_type": "stream",
     "text": [
      "0.7791524899474174\n"
     ]
    },
    {
     "data": {
      "text/plain": [
       "array([[39323,   552],\n",
       "       [  876,  2519]])"
      ]
     },
     "execution_count": 161,
     "metadata": {},
     "output_type": "execute_result"
    }
   ],
   "source": [
    "# use the same hyperparameter values from the complete gid search\n",
    "rfc_experiment = RandomForestClassifier(\n",
    "    n_estimators = grid_randomForest_GridSearch_bestParams[\"n_estimators\"],\n",
    "    criterion = grid_randomForest_GridSearch_bestParams[\"criterion\"],\n",
    "    max_depth = grid_randomForest_GridSearch_bestParams[\"max_depth\"],\n",
    "    bootstrap= grid_randomForest_GridSearch_bestParams['bootstrap'],\n",
    "    class_weight = grid_randomForest_GridSearch_bestParams[\"class_weight\"],\n",
    "    max_features= grid_randomForest_GridSearch_bestParams[\"max_features\"],\n",
    "    random_state=100,\n",
    "    n_jobs=-1\n",
    "    )\n",
    "\n",
    "# fit model\n",
    "rfc_experiment = rfc_experiment.fit(X_train_imp_oversampled, y_train_oversampled)\n",
    "\n",
    "######### pickle (to save time when reloading notebook again)\n",
    "# with open('rfc_experiment_finalModel.pkl', 'wb') as f:\n",
    "#      pickle.dump(rfc_experiment, f)\n",
    "# with open('rfc_experiment_finalModel.pkl', 'rb') as f:\n",
    "#     rfc_experiment = pickle.load(f)\n",
    "\n",
    "# perform prediction\n",
    "pred_rfc_experiment = rfc_experiment.predict(X_test_imp)\n",
    "\n",
    "# print f1 score and confusion matrix\n",
    "print(f1_score(y_test, pred_rfc_experiment))\n",
    "confusion_matrix(y_test,pred_rfc_experiment)"
   ]
  },
  {
   "cell_type": "code",
   "execution_count": 162,
   "id": "7d027ec8-dd33-4824-8e30-e74085098c6d",
   "metadata": {},
   "outputs": [
    {
     "name": "stdout",
     "output_type": "stream",
     "text": [
      "Cutoff = 0.0\n",
      "Cutoff = 0.1\n",
      "Cutoff = 0.2\n",
      "Cutoff = 0.30000000000000004\n",
      "Cutoff = 0.4\n",
      "Cutoff = 0.5\n",
      "Cutoff = 0.6000000000000001\n",
      "Cutoff = 0.7000000000000001\n",
      "Cutoff = 0.8\n",
      "Cutoff = 0.9\n",
      "Cutoff = 1.0\n"
     ]
    },
    {
     "data": {
      "image/png": "[encoded data removed]",
      "text/plain": [
       "<Figure size 432x288 with 1 Axes>"
      ]
     },
     "metadata": {
      "needs_background": "light"
     },
     "output_type": "display_data"
    },
    {
     "data": {
      "text/plain": [
       "{0.0: 0.2,\n",
       " 0.1: 0.55,\n",
       " 0.2: 0.67,\n",
       " 0.30000000000000004: 0.74,\n",
       " 0.4: 0.78,\n",
       " 0.5: 0.78,\n",
       " 0.6000000000000001: 0.77,\n",
       " 0.7000000000000001: 0.76,\n",
       " 0.8: 0.72,\n",
       " 0.9: 0.66,\n",
       " 1.0: 0.0}"
      ]
     },
     "execution_count": 162,
     "metadata": {},
     "output_type": "execute_result"
    }
   ],
   "source": [
    "# plot f1 scores for various cut-off values for this experiment\n",
    "plot_cutoff_f1(rfc_experiment.predict_proba(X_test_imp)[:,1], y_test, 0.2)"
   ]
  },
  {
   "cell_type": "markdown",
   "id": "c34a0856-3008-4743-9008-f349bd28b864",
   "metadata": {},
   "source": [
    "### Check how auto max_features performs"
   ]
  },
  {
   "cell_type": "code",
   "execution_count": 163,
   "id": "46329a17-ac5e-4382-9eeb-b56c6b27e0aa",
   "metadata": {},
   "outputs": [
    {
     "name": "stdout",
     "output_type": "stream",
     "text": [
      "0.7645743766122097\n"
     ]
    },
    {
     "data": {
      "text/plain": [
       "array([[39678,   197],\n",
       "       [ 1172,  2223]])"
      ]
     },
     "execution_count": 163,
     "metadata": {},
     "output_type": "execute_result"
    }
   ],
   "source": [
    "# use the same hyperparameter values from the complete gid search\n",
    "rfc_experiment_maxFeat = RandomForestClassifier(\n",
    "    n_estimators = grid_randomForest_GridSearch_bestParams[\"n_estimators\"],\n",
    "    criterion = grid_randomForest_GridSearch_bestParams[\"criterion\"],\n",
    "    max_depth = grid_randomForest_GridSearch_bestParams[\"max_depth\"],\n",
    "    bootstrap= False,\n",
    "    class_weight = grid_randomForest_GridSearch_bestParams[\"class_weight\"],\n",
    "    max_features= 'auto',\n",
    "    random_state=100,\n",
    "    n_jobs=-1\n",
    "    )\n",
    "    \n",
    "# fit model\n",
    "rfc_experiment_maxFeat = rfc_experiment_maxFeat.fit(X_train_imp, y_train)\n",
    "\n",
    "######### pickle (to save time when reloading notebook again)\n",
    "# with open('rfc_experiment_maxFeat_finalModel.pkl', 'wb') as f:\n",
    "#      pickle.dump(rfc_experiment_maxFeat, f)\n",
    "# with open('rfc_experiment_maxFeat_finalModel.pkl', 'rb') as f:\n",
    "#     rfc_experiment_maxFeat = pickle.load(f)\n",
    "\n",
    "# perform prediction\n",
    "pred_rfc_experiment_maxFeat = rfc_experiment_maxFeat.predict(X_test_imp)\n",
    "\n",
    "# print f1-score and confusion matrx\n",
    "print(f1_score(y_test, pred_rfc_experiment_maxFeat))\n",
    "confusion_matrix(y_test,pred_rfc_experiment_maxFeat)"
   ]
  },
  {
   "cell_type": "code",
   "execution_count": 164,
   "id": "4c759d9c-53e2-4814-9288-41739d7469f6",
   "metadata": {},
   "outputs": [
    {
     "name": "stdout",
     "output_type": "stream",
     "text": [
      "Cutoff = 0.0\n",
      "Cutoff = 0.1\n",
      "Cutoff = 0.2\n",
      "Cutoff = 0.30000000000000004\n",
      "Cutoff = 0.4\n",
      "Cutoff = 0.5\n",
      "Cutoff = 0.6000000000000001\n",
      "Cutoff = 0.7000000000000001\n",
      "Cutoff = 0.8\n",
      "Cutoff = 0.9\n",
      "Cutoff = 1.0\n"
     ]
    },
    {
     "data": {
      "image/png": "[encoded data removed]",
      "text/plain": [
       "<Figure size 432x288 with 1 Axes>"
      ]
     },
     "metadata": {
      "needs_background": "light"
     },
     "output_type": "display_data"
    },
    {
     "data": {
      "text/plain": [
       "{0.0: 0.15,\n",
       " 0.1: 0.61,\n",
       " 0.2: 0.74,\n",
       " 0.30000000000000004: 0.78,\n",
       " 0.4: 0.78,\n",
       " 0.5: 0.76,\n",
       " 0.6000000000000001: 0.73,\n",
       " 0.7000000000000001: 0.67,\n",
       " 0.8: 0.6,\n",
       " 0.9: 0.47,\n",
       " 1.0: 0.0}"
      ]
     },
     "execution_count": 164,
     "metadata": {},
     "output_type": "execute_result"
    }
   ],
   "source": [
    "# plot f1 scores for various cut-off values for this experiment\n",
    "plot_cutoff_f1(rfc_experiment_maxFeat.predict_proba(X_test_imp)[:,1], y_test, 0.2)"
   ]
  },
  {
   "cell_type": "markdown",
   "id": "1ec24465-70c5-4ebe-aee8-5a5e8c1dcbe4",
   "metadata": {},
   "source": [
    "### Features importance"
   ]
  },
  {
   "cell_type": "code",
   "execution_count": 165,
   "id": "e4072d80-988f-4c66-b02d-45b3c4d629d0",
   "metadata": {},
   "outputs": [],
   "source": [
    "# storage for feature importances from the final rfc model\n",
    "rfc_importances = pd.Series(rfc_grid.feature_importances_, index=rfc_grid.feature_names_in_)\n",
    "importantFeatures = rfc_importances.sort_values(ascending=False)"
   ]
  },
  {
   "cell_type": "code",
   "execution_count": 166,
   "id": "f9f8b92d-534d-49d9-ad1f-a068bd0cb658",
   "metadata": {
    "scrolled": true,
    "tags": []
   },
   "outputs": [
    {
     "data": {
      "text/plain": [
       "C1                0.181645\n",
       "C13               0.087062\n",
       "V258              0.069297\n",
       "C14               0.045459\n",
       "id_02             0.036500\n",
       "TransactionAmt    0.034367\n",
       "V201              0.030716\n",
       "card1             0.027952\n",
       "id_20             0.021936\n",
       "id_19             0.019145\n",
       "dtype: float64"
      ]
     },
     "execution_count": 166,
     "metadata": {},
     "output_type": "execute_result"
    }
   ],
   "source": [
    "# print most important values \n",
    "rfc_importances.sort_values(ascending=False).head(10)"
   ]
  },
  {
   "cell_type": "code",
   "execution_count": 232,
   "id": "d04c895c-9847-45b9-af65-16fb4058ae14",
   "metadata": {},
   "outputs": [
    {
     "data": {
      "image/png": "[encoded data removed]",
      "text/plain": [
       "<Figure size 1008x864 with 1 Axes>"
      ]
     },
     "metadata": {
      "needs_background": "light"
     },
     "output_type": "display_data"
    }
   ],
   "source": [
    "# plot bar chart with 20 most important featurs \n",
    "fig, ax = plt.subplots(figsize =(14, 12))\n",
    "ax.barh(importantFeatures.head(20).index, importantFeatures.head(20).values)\n",
    "ax.invert_yaxis()\n",
    "ax.set_title(\"Top 20 Most Important Features\", fontsize = 20)\n",
    "ax.set_xlabel(\"Feature Importance (From the Random Forest Classifier Model)\", fontsize=16)\n",
    "ax.tick_params(axis='both', labelsize=14)\n",
    "#plt.bar()\n",
    "#plt.xticks(rotation = 90)"
   ]
  },
  {
   "cell_type": "markdown",
   "id": "1c7d2f2c-a1f7-45f7-b194-26f70ee47a2e",
   "metadata": {},
   "source": [
    "## KNN"
   ]
  },
  {
   "cell_type": "markdown",
   "id": "2ea03903-3f68-4e8d-86ad-e7cd622f8388",
   "metadata": {},
   "source": [
    "### Scalling data"
   ]
  },
  {
   "cell_type": "code",
   "execution_count": 476,
   "id": "61d98827-14eb-4928-90f4-6ce78bc634b5",
   "metadata": {},
   "outputs": [],
   "source": [
    "# binary columns\n",
    "binary_cols = X_train_imp.nunique().sort_values()[X_train_imp.nunique().sort_values() == 2].index\n",
    "\n",
    "# perform scalling for top 50, 100, 150, 200 most impoortant features and for all\n",
    "X_train_imp_scaled50, X_test_imp_scaled50 = scale_data_new(X_train_imp[importantFeatures.head(50).index], X_test_imp[importantFeatures.head(50).index], binary_cols)\n",
    "X_train_imp_scaled100, X_test_imp_scaled100 = scale_data_new(X_train_imp[importantFeatures.head(100).index], X_test_imp[importantFeatures.head(100).index], binary_cols)\n",
    "X_train_imp_scaled150, X_test_imp_scaled150 = scale_data_new(X_train_imp[importantFeatures.head(150).index], X_test_imp[importantFeatures.head(150).index], binary_cols)\n",
    "X_train_imp_scaled200, X_test_imp_scaled200 = scale_data_new(X_train_imp[importantFeatures.head(200).index], X_test_imp[importantFeatures.head(200).index], binary_cols)\n",
    "X_train_imp_scaledALL, X_test_imp_scaledALL = scale_data_new(X_train_imp, X_test_imp, binary_cols)"
   ]
  },
  {
   "cell_type": "markdown",
   "id": "2fd30625-345d-4901-8456-f21445bc3e11",
   "metadata": {},
   "source": [
    "### Grid search & feature importance"
   ]
  },
  {
   "cell_type": "markdown",
   "id": "04af14d0-1f78-4530-8a0b-9d16a9536c4c",
   "metadata": {
    "tags": []
   },
   "source": [
    "#### All features"
   ]
  },
  {
   "cell_type": "code",
   "execution_count": 425,
   "id": "57894698-b18e-4667-9ea9-3427de416f42",
   "metadata": {
    "tags": []
   },
   "outputs": [
    {
     "name": "stdout",
     "output_type": "stream",
     "text": [
      "Fitting 5 folds for each of 6 candidates, totalling 30 fits\n",
      "{'n_neighbors': 3, 'weights': 'distance'}\n"
     ]
    },
    {
     "data": {
      "text/plain": [
       "0.6362120772695937"
      ]
     },
     "execution_count": 425,
     "metadata": {},
     "output_type": "execute_result"
    }
   ],
   "source": [
    "# 5-fold cv\n",
    "cv = RepeatedStratifiedKFold(n_splits=5, n_repeats=1, random_state=100)\n",
    "\n",
    "# grid with hyperparameters to check\n",
    "param_grid_KNN_GridSearch = {\n",
    "    \"n_neighbors\" : [1,3,5],\n",
    "    \"weights\" : ['uniform','distance']\n",
    "}\n",
    "\n",
    "# exhaustive grid search with f1 scoring metric\n",
    "grid_KNN_GridSearch = GridSearchCV(KNeighborsClassifier(), param_grid_KNN_GridSearch, cv=cv, scoring='f1', verbose=1, n_jobs=-1)\n",
    "grid_KNN_GridSearch.fit(X_train_imp_scaledALL, y_train)\n",
    "\n",
    "# print best hyperparameter values and best f1-score  \n",
    "print(grid_KNN_GridSearch.best_params_)\n",
    "grid_KNN_GridSearch.best_score_"
   ]
  },
  {
   "cell_type": "code",
   "execution_count": 430,
   "id": "f7dc2567-7ad1-4467-8134-9a867a9945cd",
   "metadata": {},
   "outputs": [],
   "source": [
    "######### save results as a pickle file \n",
    "\n",
    "# with open('grid_KNN_GridSearch_allFeatures_bestParams.pkl', 'wb') as f:\n",
    "#     pickle.dump(grid_KNN_GridSearch.best_params_, f)\n",
    "    \n",
    "# with open('grid_KNN_GridSearch_allFeatures_bestF1score.pkl', 'wb') as f:\n",
    "#     pickle.dump(grid_KNN_GridSearch.best_score_, f)\n",
    "    \n",
    "# with open('grid_KNN_GridSearch_allFeatures_cvResults.pkl', 'wb') as f:\n",
    "#     pickle.dump(grid_KNN_GridSearch.cv_results_, f)"
   ]
  },
  {
   "cell_type": "code",
   "execution_count": 96,
   "id": "fadb8422-3a3e-43f3-b6cb-11f03c536570",
   "metadata": {},
   "outputs": [
    {
     "name": "stdout",
     "output_type": "stream",
     "text": [
      "{'n_neighbors': 3, 'weights': 'distance'}\n"
     ]
    },
    {
     "data": {
      "text/plain": [
       "0.6362120772695937"
      ]
     },
     "execution_count": 96,
     "metadata": {},
     "output_type": "execute_result"
    }
   ],
   "source": [
    "####### read pickle file with results \n",
    "\n",
    "with open('grid_KNN_GridSearch_allFeatures_bestParams.pkl', 'rb') as f:\n",
    "    grid_KNN_GridSearch_allFeatures_bestParams = pickle.load(f)\n",
    "    \n",
    "with open('grid_KNN_GridSearch_allFeatures_bestF1score.pkl', 'rb') as f:\n",
    "    grid_KNN_GridSearch_allFeatures_bestF1score = pickle.load(f)\n",
    "\n",
    "with open('grid_KNN_GridSearch_allFeatures_cvResults.pkl', 'rb') as f:\n",
    "    grid_KNN_GridSearch_allFeatures_cvResults = pickle.load(f)\n",
    "    \n",
    "print(grid_KNN_GridSearch_allFeatures_bestParams)\n",
    "grid_KNN_GridSearch_allFeatures_bestF1score"
   ]
  },
  {
   "cell_type": "markdown",
   "id": "17805e60-55d5-4918-a464-45f116b373d0",
   "metadata": {},
   "source": [
    "#### Important features"
   ]
  },
  {
   "cell_type": "markdown",
   "id": "581e938d-e32f-4620-aabd-c2238cad87bc",
   "metadata": {},
   "source": [
    "##### Top 50"
   ]
  },
  {
   "cell_type": "code",
   "execution_count": 436,
   "id": "a29ebf7e-3777-4f81-8efb-ac2279777a25",
   "metadata": {},
   "outputs": [
    {
     "data": {
      "text/plain": [
       "Index(['C1', 'C13', 'V258', 'C14', 'id_02', 'TransactionAmt', 'V201', 'card1',\n",
       "       'id_20', 'id_19', 'card2', 'id_01', 'id_05', 'id_06', 'card5', 'C11',\n",
       "       'C2', 'id_17', 'V244', 'card3', 'C8', 'C10', 'C12',\n",
       "       'R_emaildomain_gmail', 'V189', 'P_emaildomain_gmail',\n",
       "       'P_emaildomain_anonymous', 'card6_credit', 'D1', 'C6', 'V261', 'V264',\n",
       "       'V262', 'C4', 'R_emaildomain_anonymous', 'V187', 'V315', 'id_11',\n",
       "       'V259', 'V203', 'DeviceType_mobile', 'V307', 'V198', 'C7',\n",
       "       'ProductCD_H', 'id_31_firefox', 'id_15_New', 'V306', 'id_31_chrome',\n",
       "       'V267'],\n",
       "      dtype='object')"
      ]
     },
     "execution_count": 436,
     "metadata": {},
     "output_type": "execute_result"
    }
   ],
   "source": [
    "# show top 50 important features\n",
    "importantFeatures.head(50).index"
   ]
  },
  {
   "cell_type": "code",
   "execution_count": 441,
   "id": "0c1c5da8-1816-45e8-8cbc-dc7b9846216e",
   "metadata": {},
   "outputs": [
    {
     "name": "stdout",
     "output_type": "stream",
     "text": [
      "CPU times: user 2 µs, sys: 2 µs, total: 4 µs\n",
      "Wall time: 6.91 µs\n",
      "Fitting 5 folds for each of 6 candidates, totalling 30 fits\n",
      "CPU times: user 122 ms, sys: 268 ms, total: 391 ms\n",
      "Wall time: 3min 12s\n",
      "{'n_neighbors': 3, 'weights': 'distance'}\n"
     ]
    },
    {
     "data": {
      "text/plain": [
       "0.6432204062535027"
      ]
     },
     "execution_count": 441,
     "metadata": {},
     "output_type": "execute_result"
    }
   ],
   "source": [
    "########### 50\n",
    "%time\n",
    "\n",
    "# 5-fold cv\n",
    "cv = RepeatedStratifiedKFold(n_splits=5, n_repeats=1, random_state=100)\n",
    "\n",
    "# grid with hyperparameters to check\n",
    "param_grid_KNN_GridSearch50 = {\n",
    "    \"n_neighbors\" : [1,3,5],\n",
    "    \"weights\" : ['uniform','distance']\n",
    "}\n",
    "\n",
    "# exhaustive grid search with f1 scoring metric\n",
    "grid_KNN_GridSearch50 = GridSearchCV(KNeighborsClassifier(), param_grid_KNN_GridSearch50, cv=cv, scoring='f1', verbose=1, n_jobs=-1)\n",
    "grid_KNN_GridSearch50.fit(X_train_imp_scaled50, y_train);\n",
    "\n",
    "# print best hyperparameter values and best f1-score  \n",
    "print(grid_KNN_GridSearch50.best_params_)\n",
    "grid_KNN_GridSearch50.best_score_"
   ]
  },
  {
   "cell_type": "code",
   "execution_count": 444,
   "id": "894d8b73-7451-49cb-b0bc-8897b652bb21",
   "metadata": {},
   "outputs": [],
   "source": [
    "######### save results as a pickle file \n",
    "\n",
    "# with open('grid_KNN_GridSearch_50Features_bestParams.pkl', 'wb') as f:\n",
    "#     pickle.dump(grid_KNN_GridSearch50.best_params_, f)\n",
    "    \n",
    "# with open('grid_KNN_GridSearch_50Features_bestF1score.pkl', 'wb') as f:\n",
    "#     pickle.dump(grid_KNN_GridSearch50.best_score_, f)\n",
    "    \n",
    "# with open('grid_KNN_GridSearch_50Features_cvResults.pkl', 'wb') as f:\n",
    "#     pickle.dump(grid_KNN_GridSearch50.cv_results_, f)"
   ]
  },
  {
   "cell_type": "code",
   "execution_count": 97,
   "id": "dd852a8c-5507-497b-9d4c-f13dbefcfd1c",
   "metadata": {},
   "outputs": [
    {
     "name": "stdout",
     "output_type": "stream",
     "text": [
      "{'n_neighbors': 3, 'weights': 'distance'}\n"
     ]
    },
    {
     "data": {
      "text/plain": [
       "0.6432204062535027"
      ]
     },
     "execution_count": 97,
     "metadata": {},
     "output_type": "execute_result"
    }
   ],
   "source": [
    "####### read pickle file with results \n",
    "\n",
    "with open('grid_KNN_GridSearch_50Features_bestParams.pkl', 'rb') as f:\n",
    "    grid_KNN_GridSearch_50Features_bestParams = pickle.load(f)\n",
    "    \n",
    "with open('grid_KNN_GridSearch_50Features_bestF1score.pkl', 'rb') as f:\n",
    "    grid_KNN_GridSearch_50Features_bestF1score = pickle.load(f)\n",
    "    \n",
    "with open('grid_KNN_GridSearch_50Features_cvResults.pkl', 'rb') as f:\n",
    "    grid_KNN_GridSearch_50Features_cvResults = pickle.load(f)    \n",
    "    \n",
    "print(grid_KNN_GridSearch_50Features_bestParams)\n",
    "grid_KNN_GridSearch_50Features_bestF1score"
   ]
  },
  {
   "cell_type": "markdown",
   "id": "078e2c99-87e7-4696-938c-3ce113165194",
   "metadata": {},
   "source": [
    "##### Top 100"
   ]
  },
  {
   "cell_type": "code",
   "execution_count": 447,
   "id": "4aa5a340-2cdb-4a03-a636-25c83d60b3a9",
   "metadata": {},
   "outputs": [
    {
     "data": {
      "text/plain": [
       "Index(['C1', 'C13', 'V258', 'C14', 'id_02', 'TransactionAmt', 'V201', 'card1',\n",
       "       'id_20', 'id_19', 'card2', 'id_01', 'id_05', 'id_06', 'card5', 'C11',\n",
       "       'C2', 'id_17', 'V244', 'card3', 'C8', 'C10', 'C12',\n",
       "       'R_emaildomain_gmail', 'V189', 'P_emaildomain_gmail',\n",
       "       'P_emaildomain_anonymous', 'card6_credit', 'D1', 'C6', 'V261', 'V264',\n",
       "       'V262', 'C4', 'R_emaildomain_anonymous', 'V187', 'V315', 'id_11',\n",
       "       'V259', 'V203', 'DeviceType_mobile', 'V307', 'V198', 'C7',\n",
       "       'ProductCD_H', 'id_31_firefox', 'id_15_New', 'V306', 'id_31_chrome',\n",
       "       'V267', 'V265', 'DeviceType_desktop', 'V207', 'P_emaildomain_hotmail',\n",
       "       'V204', 'V257', 'V274', 'R_emaildomain_hotmail', 'V251', 'V209', 'V234',\n",
       "       'V263', 'id_31_other', 'card4_mastercard', 'id_31_safari', 'V283',\n",
       "       'V222', 'V256', 'V210', 'id_38_F', 'V308', 'V208', 'card4_visa', 'V260',\n",
       "       'V245', 'V170', 'V130', 'V275', 'id_38_T', 'V221', 'V202', 'V282',\n",
       "       'R_emaildomain_yahoo', 'V178', 'V277', 'V273', 'V212', 'V266', 'V253',\n",
       "       'R_emaildomain_other', 'card6_debit', 'V218', 'V229', 'V171', 'V270',\n",
       "       'id_31_samsung', 'V169', 'V205', 'V246', 'V227'],\n",
       "      dtype='object')"
      ]
     },
     "execution_count": 447,
     "metadata": {},
     "output_type": "execute_result"
    }
   ],
   "source": [
    "# show top 100 important features\n",
    "importantFeatures.head(100).index"
   ]
  },
  {
   "cell_type": "code",
   "execution_count": 450,
   "id": "26d9504f-aa5b-4095-a8bf-2f00db4fd61b",
   "metadata": {},
   "outputs": [
    {
     "name": "stdout",
     "output_type": "stream",
     "text": [
      "CPU times: user 3 µs, sys: 1 µs, total: 4 µs\n",
      "Wall time: 7.15 µs\n",
      "Fitting 5 folds for each of 6 candidates, totalling 30 fits\n",
      "CPU times: user 145 ms, sys: 353 ms, total: 498 ms\n",
      "Wall time: 6min 27s\n",
      "{'n_neighbors': 3, 'weights': 'distance'}\n"
     ]
    },
    {
     "data": {
      "text/plain": [
       "0.6508047838245457"
      ]
     },
     "execution_count": 450,
     "metadata": {},
     "output_type": "execute_result"
    }
   ],
   "source": [
    "# 100\n",
    "%time\n",
    "\n",
    "# 5-fold cv\n",
    "cv = RepeatedStratifiedKFold(n_splits=5, n_repeats=1, random_state=100)\n",
    "\n",
    "# grid with hyperparameters to check\n",
    "param_grid_KNN_GridSearch100 = {\n",
    "    \"n_neighbors\" : [1,3,5],\n",
    "    \"weights\" : ['uniform','distance']\n",
    "}\n",
    "\n",
    "\n",
    "# exhaustive grid search with f1 scoring metric\n",
    "grid_KNN_GridSearch100 = GridSearchCV(KNeighborsClassifier(), param_grid_KNN_GridSearch100, cv=cv, scoring='f1', verbose=1, n_jobs=-1)\n",
    "grid_KNN_GridSearch100.fit(X_train_imp_scaled100, y_train)\n",
    "\n",
    "# print best hyperparameter values and best f1-score  \n",
    "print(grid_KNN_GridSearch100.best_params_)\n",
    "grid_KNN_GridSearch100.best_score_"
   ]
  },
  {
   "cell_type": "code",
   "execution_count": 453,
   "id": "0c22a881-eca0-4ba7-99fa-6a789fd6e6f3",
   "metadata": {},
   "outputs": [],
   "source": [
    "######### save results as a pickle file \n",
    "\n",
    "# with open('grid_KNN_GridSearch_100Features_bestParams.pkl', 'wb') as f:\n",
    "#     pickle.dump(grid_KNN_GridSearch100.best_params_, f)\n",
    "    \n",
    "# with open('grid_KNN_GridSearch_100Features_bestF1score.pkl', 'wb') as f:\n",
    "#     pickle.dump(grid_KNN_GridSearch100.best_score_, f)\n",
    "\n",
    "# with open('grid_KNN_GridSearch_100Features_cvResults.pkl', 'wb') as f:\n",
    "#     pickle.dump(grid_KNN_GridSearch100.cv_results_, f)"
   ]
  },
  {
   "cell_type": "code",
   "execution_count": 98,
   "id": "17c2ca5c-637f-49ec-8db3-2aa5bca67b2f",
   "metadata": {},
   "outputs": [
    {
     "name": "stdout",
     "output_type": "stream",
     "text": [
      "{'n_neighbors': 3, 'weights': 'distance'}\n"
     ]
    },
    {
     "data": {
      "text/plain": [
       "0.6508047838245457"
      ]
     },
     "execution_count": 98,
     "metadata": {},
     "output_type": "execute_result"
    }
   ],
   "source": [
    "####### read pickle file with results \n",
    "\n",
    "with open('grid_KNN_GridSearch_100Features_bestParams.pkl', 'rb') as f:\n",
    "    grid_KNN_GridSearch_100Features_bestParams = pickle.load(f)\n",
    "    \n",
    "with open('grid_KNN_GridSearch_100Features_bestF1score.pkl', 'rb') as f:\n",
    "    grid_KNN_GridSearch_100Features_bestF1score = pickle.load(f)\n",
    "\n",
    "with open('grid_KNN_GridSearch_100Features_cvResults.pkl', 'rb') as f:\n",
    "    grid_KNN_GridSearch_100Features_cvResults = pickle.load(f)\n",
    "\n",
    "print(grid_KNN_GridSearch_100Features_bestParams)\n",
    "grid_KNN_GridSearch_100Features_bestF1score"
   ]
  },
  {
   "cell_type": "markdown",
   "id": "10794106-2d0f-49ba-ae3f-5d6894d88059",
   "metadata": {},
   "source": [
    "##### Top 150"
   ]
  },
  {
   "cell_type": "code",
   "execution_count": 458,
   "id": "2a684752-a129-4ccf-9177-9fef6fa0fe03",
   "metadata": {},
   "outputs": [
    {
     "name": "stdout",
     "output_type": "stream",
     "text": [
      "CPU times: user 2 µs, sys: 1e+03 ns, total: 3 µs\n",
      "Wall time: 6.91 µs\n",
      "Fitting 5 folds for each of 6 candidates, totalling 30 fits\n",
      "CPU times: user 155 ms, sys: 402 ms, total: 558 ms\n",
      "Wall time: 6min 51s\n",
      "{'n_neighbors': 3, 'weights': 'distance'}\n"
     ]
    },
    {
     "data": {
      "text/plain": [
       "0.655764273509588"
      ]
     },
     "execution_count": 458,
     "metadata": {},
     "output_type": "execute_result"
    }
   ],
   "source": [
    "#150\n",
    "%time\n",
    "\n",
    "# 5-fold cv\n",
    "cv = RepeatedStratifiedKFold(n_splits=5, n_repeats=1, random_state=100)\n",
    "\n",
    "# grid with hyperparameters to check\n",
    "param_grid_KNN_GridSearch150 = {\n",
    "    \"n_neighbors\" : [1,3,5],\n",
    "    \"weights\" : ['uniform','distance']\n",
    "}\n",
    "\n",
    "\n",
    "# exhaustive grid search with f1 scoring metric\n",
    "grid_KNN_GridSearch150 = GridSearchCV(KNeighborsClassifier(), param_grid_KNN_GridSearch150, cv=cv, scoring='f1', verbose=1, n_jobs=-1)\n",
    "grid_KNN_GridSearch150.fit(X_train_imp_scaled150, y_train)\n",
    "\n",
    "# print best hyperparameter values and best f1-score  \n",
    "print(grid_KNN_GridSearch150.best_params_)\n",
    "grid_KNN_GridSearch150.best_score_"
   ]
  },
  {
   "cell_type": "code",
   "execution_count": 464,
   "id": "f12905dd-2005-4ffa-b6be-d4e8c5083d0f",
   "metadata": {},
   "outputs": [],
   "source": [
    "######### save results as a pickle file \n",
    "\n",
    "# with open('grid_KNN_GridSearch_150Features_bestParams.pkl', 'wb') as f:\n",
    "#     pickle.dump(grid_KNN_GridSearch150.best_params_, f)\n",
    "    \n",
    "# with open('grid_KNN_GridSearch_150Features_bestF1score.pkl', 'wb') as f:\n",
    "#     pickle.dump(grid_KNN_GridSearch150.best_score_, f)\n",
    "\n",
    "# with open('grid_KNN_GridSearch_150Features_cvResults.pkl', 'wb') as f:\n",
    "#     pickle.dump(grid_KNN_GridSearch150.cv_results_, f)"
   ]
  },
  {
   "cell_type": "code",
   "execution_count": 99,
   "id": "6262cea4-37f1-4ef3-9be4-732d0e051e82",
   "metadata": {},
   "outputs": [
    {
     "name": "stdout",
     "output_type": "stream",
     "text": [
      "{'n_neighbors': 3, 'weights': 'distance'}\n"
     ]
    },
    {
     "data": {
      "text/plain": [
       "0.655764273509588"
      ]
     },
     "execution_count": 99,
     "metadata": {},
     "output_type": "execute_result"
    }
   ],
   "source": [
    "####### read pickle file with results \n",
    "\n",
    "with open('grid_KNN_GridSearch_150Features_bestParams.pkl', 'rb') as f:\n",
    "    grid_KNN_GridSearch_150Features_bestParams = pickle.load(f)\n",
    "    \n",
    "with open('grid_KNN_GridSearch_150Features_bestF1score.pkl', 'rb') as f:\n",
    "    grid_KNN_GridSearch_150Features_bestF1score = pickle.load(f)\n",
    "    \n",
    "with open('grid_KNN_GridSearch_150Features_cvResults.pkl', 'rb') as f:\n",
    "    grid_KNN_GridSearch_150Features_cvResults = pickle.load(f)\n",
    "    \n",
    "print(grid_KNN_GridSearch_150Features_bestParams)\n",
    "grid_KNN_GridSearch_150Features_bestF1score"
   ]
  },
  {
   "cell_type": "markdown",
   "id": "85d11f5d-6827-4fbe-85ba-69c6627cdac3",
   "metadata": {},
   "source": [
    "##### Top 200"
   ]
  },
  {
   "cell_type": "code",
   "execution_count": 459,
   "id": "5224f3ed-3f3a-4d56-99ed-785cd071e418",
   "metadata": {},
   "outputs": [
    {
     "name": "stdout",
     "output_type": "stream",
     "text": [
      "CPU times: user 2 µs, sys: 1 µs, total: 3 µs\n",
      "Wall time: 5.01 µs\n",
      "Fitting 5 folds for each of 6 candidates, totalling 30 fits\n",
      "CPU times: user 159 ms, sys: 379 ms, total: 537 ms\n",
      "Wall time: 13min 9s\n",
      "{'n_neighbors': 3, 'weights': 'distance'}\n"
     ]
    },
    {
     "data": {
      "text/plain": [
       "0.6458720670918227"
      ]
     },
     "execution_count": 459,
     "metadata": {},
     "output_type": "execute_result"
    }
   ],
   "source": [
    "# 200\n",
    "%time\n",
    "\n",
    "# 5-fold cv\n",
    "cv = RepeatedStratifiedKFold(n_splits=5, n_repeats=1, random_state=100)\n",
    "\n",
    "# grid with hyperparameters to check\n",
    "param_grid_KNN_GridSearch200 = {\n",
    "    \"n_neighbors\" : [1,3,5],\n",
    "    \"weights\" : ['uniform','distance']\n",
    "}\n",
    "\n",
    "# exhaustive grid search with f1 scoring metric\n",
    "grid_KNN_GridSearch200 = GridSearchCV(KNeighborsClassifier(), param_grid_KNN_GridSearch200, cv=cv, scoring='f1', verbose=1, n_jobs=-1)\n",
    "grid_KNN_GridSearch200.fit(X_train_imp_scaled200, y_train)\n",
    "\n",
    "# print best hyperparameter values and best f1-score  \n",
    "print(grid_KNN_GridSearch200.best_params_)\n",
    "grid_KNN_GridSearch200.best_score_"
   ]
  },
  {
   "cell_type": "code",
   "execution_count": 469,
   "id": "c70ababe-1f52-4727-94b5-301b45ff99f6",
   "metadata": {},
   "outputs": [],
   "source": [
    "######### save results as a pickle file \n",
    "\n",
    "# with open('grid_KNN_GridSearch_200Features_bestParams.pkl', 'wb') as f:\n",
    "#     pickle.dump(grid_KNN_GridSearch200.best_params_, f)\n",
    "    \n",
    "# with open('grid_KNN_GridSearch_200Features_bestF1score.pkl', 'wb') as f:\n",
    "#     pickle.dump(grid_KNN_GridSearch200.best_score_, f)\n",
    "\n",
    "# with open('grid_KNN_GridSearch_200Features_cvResults.pkl', 'wb') as f:\n",
    "#     pickle.dump(grid_KNN_GridSearch200.cv_results_, f)"
   ]
  },
  {
   "cell_type": "code",
   "execution_count": 100,
   "id": "80efa840-817f-4986-9820-a483edfb830a",
   "metadata": {},
   "outputs": [
    {
     "name": "stdout",
     "output_type": "stream",
     "text": [
      "{'n_neighbors': 3, 'weights': 'distance'}\n"
     ]
    },
    {
     "data": {
      "text/plain": [
       "0.6458720670918227"
      ]
     },
     "execution_count": 100,
     "metadata": {},
     "output_type": "execute_result"
    }
   ],
   "source": [
    "####### read pickle file with results \n",
    "\n",
    "with open('grid_KNN_GridSearch_200Features_bestParams.pkl', 'rb') as f:\n",
    "    grid_KNN_GridSearch_200Features_bestParams = pickle.load(f)\n",
    "    \n",
    "with open('grid_KNN_GridSearch_200Features_bestF1score.pkl', 'rb') as f:\n",
    "    grid_KNN_GridSearch_200Features_bestF1score = pickle.load(f)\n",
    "    \n",
    "with open('grid_KNN_GridSearch_200Features_cvResults.pkl', 'rb') as f:\n",
    "    grid_KNN_GridSearch_200Features_cv_results= pickle.load(f)\n",
    "    \n",
    "print(grid_KNN_GridSearch_200Features_bestParams)\n",
    "grid_KNN_GridSearch_200Features_bestF1score"
   ]
  },
  {
   "cell_type": "markdown",
   "id": "30c72870-3144-4dac-a4a7-65e76ee5eb54",
   "metadata": {
    "tags": []
   },
   "source": [
    "### Fit and predict"
   ]
  },
  {
   "cell_type": "code",
   "execution_count": 478,
   "id": "cf4ba582-efa0-4f0a-b0ff-790d38ff734d",
   "metadata": {},
   "outputs": [
    {
     "name": "stdout",
     "output_type": "stream",
     "text": [
      "0.6766735679779158\n"
     ]
    },
    {
     "data": {
      "text/plain": [
       "array([[39435,   440],\n",
       "       [ 1434,  1961]])"
      ]
     },
     "execution_count": 478,
     "metadata": {},
     "output_type": "execute_result"
    }
   ],
   "source": [
    "# 150\n",
    "\n",
    "# best hyperparameter values from Grid Search \n",
    "knn_finalModel150 = KNeighborsClassifier(\n",
    "    n_neighbors = grid_KNN_GridSearch_150Features_bestParams['n_neighbors'],\n",
    "    weights= grid_KNN_GridSearch_150Features_bestParams['weights'],\n",
    "    )\n",
    "\n",
    "# fit model\n",
    "knn_finalModel150 = knn_finalModel150.fit(X_train_imp_scaled150, y_train)\n",
    "\n",
    "######### pickle (to save time when reloading notebook again)\n",
    "# with open('knn_finalModel150.pkl', 'wb') as f:\n",
    "#      pickle.dump(knn_finalModel150, f)\n",
    "# with open('knn_finalModel150.pkl', 'rb') as f:\n",
    "#     knn_finalModel150 = pickle.load(f)\n",
    "\n",
    "# perform prediction\n",
    "pred_knn_finalModel150 = knn_finalModel150.predict(X_test_imp_scaled150)\n",
    "\n",
    "# print f1 score and show confusion matrix \n",
    "print(f1_score(y_test, pred_knn_finalModel150))\n",
    "confusion_matrix(y_test, pred_knn_finalModel150)"
   ]
  },
  {
   "cell_type": "code",
   "execution_count": 481,
   "id": "2c937057-a0f2-433f-b99e-247af121ec33",
   "metadata": {
    "scrolled": true,
    "tags": []
   },
   "outputs": [
    {
     "data": {
      "text/plain": [
       "{'mean_fit_time': array([0.15390906, 0.16036119, 0.15847926, 0.42073207, 0.16619225,\n",
       "        0.32450223]),\n",
       " 'std_fit_time': array([0.02426015, 0.01732299, 0.12233695, 0.25586567, 0.05078299,\n",
       "        0.18630427]),\n",
       " 'mean_score_time': array([ 77.57692137,  76.06748071,  91.49624639,  91.30210223,\n",
       "        239.97146859, 236.7872561 ]),\n",
       " 'std_score_time': array([2.1251067 , 4.02292372, 0.76295288, 1.76451685, 0.27571822,\n",
       "        2.67933231]),\n",
       " 'param_n_neighbors': masked_array(data=[1, 1, 3, 3, 5, 5],\n",
       "              mask=[False, False, False, False, False, False],\n",
       "        fill_value='?',\n",
       "             dtype=object),\n",
       " 'param_weights': masked_array(data=['uniform', 'distance', 'uniform', 'distance',\n",
       "                    'uniform', 'distance'],\n",
       "              mask=[False, False, False, False, False, False],\n",
       "        fill_value='?',\n",
       "             dtype=object),\n",
       " 'params': [{'n_neighbors': 1, 'weights': 'uniform'},\n",
       "  {'n_neighbors': 1, 'weights': 'distance'},\n",
       "  {'n_neighbors': 3, 'weights': 'uniform'},\n",
       "  {'n_neighbors': 3, 'weights': 'distance'},\n",
       "  {'n_neighbors': 5, 'weights': 'uniform'},\n",
       "  {'n_neighbors': 5, 'weights': 'distance'}],\n",
       " 'split0_test_score': array([0.64257812, 0.64257812, 0.63234172, 0.65037594, 0.60932476,\n",
       "        0.63341251]),\n",
       " 'split1_test_score': array([0.63887984, 0.63887984, 0.62566439, 0.63954802, 0.61111111,\n",
       "        0.63162087]),\n",
       " 'split2_test_score': array([0.64456843, 0.64456843, 0.63823419, 0.65159377, 0.61762392,\n",
       "        0.64027939]),\n",
       " 'split3_test_score': array([0.65497076, 0.65497076, 0.65914221, 0.67238806, 0.62994012,\n",
       "        0.65514533]),\n",
       " 'split4_test_score': array([0.64733026, 0.64733026, 0.65232163, 0.66491557, 0.63747535,\n",
       "        0.6557377 ]),\n",
       " 'mean_test_score': array([0.64566548, 0.64566548, 0.64154083, 0.65576427, 0.62109505,\n",
       "        0.64323916]),\n",
       " 'std_test_score': array([0.00540629, 0.00540629, 0.01243908, 0.01157144, 0.01092535,\n",
       "        0.01037573]),\n",
       " 'rank_test_score': array([2, 2, 5, 1, 6, 4], dtype=int32)}"
      ]
     },
     "execution_count": 481,
     "metadata": {},
     "output_type": "execute_result"
    }
   ],
   "source": [
    "# cv results show that achieving such high score is definitely possible (in some of the validations)\n",
    "grid_KNN_GridSearch_150Features_cvResults"
   ]
  },
  {
   "cell_type": "code",
   "execution_count": 484,
   "id": "56f21157-75a9-4b1a-a90e-429e6919ae7a",
   "metadata": {},
   "outputs": [
    {
     "data": {
      "image/png": "[encoded data removed]",
      "text/plain": [
       "<Figure size 432x288 with 1 Axes>"
      ]
     },
     "metadata": {
      "needs_background": "light"
     },
     "output_type": "display_data"
    }
   ],
   "source": [
    "# show confusion matrix\n",
    "plot_cm(confusion_matrix(y_test, pred_knn_finalModel150))"
   ]
  },
  {
   "cell_type": "code",
   "execution_count": 482,
   "id": "bb5e4e09-85e8-4f1e-8e28-4b67f81fa879",
   "metadata": {},
   "outputs": [
    {
     "data": {
      "text/html": [
       "<div>\n",
       "<style scoped>\n",
       "    .dataframe tbody tr th:only-of-type {\n",
       "        vertical-align: middle;\n",
       "    }\n",
       "\n",
       "    .dataframe tbody tr th {\n",
       "        vertical-align: top;\n",
       "    }\n",
       "\n",
       "    .dataframe thead th {\n",
       "        text-align: right;\n",
       "    }\n",
       "</style>\n",
       "<table border=\"1\" class=\"dataframe\">\n",
       "  <thead>\n",
       "    <tr style=\"text-align: right;\">\n",
       "      <th></th>\n",
       "      <th>Metric</th>\n",
       "      <th>Score</th>\n",
       "    </tr>\n",
       "  </thead>\n",
       "  <tbody>\n",
       "    <tr>\n",
       "      <th>0</th>\n",
       "      <td>f1</td>\n",
       "      <td>0.676674</td>\n",
       "    </tr>\n",
       "    <tr>\n",
       "      <th>1</th>\n",
       "      <td>precision</td>\n",
       "      <td>0.816743</td>\n",
       "    </tr>\n",
       "    <tr>\n",
       "      <th>2</th>\n",
       "      <td>recall</td>\n",
       "      <td>0.577614</td>\n",
       "    </tr>\n",
       "    <tr>\n",
       "      <th>3</th>\n",
       "      <td>accuracy</td>\n",
       "      <td>0.956691</td>\n",
       "    </tr>\n",
       "  </tbody>\n",
       "</table>\n",
       "</div>"
      ],
      "text/plain": [
       "      Metric     Score\n",
       "0         f1  0.676674\n",
       "1  precision  0.816743\n",
       "2     recall  0.577614\n",
       "3   accuracy  0.956691"
      ]
     },
     "execution_count": 482,
     "metadata": {},
     "output_type": "execute_result"
    }
   ],
   "source": [
    "# show scores \n",
    "pd.DataFrame(\n",
    "    {\"Metric\" : [\"f1\", \"precision\", \"recall\", \"accuracy\"], \"Score\" : [f1_score(y_test, pred_knn_finalModel150), precision_score(y_test, pred_knn_finalModel150),recall_score(y_test, pred_knn_finalModel150), accuracy_score(y_test, pred_knn_finalModel150)]})\n"
   ]
  },
  {
   "cell_type": "markdown",
   "id": "184af6e0-f4a5-477a-87b4-d7f36d734663",
   "metadata": {
    "tags": []
   },
   "source": [
    "### Cutoff"
   ]
  },
  {
   "cell_type": "code",
   "execution_count": 490,
   "id": "205b6658-92dc-4b51-a924-681cf9ce897b",
   "metadata": {},
   "outputs": [
    {
     "name": "stdout",
     "output_type": "stream",
     "text": [
      "Cutoff = 0.0\n",
      "Cutoff = 0.1\n",
      "Cutoff = 0.2\n",
      "Cutoff = 0.30000000000000004\n",
      "Cutoff = 0.4\n",
      "Cutoff = 0.5\n",
      "Cutoff = 0.6000000000000001\n",
      "Cutoff = 0.7000000000000001\n",
      "Cutoff = 0.8\n",
      "Cutoff = 0.9\n",
      "Cutoff = 1.0\n"
     ]
    },
    {
     "data": {
      "image/png": "[encoded data removed]",
      "text/plain": [
       "<Figure size 432x288 with 1 Axes>"
      ]
     },
     "metadata": {
      "needs_background": "light"
     },
     "output_type": "display_data"
    },
    {
     "data": {
      "text/plain": [
       "{0.0: 0.57,\n",
       " 0.1: 0.57,\n",
       " 0.2: 0.58,\n",
       " 0.30000000000000004: 0.6,\n",
       " 0.4: 0.69,\n",
       " 0.5: 0.68,\n",
       " 0.6000000000000001: 0.67,\n",
       " 0.7000000000000001: 0.62,\n",
       " 0.8: 0.57,\n",
       " 0.9: 0.56,\n",
       " 1.0: 0.0}"
      ]
     },
     "execution_count": 490,
     "metadata": {},
     "output_type": "execute_result"
    }
   ],
   "source": [
    "# see how f1 score changes as a result of varying cut-off value\n",
    "plot_cutoff_f1(knn_finalModel150.predict_proba(X_test_imp_scaled150)[:,1] , y_test, 0)"
   ]
  },
  {
   "cell_type": "markdown",
   "id": "f5cd9f49-e084-45e8-9026-4c38bb1e72f1",
   "metadata": {
    "tags": []
   },
   "source": [
    "## Logistic regression"
   ]
  },
  {
   "cell_type": "markdown",
   "id": "f5481bdd-7522-4373-9fd4-bdaa67885784",
   "metadata": {},
   "source": [
    "### No resampling & scaling\n",
    "- standardization due to the presence of penalty"
   ]
  },
  {
   "cell_type": "markdown",
   "id": "05d90aef-5296-433b-bdcc-bd0fef7eef5b",
   "metadata": {
    "tags": []
   },
   "source": [
    "#### Randomized Search"
   ]
  },
  {
   "cell_type": "code",
   "execution_count": 495,
   "id": "4f4b235d-7122-43f6-a7ae-3615e55727ac",
   "metadata": {
    "scrolled": true,
    "tags": []
   },
   "outputs": [
    {
     "name": "stdout",
     "output_type": "stream",
     "text": [
      "Fitting 5 folds for each of 50 candidates, totalling 250 fits\n"
     ]
    },
    {
     "name": "stderr",
     "output_type": "stream",
     "text": [
      "/Users/smiller/opt/anaconda3/lib/python3.9/site-packages/sklearn/linear_model/_logistic.py:1483: UserWarning: Setting penalty='none' will ignore the C and l1_ratio parameters\n",
      "  warnings.warn(\n",
      "/Users/smiller/opt/anaconda3/lib/python3.9/site-packages/sklearn/linear_model/_logistic.py:1483: UserWarning: Setting penalty='none' will ignore the C and l1_ratio parameters\n",
      "  warnings.warn(\n",
      "/Users/smiller/opt/anaconda3/lib/python3.9/site-packages/sklearn/linear_model/_logistic.py:1483: UserWarning: Setting penalty='none' will ignore the C and l1_ratio parameters\n",
      "  warnings.warn(\n",
      "/Users/smiller/opt/anaconda3/lib/python3.9/site-packages/sklearn/linear_model/_logistic.py:1483: UserWarning: Setting penalty='none' will ignore the C and l1_ratio parameters\n",
      "  warnings.warn(\n",
      "/Users/smiller/opt/anaconda3/lib/python3.9/site-packages/sklearn/linear_model/_logistic.py:1483: UserWarning: Setting penalty='none' will ignore the C and l1_ratio parameters\n",
      "  warnings.warn(\n",
      "/Users/smiller/opt/anaconda3/lib/python3.9/site-packages/sklearn/linear_model/_logistic.py:1483: UserWarning: Setting penalty='none' will ignore the C and l1_ratio parameters\n",
      "  warnings.warn(\n",
      "/Users/smiller/opt/anaconda3/lib/python3.9/site-packages/sklearn/linear_model/_logistic.py:1483: UserWarning: Setting penalty='none' will ignore the C and l1_ratio parameters\n",
      "  warnings.warn(\n",
      "/Users/smiller/opt/anaconda3/lib/python3.9/site-packages/sklearn/linear_model/_logistic.py:1483: UserWarning: Setting penalty='none' will ignore the C and l1_ratio parameters\n",
      "  warnings.warn(\n",
      "/Users/smiller/opt/anaconda3/lib/python3.9/site-packages/sklearn/linear_model/_logistic.py:1483: UserWarning: Setting penalty='none' will ignore the C and l1_ratio parameters\n",
      "  warnings.warn(\n",
      "/Users/smiller/opt/anaconda3/lib/python3.9/site-packages/sklearn/linear_model/_logistic.py:1483: UserWarning: Setting penalty='none' will ignore the C and l1_ratio parameters\n",
      "  warnings.warn(\n",
      "/Users/smiller/opt/anaconda3/lib/python3.9/site-packages/sklearn/linear_model/_logistic.py:1483: UserWarning: Setting penalty='none' will ignore the C and l1_ratio parameters\n",
      "  warnings.warn(\n",
      "/Users/smiller/opt/anaconda3/lib/python3.9/site-packages/sklearn/linear_model/_logistic.py:1483: UserWarning: Setting penalty='none' will ignore the C and l1_ratio parameters\n",
      "  warnings.warn(\n",
      "/Users/smiller/opt/anaconda3/lib/python3.9/site-packages/sklearn/linear_model/_logistic.py:1483: UserWarning: Setting penalty='none' will ignore the C and l1_ratio parameters\n",
      "  warnings.warn(\n",
      "/Users/smiller/opt/anaconda3/lib/python3.9/site-packages/sklearn/linear_model/_logistic.py:1483: UserWarning: Setting penalty='none' will ignore the C and l1_ratio parameters\n",
      "  warnings.warn(\n",
      "/Users/smiller/opt/anaconda3/lib/python3.9/site-packages/sklearn/linear_model/_logistic.py:1483: UserWarning: Setting penalty='none' will ignore the C and l1_ratio parameters\n",
      "  warnings.warn(\n",
      "/Users/smiller/opt/anaconda3/lib/python3.9/site-packages/sklearn/linear_model/_logistic.py:1483: UserWarning: Setting penalty='none' will ignore the C and l1_ratio parameters\n",
      "  warnings.warn(\n",
      "/Users/smiller/opt/anaconda3/lib/python3.9/site-packages/sklearn/linear_model/_logistic.py:1483: UserWarning: Setting penalty='none' will ignore the C and l1_ratio parameters\n",
      "  warnings.warn(\n",
      "/Users/smiller/opt/anaconda3/lib/python3.9/site-packages/sklearn/linear_model/_logistic.py:1483: UserWarning: Setting penalty='none' will ignore the C and l1_ratio parameters\n",
      "  warnings.warn(\n",
      "/Users/smiller/opt/anaconda3/lib/python3.9/site-packages/sklearn/linear_model/_logistic.py:1483: UserWarning: Setting penalty='none' will ignore the C and l1_ratio parameters\n",
      "  warnings.warn(\n",
      "/Users/smiller/opt/anaconda3/lib/python3.9/site-packages/sklearn/linear_model/_logistic.py:1483: UserWarning: Setting penalty='none' will ignore the C and l1_ratio parameters\n",
      "  warnings.warn(\n",
      "/Users/smiller/opt/anaconda3/lib/python3.9/site-packages/sklearn/linear_model/_logistic.py:1483: UserWarning: Setting penalty='none' will ignore the C and l1_ratio parameters\n",
      "  warnings.warn(\n",
      "/Users/smiller/opt/anaconda3/lib/python3.9/site-packages/sklearn/linear_model/_logistic.py:1483: UserWarning: Setting penalty='none' will ignore the C and l1_ratio parameters\n",
      "  warnings.warn(\n",
      "/Users/smiller/opt/anaconda3/lib/python3.9/site-packages/sklearn/linear_model/_logistic.py:1483: UserWarning: Setting penalty='none' will ignore the C and l1_ratio parameters\n",
      "  warnings.warn(\n",
      "/Users/smiller/opt/anaconda3/lib/python3.9/site-packages/sklearn/linear_model/_logistic.py:1483: UserWarning: Setting penalty='none' will ignore the C and l1_ratio parameters\n",
      "  warnings.warn(\n",
      "/Users/smiller/opt/anaconda3/lib/python3.9/site-packages/sklearn/linear_model/_logistic.py:1483: UserWarning: Setting penalty='none' will ignore the C and l1_ratio parameters\n",
      "  warnings.warn(\n",
      "/Users/smiller/opt/anaconda3/lib/python3.9/site-packages/sklearn/linear_model/_logistic.py:1483: UserWarning: Setting penalty='none' will ignore the C and l1_ratio parameters\n",
      "  warnings.warn(\n",
      "/Users/smiller/opt/anaconda3/lib/python3.9/site-packages/sklearn/linear_model/_logistic.py:1483: UserWarning: Setting penalty='none' will ignore the C and l1_ratio parameters\n",
      "  warnings.warn(\n",
      "/Users/smiller/opt/anaconda3/lib/python3.9/site-packages/sklearn/linear_model/_logistic.py:1483: UserWarning: Setting penalty='none' will ignore the C and l1_ratio parameters\n",
      "  warnings.warn(\n",
      "/Users/smiller/opt/anaconda3/lib/python3.9/site-packages/sklearn/linear_model/_logistic.py:1483: UserWarning: Setting penalty='none' will ignore the C and l1_ratio parameters\n",
      "  warnings.warn(\n",
      "/Users/smiller/opt/anaconda3/lib/python3.9/site-packages/sklearn/linear_model/_logistic.py:1483: UserWarning: Setting penalty='none' will ignore the C and l1_ratio parameters\n",
      "  warnings.warn(\n",
      "/Users/smiller/opt/anaconda3/lib/python3.9/site-packages/sklearn/linear_model/_logistic.py:1483: UserWarning: Setting penalty='none' will ignore the C and l1_ratio parameters\n",
      "  warnings.warn(\n",
      "/Users/smiller/opt/anaconda3/lib/python3.9/site-packages/sklearn/linear_model/_logistic.py:1483: UserWarning: Setting penalty='none' will ignore the C and l1_ratio parameters\n",
      "  warnings.warn(\n",
      "/Users/smiller/opt/anaconda3/lib/python3.9/site-packages/sklearn/linear_model/_logistic.py:1483: UserWarning: Setting penalty='none' will ignore the C and l1_ratio parameters\n",
      "  warnings.warn(\n",
      "/Users/smiller/opt/anaconda3/lib/python3.9/site-packages/sklearn/linear_model/_logistic.py:1483: UserWarning: Setting penalty='none' will ignore the C and l1_ratio parameters\n",
      "  warnings.warn(\n",
      "/Users/smiller/opt/anaconda3/lib/python3.9/site-packages/sklearn/linear_model/_logistic.py:1483: UserWarning: Setting penalty='none' will ignore the C and l1_ratio parameters\n",
      "  warnings.warn(\n",
      "/Users/smiller/opt/anaconda3/lib/python3.9/site-packages/sklearn/linear_model/_logistic.py:1483: UserWarning: Setting penalty='none' will ignore the C and l1_ratio parameters\n",
      "  warnings.warn(\n",
      "/Users/smiller/opt/anaconda3/lib/python3.9/site-packages/sklearn/linear_model/_logistic.py:1483: UserWarning: Setting penalty='none' will ignore the C and l1_ratio parameters\n",
      "  warnings.warn(\n",
      "/Users/smiller/opt/anaconda3/lib/python3.9/site-packages/sklearn/linear_model/_logistic.py:1483: UserWarning: Setting penalty='none' will ignore the C and l1_ratio parameters\n",
      "  warnings.warn(\n",
      "/Users/smiller/opt/anaconda3/lib/python3.9/site-packages/sklearn/linear_model/_logistic.py:1483: UserWarning: Setting penalty='none' will ignore the C and l1_ratio parameters\n",
      "  warnings.warn(\n",
      "/Users/smiller/opt/anaconda3/lib/python3.9/site-packages/sklearn/linear_model/_logistic.py:1483: UserWarning: Setting penalty='none' will ignore the C and l1_ratio parameters\n",
      "  warnings.warn(\n",
      "/Users/smiller/opt/anaconda3/lib/python3.9/site-packages/sklearn/linear_model/_logistic.py:1483: UserWarning: Setting penalty='none' will ignore the C and l1_ratio parameters\n",
      "  warnings.warn(\n",
      "/Users/smiller/opt/anaconda3/lib/python3.9/site-packages/sklearn/linear_model/_logistic.py:1483: UserWarning: Setting penalty='none' will ignore the C and l1_ratio parameters\n",
      "  warnings.warn(\n",
      "/Users/smiller/opt/anaconda3/lib/python3.9/site-packages/sklearn/linear_model/_logistic.py:1483: UserWarning: Setting penalty='none' will ignore the C and l1_ratio parameters\n",
      "  warnings.warn(\n",
      "/Users/smiller/opt/anaconda3/lib/python3.9/site-packages/sklearn/linear_model/_logistic.py:1483: UserWarning: Setting penalty='none' will ignore the C and l1_ratio parameters\n",
      "  warnings.warn(\n",
      "/Users/smiller/opt/anaconda3/lib/python3.9/site-packages/sklearn/linear_model/_logistic.py:1483: UserWarning: Setting penalty='none' will ignore the C and l1_ratio parameters\n",
      "  warnings.warn(\n",
      "/Users/smiller/opt/anaconda3/lib/python3.9/site-packages/sklearn/linear_model/_logistic.py:1483: UserWarning: Setting penalty='none' will ignore the C and l1_ratio parameters\n",
      "  warnings.warn(\n",
      "/Users/smiller/opt/anaconda3/lib/python3.9/site-packages/sklearn/linear_model/_logistic.py:1483: UserWarning: Setting penalty='none' will ignore the C and l1_ratio parameters\n",
      "  warnings.warn(\n",
      "/Users/smiller/opt/anaconda3/lib/python3.9/site-packages/sklearn/linear_model/_logistic.py:1483: UserWarning: Setting penalty='none' will ignore the C and l1_ratio parameters\n",
      "  warnings.warn(\n",
      "/Users/smiller/opt/anaconda3/lib/python3.9/site-packages/sklearn/linear_model/_logistic.py:1483: UserWarning: Setting penalty='none' will ignore the C and l1_ratio parameters\n",
      "  warnings.warn(\n",
      "/Users/smiller/opt/anaconda3/lib/python3.9/site-packages/sklearn/linear_model/_logistic.py:1483: UserWarning: Setting penalty='none' will ignore the C and l1_ratio parameters\n",
      "  warnings.warn(\n",
      "/Users/smiller/opt/anaconda3/lib/python3.9/site-packages/sklearn/linear_model/_logistic.py:1483: UserWarning: Setting penalty='none' will ignore the C and l1_ratio parameters\n",
      "  warnings.warn(\n",
      "/Users/smiller/opt/anaconda3/lib/python3.9/site-packages/sklearn/linear_model/_logistic.py:1483: UserWarning: Setting penalty='none' will ignore the C and l1_ratio parameters\n",
      "  warnings.warn(\n",
      "/Users/smiller/opt/anaconda3/lib/python3.9/site-packages/sklearn/linear_model/_logistic.py:1483: UserWarning: Setting penalty='none' will ignore the C and l1_ratio parameters\n",
      "  warnings.warn(\n",
      "/Users/smiller/opt/anaconda3/lib/python3.9/site-packages/sklearn/linear_model/_logistic.py:1483: UserWarning: Setting penalty='none' will ignore the C and l1_ratio parameters\n",
      "  warnings.warn(\n",
      "/Users/smiller/opt/anaconda3/lib/python3.9/site-packages/sklearn/linear_model/_logistic.py:1483: UserWarning: Setting penalty='none' will ignore the C and l1_ratio parameters\n",
      "  warnings.warn(\n",
      "/Users/smiller/opt/anaconda3/lib/python3.9/site-packages/sklearn/linear_model/_logistic.py:1483: UserWarning: Setting penalty='none' will ignore the C and l1_ratio parameters\n",
      "  warnings.warn(\n",
      "/Users/smiller/opt/anaconda3/lib/python3.9/site-packages/sklearn/linear_model/_logistic.py:1483: UserWarning: Setting penalty='none' will ignore the C and l1_ratio parameters\n",
      "  warnings.warn(\n",
      "/Users/smiller/opt/anaconda3/lib/python3.9/site-packages/sklearn/linear_model/_logistic.py:1483: UserWarning: Setting penalty='none' will ignore the C and l1_ratio parameters\n",
      "  warnings.warn(\n",
      "/Users/smiller/opt/anaconda3/lib/python3.9/site-packages/sklearn/linear_model/_logistic.py:1483: UserWarning: Setting penalty='none' will ignore the C and l1_ratio parameters\n",
      "  warnings.warn(\n",
      "/Users/smiller/opt/anaconda3/lib/python3.9/site-packages/sklearn/linear_model/_logistic.py:1483: UserWarning: Setting penalty='none' will ignore the C and l1_ratio parameters\n",
      "  warnings.warn(\n",
      "/Users/smiller/opt/anaconda3/lib/python3.9/site-packages/sklearn/linear_model/_logistic.py:1483: UserWarning: Setting penalty='none' will ignore the C and l1_ratio parameters\n",
      "  warnings.warn(\n",
      "/Users/smiller/opt/anaconda3/lib/python3.9/site-packages/sklearn/linear_model/_logistic.py:1483: UserWarning: Setting penalty='none' will ignore the C and l1_ratio parameters\n",
      "  warnings.warn(\n",
      "/Users/smiller/opt/anaconda3/lib/python3.9/site-packages/sklearn/linear_model/_logistic.py:1483: UserWarning: Setting penalty='none' will ignore the C and l1_ratio parameters\n",
      "  warnings.warn(\n",
      "/Users/smiller/opt/anaconda3/lib/python3.9/site-packages/sklearn/linear_model/_logistic.py:1483: UserWarning: Setting penalty='none' will ignore the C and l1_ratio parameters\n",
      "  warnings.warn(\n",
      "/Users/smiller/opt/anaconda3/lib/python3.9/site-packages/sklearn/linear_model/_logistic.py:1483: UserWarning: Setting penalty='none' will ignore the C and l1_ratio parameters\n",
      "  warnings.warn(\n",
      "/Users/smiller/opt/anaconda3/lib/python3.9/site-packages/sklearn/linear_model/_logistic.py:1483: UserWarning: Setting penalty='none' will ignore the C and l1_ratio parameters\n",
      "  warnings.warn(\n",
      "/Users/smiller/opt/anaconda3/lib/python3.9/site-packages/sklearn/linear_model/_logistic.py:1483: UserWarning: Setting penalty='none' will ignore the C and l1_ratio parameters\n",
      "  warnings.warn(\n",
      "/Users/smiller/opt/anaconda3/lib/python3.9/site-packages/sklearn/linear_model/_logistic.py:1483: UserWarning: Setting penalty='none' will ignore the C and l1_ratio parameters\n",
      "  warnings.warn(\n",
      "/Users/smiller/opt/anaconda3/lib/python3.9/site-packages/sklearn/linear_model/_logistic.py:1483: UserWarning: Setting penalty='none' will ignore the C and l1_ratio parameters\n",
      "  warnings.warn(\n",
      "/Users/smiller/opt/anaconda3/lib/python3.9/site-packages/sklearn/linear_model/_logistic.py:1483: UserWarning: Setting penalty='none' will ignore the C and l1_ratio parameters\n",
      "  warnings.warn(\n"
     ]
    },
    {
     "data": {
      "text/plain": [
       "0.5576984881165"
      ]
     },
     "execution_count": 495,
     "metadata": {},
     "output_type": "execute_result"
    }
   ],
   "source": [
    "# 5-fold cv\n",
    "cv = RepeatedStratifiedKFold(n_splits=5, n_repeats=1, random_state=100)\n",
    "\n",
    "# hyperparameter values for the randomised grid search\n",
    "param_grid_logReg_randomized_all= {\n",
    "    \"solver\" : [ \"saga\"],\n",
    "    \"C\" : np.logspace(0, 4, 20),\n",
    "    \"class_weight\" : [{0:1, 1:1},{0:1, 1:3}, {0:1, 1:6}, {0:1, 1:10}, {0:1, 1:15}, \"balanced\"],\n",
    "    \"penalty\" : ['l1', 'l2',  'none'],\n",
    "    \"random_state\" : [100],\n",
    "    \"max_iter\" : [1000]\n",
    "    \n",
    "}\n",
    "\n",
    "# randomised grid search\n",
    "grid_logReg_randomized_all = RandomizedSearchCV(LogisticRegression(), param_grid_logReg_randomized_all, cv=cv, scoring='f1', verbose=1, n_jobs=-1, random_state=100, n_iter=50)\n",
    "grid_logReg_randomized_all.fit(X_train_imp_scaledALL, y_train);\n",
    "\n",
    "# print best hyperparameters and f1 score value\n",
    "grid_logReg_randomized_all.best_params_\n",
    "grid_logReg_randomized_all.best_score_"
   ]
  },
  {
   "cell_type": "code",
   "execution_count": 504,
   "id": "6dc8725b-02b9-465e-9918-6cde22a72464",
   "metadata": {},
   "outputs": [],
   "source": [
    "######### save results as a pickle file \n",
    "\n",
    "# with open('grid_logReg_randomized_all_bestParams.pkl', 'wb') as f:\n",
    "#     pickle.dump(grid_logReg_randomized_all.best_params_, f)\n",
    "# with open('grid_logReg_randomized_all_bestScore.pkl', 'wb') as f:\n",
    "#     pickle.dump(grid_logReg_randomized_all.best_score_, f)\n",
    "# with open('grid_logReg_randomized_all_cvResults.pkl', 'wb') as f:\n",
    "#     pickle.dump(grid_logReg_randomized_all.cv_results_, f)"
   ]
  },
  {
   "cell_type": "code",
   "execution_count": 101,
   "id": "4b651bb4-95bd-4dd2-82b9-73991514732b",
   "metadata": {},
   "outputs": [
    {
     "name": "stdout",
     "output_type": "stream",
     "text": [
      "{'solver': 'saga', 'random_state': 100, 'penalty': 'l1', 'max_iter': 1000, 'class_weight': {0: 1, 1: 3}, 'C': 6158.48211066026}\n",
      "0.5576984881165\n"
     ]
    }
   ],
   "source": [
    "####### read pickle file with results \n",
    "\n",
    "with open('grid_logReg_randomized_all_bestParams.pkl', 'rb') as f:\n",
    "    grid_logReg_randomized_all_bestParams = pickle.load(f)\n",
    "with open('grid_logReg_randomized_all_bestScore.pkl', 'rb') as f:\n",
    "    grid_logReg_randomized_all_bestF1score = pickle.load(f)\n",
    "with open('grid_logReg_randomized_all_cvResults.pkl', 'rb') as f:\n",
    "    grid_logReg_randomized_all_cvResults = pickle.load(f)\n",
    "    \n",
    "print(grid_logReg_randomized_all_bestParams)\n",
    "print(grid_logReg_randomized_all_bestF1score)"
   ]
  },
  {
   "cell_type": "markdown",
   "id": "f43f4baf-a7c1-4f26-8efb-fb6755525967",
   "metadata": {},
   "source": [
    "#### Fit and predict"
   ]
  },
  {
   "cell_type": "code",
   "execution_count": 505,
   "id": "02231579-f26c-4398-8487-2b6179a1fd33",
   "metadata": {},
   "outputs": [
    {
     "data": {
      "text/plain": [
       "0.5623268698060943"
      ]
     },
     "execution_count": 505,
     "metadata": {},
     "output_type": "execute_result"
    }
   ],
   "source": [
    "# hyperparameter values from randomised search\n",
    "logreg_randomized_all = LogisticRegression(\n",
    "    solver = \"saga\",\n",
    "    C = grid_logReg_randomized_all_bestParams['C'],\n",
    "    penalty = grid_logReg_randomized_all_bestParams['penalty'],\n",
    "    class_weight = grid_logReg_randomized_all_bestParams['class_weight'],\n",
    "    random_state = 100,\n",
    "    max_iter=1000\n",
    ")\n",
    "\n",
    "# fit model\n",
    "logreg_randomized_all = logreg_randomized_all.fit(X_train_imp_scaledALL, y_train)\n",
    "\n",
    "######### pickle (to save time when reloading notebook again)\n",
    "# with open('logreg_randomized_all_finalModel.pkl', 'wb') as f:\n",
    "#     pickle.dump(logreg_randomized_all, f)\n",
    "# with open('logreg_randomized_all_finalModel.pkl', 'rb') as f:\n",
    "#     logreg_randomized_all = pickle.load(f)\n",
    "\n",
    "# perform prediction\n",
    "pred_logreg_randomized_all= logreg_randomized_all.predict(X_test_imp_scaledALL)\n",
    "\n",
    "# show confusion matrix and f1 score value\n",
    "confusion_matrix(y_test, pred_logreg_randomized_all)\n",
    "f1_score(y_test, pred_logreg_randomized_all)"
   ]
  },
  {
   "cell_type": "code",
   "execution_count": 523,
   "id": "3358aefc-bc3b-476e-b387-e2543b8c48dd",
   "metadata": {},
   "outputs": [
    {
     "data": {
      "text/html": [
       "<div>\n",
       "<style scoped>\n",
       "    .dataframe tbody tr th:only-of-type {\n",
       "        vertical-align: middle;\n",
       "    }\n",
       "\n",
       "    .dataframe tbody tr th {\n",
       "        vertical-align: top;\n",
       "    }\n",
       "\n",
       "    .dataframe thead th {\n",
       "        text-align: right;\n",
       "    }\n",
       "</style>\n",
       "<table border=\"1\" class=\"dataframe\">\n",
       "  <thead>\n",
       "    <tr style=\"text-align: right;\">\n",
       "      <th></th>\n",
       "      <th>Metric</th>\n",
       "      <th>Score</th>\n",
       "    </tr>\n",
       "  </thead>\n",
       "  <tbody>\n",
       "    <tr>\n",
       "      <th>0</th>\n",
       "      <td>f1</td>\n",
       "      <td>0.562327</td>\n",
       "    </tr>\n",
       "    <tr>\n",
       "      <th>1</th>\n",
       "      <td>precision</td>\n",
       "      <td>0.682066</td>\n",
       "    </tr>\n",
       "    <tr>\n",
       "      <th>2</th>\n",
       "      <td>recall</td>\n",
       "      <td>0.478351</td>\n",
       "    </tr>\n",
       "    <tr>\n",
       "      <th>3</th>\n",
       "      <td>accuracy</td>\n",
       "      <td>0.941576</td>\n",
       "    </tr>\n",
       "  </tbody>\n",
       "</table>\n",
       "</div>"
      ],
      "text/plain": [
       "      Metric     Score\n",
       "0         f1  0.562327\n",
       "1  precision  0.682066\n",
       "2     recall  0.478351\n",
       "3   accuracy  0.941576"
      ]
     },
     "execution_count": 523,
     "metadata": {},
     "output_type": "execute_result"
    }
   ],
   "source": [
    "# show scoring metrics\n",
    "pd.DataFrame(\n",
    "    {\"Metric\" : [\"f1\", \"precision\", \"recall\", \"accuracy\"], \"Score\" : [f1_score(y_test, pred_logreg_randomized_all), precision_score(y_test, pred_logreg_randomized_all),recall_score(y_test, pred_logreg_randomized_all), accuracy_score(y_test, pred_logreg_randomized_all)]})\n"
   ]
  },
  {
   "cell_type": "code",
   "execution_count": 524,
   "id": "239dc08b-455a-4051-9570-2816538535cc",
   "metadata": {},
   "outputs": [
    {
     "data": {
      "image/png": "[encoded data removed]",
      "text/plain": [
       "<Figure size 432x288 with 1 Axes>"
      ]
     },
     "metadata": {
      "needs_background": "light"
     },
     "output_type": "display_data"
    }
   ],
   "source": [
    "# show confusion matrix \n",
    "plot_cm(confusion_matrix(y_test, pred_logreg_randomized_all))"
   ]
  },
  {
   "cell_type": "code",
   "execution_count": 525,
   "id": "7e18def7-7580-4dc3-9896-d3efa05927f1",
   "metadata": {},
   "outputs": [
    {
     "name": "stdout",
     "output_type": "stream",
     "text": [
      "Cutoff = 0.0\n",
      "Cutoff = 0.1\n",
      "Cutoff = 0.2\n",
      "Cutoff = 0.30000000000000004\n",
      "Cutoff = 0.4\n",
      "Cutoff = 0.5\n",
      "Cutoff = 0.6000000000000001\n",
      "Cutoff = 0.7000000000000001\n",
      "Cutoff = 0.8\n",
      "Cutoff = 0.9\n",
      "Cutoff = 1.0\n"
     ]
    },
    {
     "data": {
      "image/png": "[encoded data removed]",
      "text/plain": [
       "<Figure size 432x288 with 1 Axes>"
      ]
     },
     "metadata": {
      "needs_background": "light"
     },
     "output_type": "display_data"
    },
    {
     "data": {
      "text/plain": [
       "{0.0: 0.15,\n",
       " 0.1: 0.26,\n",
       " 0.2: 0.41,\n",
       " 0.30000000000000004: 0.51,\n",
       " 0.4: 0.56,\n",
       " 0.5: 0.56,\n",
       " 0.6000000000000001: 0.55,\n",
       " 0.7000000000000001: 0.51,\n",
       " 0.8: 0.46,\n",
       " 0.9: 0.39,\n",
       " 1.0: 0.0}"
      ]
     },
     "execution_count": 525,
     "metadata": {},
     "output_type": "execute_result"
    }
   ],
   "source": [
    "# plot f1 score for various cut-off values\n",
    "plot_cutoff_f1(logreg_randomized_all.predict_proba(X_test_imp_scaledALL)[:,1],y_test,0)"
   ]
  },
  {
   "cell_type": "markdown",
   "id": "33c2f6c2-4139-4938-9939-9294d5e90e4e",
   "metadata": {
    "tags": []
   },
   "source": [
    "### Selecting top 150 features"
   ]
  },
  {
   "cell_type": "code",
   "execution_count": 526,
   "id": "95ccab3c-b471-4cd4-98bf-c2265ce255d1",
   "metadata": {
    "scrolled": true,
    "tags": []
   },
   "outputs": [
    {
     "name": "stdout",
     "output_type": "stream",
     "text": [
      "Fitting 5 folds for each of 10 candidates, totalling 50 fits\n"
     ]
    },
    {
     "name": "stderr",
     "output_type": "stream",
     "text": [
      "/Users/smiller/opt/anaconda3/lib/python3.9/site-packages/sklearn/linear_model/_logistic.py:1483: UserWarning: Setting penalty='none' will ignore the C and l1_ratio parameters\n",
      "  warnings.warn(\n",
      "/Users/smiller/opt/anaconda3/lib/python3.9/site-packages/sklearn/linear_model/_logistic.py:1483: UserWarning: Setting penalty='none' will ignore the C and l1_ratio parameters\n",
      "  warnings.warn(\n",
      "/Users/smiller/opt/anaconda3/lib/python3.9/site-packages/sklearn/linear_model/_logistic.py:1483: UserWarning: Setting penalty='none' will ignore the C and l1_ratio parameters\n",
      "  warnings.warn(\n",
      "/Users/smiller/opt/anaconda3/lib/python3.9/site-packages/sklearn/linear_model/_logistic.py:1483: UserWarning: Setting penalty='none' will ignore the C and l1_ratio parameters\n",
      "  warnings.warn(\n",
      "/Users/smiller/opt/anaconda3/lib/python3.9/site-packages/sklearn/linear_model/_logistic.py:1483: UserWarning: Setting penalty='none' will ignore the C and l1_ratio parameters\n",
      "  warnings.warn(\n",
      "/Users/smiller/opt/anaconda3/lib/python3.9/site-packages/sklearn/linear_model/_logistic.py:1483: UserWarning: Setting penalty='none' will ignore the C and l1_ratio parameters\n",
      "  warnings.warn(\n",
      "/Users/smiller/opt/anaconda3/lib/python3.9/site-packages/sklearn/linear_model/_logistic.py:1483: UserWarning: Setting penalty='none' will ignore the C and l1_ratio parameters\n",
      "  warnings.warn(\n",
      "/Users/smiller/opt/anaconda3/lib/python3.9/site-packages/sklearn/linear_model/_logistic.py:1483: UserWarning: Setting penalty='none' will ignore the C and l1_ratio parameters\n",
      "  warnings.warn(\n",
      "/Users/smiller/opt/anaconda3/lib/python3.9/site-packages/sklearn/linear_model/_logistic.py:1483: UserWarning: Setting penalty='none' will ignore the C and l1_ratio parameters\n",
      "  warnings.warn(\n",
      "/Users/smiller/opt/anaconda3/lib/python3.9/site-packages/sklearn/linear_model/_logistic.py:1483: UserWarning: Setting penalty='none' will ignore the C and l1_ratio parameters\n",
      "  warnings.warn(\n",
      "/Users/smiller/opt/anaconda3/lib/python3.9/site-packages/sklearn/linear_model/_logistic.py:1483: UserWarning: Setting penalty='none' will ignore the C and l1_ratio parameters\n",
      "  warnings.warn(\n",
      "/Users/smiller/opt/anaconda3/lib/python3.9/site-packages/sklearn/linear_model/_logistic.py:1483: UserWarning: Setting penalty='none' will ignore the C and l1_ratio parameters\n",
      "  warnings.warn(\n",
      "/Users/smiller/opt/anaconda3/lib/python3.9/site-packages/sklearn/linear_model/_logistic.py:1483: UserWarning: Setting penalty='none' will ignore the C and l1_ratio parameters\n",
      "  warnings.warn(\n",
      "/Users/smiller/opt/anaconda3/lib/python3.9/site-packages/sklearn/linear_model/_logistic.py:1483: UserWarning: Setting penalty='none' will ignore the C and l1_ratio parameters\n",
      "  warnings.warn(\n",
      "/Users/smiller/opt/anaconda3/lib/python3.9/site-packages/sklearn/linear_model/_logistic.py:1483: UserWarning: Setting penalty='none' will ignore the C and l1_ratio parameters\n",
      "  warnings.warn(\n"
     ]
    },
    {
     "data": {
      "text/plain": [
       "0.5472082152248571"
      ]
     },
     "execution_count": 526,
     "metadata": {},
     "output_type": "execute_result"
    },
    {
     "name": "stdout",
     "output_type": "stream",
     "text": [
      "[CV 2/5] END C=6.951927961775605, class_weight={0: 1, 1: 3}, max_iter=1000, penalty=l1, random_state=100, solver=saga;, score=0.548 total time= 1.4min\n",
      "[CV 3/5] END C=6.951927961775605, class_weight=balanced, max_iter=1000, penalty=l2, random_state=100, solver=saga;, score=0.430 total time=  40.8s\n",
      "[CV 5/5] END C=48.32930238571752, class_weight={0: 1, 1: 6}, max_iter=1000, penalty=none, random_state=100, solver=saga;, score=0.518 total time=  46.9s\n",
      "[CV 3/5] END C=335.9818286283781, class_weight={0: 1, 1: 10}, max_iter=1000, penalty=none, random_state=100, solver=saga;, score=0.457 total time=  53.3s\n",
      "[CV 3/5] END C=1.0, class_weight={0: 1, 1: 1}, max_iter=1000, penalty=l2, random_state=100, solver=saga;, score=0.472 total time= 1.0min\n",
      "[CV 3/5] END C=6.951927961775605, class_weight={0: 1, 1: 3}, max_iter=1000, penalty=l1, random_state=100, solver=saga;, score=0.545 total time= 1.1min\n",
      "[CV 3/5] END C=6158.48211066026, class_weight=balanced, max_iter=1000, penalty=l1, random_state=100, solver=saga;, score=0.430 total time=  51.9s\n",
      "[CV 2/5] END C=48.32930238571752, class_weight={0: 1, 1: 6}, max_iter=1000, penalty=none, random_state=100, solver=saga;, score=0.522 total time=  46.5s\n",
      "[CV 1/5] END C=335.9818286283781, class_weight={0: 1, 1: 10}, max_iter=1000, penalty=none, random_state=100, solver=saga;, score=0.456 total time=  57.8s\n",
      "[CV 2/5] END C=1.0, class_weight={0: 1, 1: 1}, max_iter=1000, penalty=l2, random_state=100, solver=saga;, score=0.453 total time= 1.0min\n",
      "[CV 3/5] END C=545.5594781168514, class_weight={0: 1, 1: 1}, max_iter=1000, penalty=l1, random_state=100, solver=saga;, score=0.472 total time= 1.3min\n",
      "[CV 1/5] END C=6.951927961775605, class_weight=balanced, max_iter=1000, penalty=l2, random_state=100, solver=saga;, score=0.427 total time=  41.9s\n",
      "[CV 4/5] END C=48.32930238571752, class_weight={0: 1, 1: 6}, max_iter=1000, penalty=none, random_state=100, solver=saga;, score=0.517 total time=  48.6s\n",
      "[CV 2/5] END C=335.9818286283781, class_weight={0: 1, 1: 10}, max_iter=1000, penalty=none, random_state=100, solver=saga;, score=0.460 total time=  48.7s\n",
      "[CV 1/5] END C=1.0, class_weight={0: 1, 1: 1}, max_iter=1000, penalty=l2, random_state=100, solver=saga;, score=0.438 total time= 1.1min\n",
      "[CV 4/5] END C=6.951927961775605, class_weight={0: 1, 1: 3}, max_iter=1000, penalty=l1, random_state=100, solver=saga;, score=0.544 total time= 1.0min\n",
      "[CV 1/5] END C=6158.48211066026, class_weight=balanced, max_iter=1000, penalty=l1, random_state=100, solver=saga;, score=0.427 total time=  53.0s\n",
      "[CV 1/5] END C=48.32930238571752, class_weight={0: 1, 1: 6}, max_iter=1000, penalty=none, random_state=100, solver=saga;, score=0.509 total time=  57.6s\n",
      "[CV 5/5] END C=335.9818286283781, class_weight={0: 1, 1: 10}, max_iter=1000, penalty=none, random_state=100, solver=saga;, score=0.443 total time= 1.0min\n",
      "[CV 5/5] END C=1.0, class_weight={0: 1, 1: 1}, max_iter=1000, penalty=l2, random_state=100, solver=saga;, score=0.493 total time=  52.7s\n",
      "[CV 1/5] END C=6.951927961775605, class_weight={0: 1, 1: 3}, max_iter=1000, penalty=l1, random_state=100, solver=saga;, score=0.537 total time= 1.1min\n",
      "[CV 2/5] END C=6158.48211066026, class_weight=balanced, max_iter=1000, penalty=l1, random_state=100, solver=saga;, score=0.427 total time=  55.8s\n",
      "[CV 3/5] END C=48.32930238571752, class_weight={0: 1, 1: 6}, max_iter=1000, penalty=none, random_state=100, solver=saga;, score=0.514 total time=  49.5s\n",
      "[CV 4/5] END C=335.9818286283781, class_weight={0: 1, 1: 10}, max_iter=1000, penalty=none, random_state=100, solver=saga;, score=0.449 total time= 1.1min\n",
      "[CV 4/5] END C=1.0, class_weight={0: 1, 1: 1}, max_iter=1000, penalty=l2, random_state=100, solver=saga;, score=0.453 total time= 1.1min\n",
      "[CV 5/5] END C=6.951927961775605, class_weight={0: 1, 1: 3}, max_iter=1000, penalty=l1, random_state=100, solver=saga;, score=0.561 total time= 1.2min\n",
      "[CV 5/5] END C=6158.48211066026, class_weight=balanced, max_iter=1000, penalty=l1, random_state=100, solver=saga;, score=0.422 total time=  57.7s\n",
      "[CV 2/5] END C=1.6237767391887217, class_weight={0: 1, 1: 3}, max_iter=1000, penalty=l1, random_state=100, solver=saga;, score=0.548 total time= 1.0min\n",
      "[CV 2/5] END C=11.28837891684689, class_weight={0: 1, 1: 6}, max_iter=1000, penalty=l1, random_state=100, solver=saga;, score=0.522 total time=  54.6s\n",
      "[CV 1/5] END C=29.76351441631318, class_weight={0: 1, 1: 1}, max_iter=1000, penalty=none, random_state=100, solver=saga;, score=0.438 total time= 1.0min\n",
      "[CV 1/5] END C=545.5594781168514, class_weight={0: 1, 1: 1}, max_iter=1000, penalty=l1, random_state=100, solver=saga;, score=0.438 total time= 1.5min\n",
      "[CV 5/5] END C=6.951927961775605, class_weight=balanced, max_iter=1000, penalty=l2, random_state=100, solver=saga;, score=0.421 total time=  47.4s\n",
      "[CV 4/5] END C=1.6237767391887217, class_weight={0: 1, 1: 3}, max_iter=1000, penalty=l1, random_state=100, solver=saga;, score=0.544 total time= 1.0min\n",
      "[CV 3/5] END C=11.28837891684689, class_weight={0: 1, 1: 6}, max_iter=1000, penalty=l1, random_state=100, solver=saga;, score=0.514 total time=  55.9s\n",
      "[CV 2/5] END C=29.76351441631318, class_weight={0: 1, 1: 1}, max_iter=1000, penalty=none, random_state=100, solver=saga;, score=0.453 total time=  54.4s\n",
      "[CV 2/5] END C=545.5594781168514, class_weight={0: 1, 1: 1}, max_iter=1000, penalty=l1, random_state=100, solver=saga;, score=0.453 total time= 1.3min\n",
      "[CV 2/5] END C=6.951927961775605, class_weight=balanced, max_iter=1000, penalty=l2, random_state=100, solver=saga;, score=0.427 total time=  44.1s\n",
      "[CV 1/5] END C=1.6237767391887217, class_weight={0: 1, 1: 3}, max_iter=1000, penalty=l1, random_state=100, solver=saga;, score=0.537 total time= 1.1min\n",
      "[CV 1/5] END C=11.28837891684689, class_weight={0: 1, 1: 6}, max_iter=1000, penalty=l1, random_state=100, solver=saga;, score=0.509 total time= 1.1min\n",
      "[CV 3/5] END C=29.76351441631318, class_weight={0: 1, 1: 1}, max_iter=1000, penalty=none, random_state=100, solver=saga;, score=0.472 total time=  52.9s\n",
      "[CV 4/5] END C=545.5594781168514, class_weight={0: 1, 1: 1}, max_iter=1000, penalty=l1, random_state=100, solver=saga;, score=0.453 total time= 1.5min\n",
      "[CV 4/5] END C=6.951927961775605, class_weight=balanced, max_iter=1000, penalty=l2, random_state=100, solver=saga;, score=0.419 total time=  54.3s\n",
      "[CV 5/5] END C=1.6237767391887217, class_weight={0: 1, 1: 3}, max_iter=1000, penalty=l1, random_state=100, solver=saga;, score=0.561 total time= 1.3min\n",
      "[CV 5/5] END C=11.28837891684689, class_weight={0: 1, 1: 6}, max_iter=1000, penalty=l1, random_state=100, solver=saga;, score=0.518 total time=  56.1s\n",
      "[CV 5/5] END C=29.76351441631318, class_weight={0: 1, 1: 1}, max_iter=1000, penalty=none, random_state=100, solver=saga;, score=0.493 total time=  43.9s\n",
      "[CV 5/5] END C=545.5594781168514, class_weight={0: 1, 1: 1}, max_iter=1000, penalty=l1, random_state=100, solver=saga;, score=0.493 total time= 1.1min\n",
      "[CV 4/5] END C=6158.48211066026, class_weight=balanced, max_iter=1000, penalty=l1, random_state=100, solver=saga;, score=0.419 total time= 1.1min\n",
      "[CV 3/5] END C=1.6237767391887217, class_weight={0: 1, 1: 3}, max_iter=1000, penalty=l1, random_state=100, solver=saga;, score=0.545 total time= 1.1min\n",
      "[CV 4/5] END C=11.28837891684689, class_weight={0: 1, 1: 6}, max_iter=1000, penalty=l1, random_state=100, solver=saga;, score=0.517 total time=  56.2s\n",
      "[CV 4/5] END C=29.76351441631318, class_weight={0: 1, 1: 1}, max_iter=1000, penalty=none, random_state=100, solver=saga;, score=0.453 total time=  58.1s\n"
     ]
    }
   ],
   "source": [
    "# 5-fold cv\n",
    "cv = RepeatedStratifiedKFold(n_splits=5, n_repeats=1, random_state=100)\n",
    "\n",
    "# grid with hyperparameter candidate values\n",
    "param_grid_logReg_randomized_150= {\n",
    "    \"solver\" : [ \"saga\"],\n",
    "    \"C\" : np.logspace(0, 4, 20),\n",
    "    \"class_weight\" : [{0:1, 1:1},{0:1, 1:3}, {0:1, 1:6}, {0:1, 1:10}, {0:1, 1:15}, \"balanced\"],\n",
    "    \"penalty\" : ['l1', 'l2',  'none'],\n",
    "    \"random_state\" : [100],\n",
    "    \"max_iter\" : [1000]\n",
    "    \n",
    "}\n",
    "    \n",
    "# perform randomised grid search    \n",
    "grid_logReg_randomized_150 = RandomizedSearchCV(LogisticRegression(), param_grid_logReg_randomized_150, cv=cv, scoring='f1', verbose=3, n_jobs=-1, random_state=100, n_iter=10)\n",
    "grid_logReg_randomized_150.fit(X_train_imp_scaled150, y_train)\n",
    "\n",
    "# show best hyperparameter values and \n",
    "grid_logReg_randomized_150.best_params_\n",
    "grid_logReg_randomized_150.best_score_"
   ]
  },
  {
   "cell_type": "code",
   "execution_count": 527,
   "id": "8357fb57-0c5c-4699-9622-aacec026b5a7",
   "metadata": {},
   "outputs": [],
   "source": [
    "######### save results as a pickle file \n",
    "\n",
    "# with open('grid_logReg_randomized_150_bestParams.pkl', 'wb') as f:\n",
    "#     pickle.dump(grid_logReg_randomized_150.best_params_, f)\n",
    "# with open('grid_logReg_randomized_150_bestScore.pkl', 'wb') as f:\n",
    "#     pickle.dump(grid_logReg_randomized_150.best_score_, f)\n",
    "# with open('grid_logReg_randomized_150_cvResults.pkl', 'wb') as f:\n",
    "#     pickle.dump(grid_logReg_randomized_150.cv_results_, f)"
   ]
  },
  {
   "cell_type": "code",
   "execution_count": 103,
   "id": "72faee16-3869-4a99-9c2d-d9f108db4495",
   "metadata": {},
   "outputs": [
    {
     "name": "stdout",
     "output_type": "stream",
     "text": [
      "{'solver': 'saga', 'random_state': 100, 'penalty': 'l1', 'max_iter': 1000, 'class_weight': {0: 1, 1: 3}, 'C': 6.951927961775605}\n",
      "0.5472082152248571\n"
     ]
    }
   ],
   "source": [
    "####### read pickle file with results \n",
    "\n",
    "with open('grid_logReg_randomized_150_bestParams.pkl', 'rb') as f:\n",
    "    grid_logReg_randomized_150_bestParams = pickle.load(f)\n",
    "with open('grid_logReg_randomized_150_bestScore.pkl', 'rb') as f:\n",
    "    grid_logReg_randomized_150_bestScore = pickle.load(f)\n",
    "with open('grid_logReg_randomized_150_cvResults.pkl', 'rb') as f:\n",
    "    grid_logReg_randomized_150_cvResults = pickle.load(f)\n",
    "    \n",
    "    \n",
    "print(grid_logReg_randomized_150_bestParams)\n",
    "print(grid_logReg_randomized_150_bestScore)"
   ]
  },
  {
   "cell_type": "markdown",
   "id": "f6cfb489-f688-4f3c-ac5d-c757ce442328",
   "metadata": {
    "tags": []
   },
   "source": [
    "## XGB "
   ]
  },
  {
   "cell_type": "code",
   "execution_count": 546,
   "id": "ec24ae0c-c13a-48cb-82c0-112d1144a9db",
   "metadata": {},
   "outputs": [],
   "source": [
    "dtrain_all = xgb.DMatrix(X_train_imp_scaledALL, y_train)\n",
    "dtest_all= xgb.DMatrix(X_test_imp_scaledALL, y_test)"
   ]
  },
  {
   "cell_type": "markdown",
   "id": "caa753ea-65fd-4414-9dda-e043022a986d",
   "metadata": {},
   "source": [
    "### Randomised search"
   ]
  },
  {
   "cell_type": "markdown",
   "id": "e9ef30a7-b838-4295-b205-d436cc81ff6e",
   "metadata": {},
   "source": [
    "#### 1st attempt"
   ]
  },
  {
   "cell_type": "code",
   "execution_count": 541,
   "id": "b05a7fc1-4c25-49ac-9698-8aa4b7ddb382",
   "metadata": {
    "scrolled": true,
    "tags": []
   },
   "outputs": [
    {
     "name": "stdout",
     "output_type": "stream",
     "text": [
      "Fitting 5 folds for each of 10 candidates, totalling 50 fits\n",
      "[CV 1/5] END alpha=10, colsample_bytree=1, learning_rate=0.01, max_depth=2, n_estimators=100, random_state=100, scale_pos_weight=11;, score=0.393 total time=   9.4s\n",
      "[CV 2/5] END alpha=10, colsample_bytree=1, learning_rate=0.01, max_depth=2, n_estimators=100, random_state=100, scale_pos_weight=11;, score=0.379 total time=   9.2s\n",
      "[CV 3/5] END alpha=10, colsample_bytree=1, learning_rate=0.01, max_depth=2, n_estimators=100, random_state=100, scale_pos_weight=11;, score=0.381 total time=   9.5s\n",
      "[CV 4/5] END alpha=10, colsample_bytree=1, learning_rate=0.01, max_depth=2, n_estimators=100, random_state=100, scale_pos_weight=11;, score=0.389 total time=   9.2s\n",
      "[CV 5/5] END alpha=10, colsample_bytree=1, learning_rate=0.01, max_depth=2, n_estimators=100, random_state=100, scale_pos_weight=11;, score=0.398 total time=   9.1s\n",
      "[CV 1/5] END alpha=1000, colsample_bytree=0.5, learning_rate=0.05, max_depth=6, n_estimators=100, random_state=100, scale_pos_weight=11;, score=0.526 total time=  13.9s\n",
      "[CV 2/5] END alpha=1000, colsample_bytree=0.5, learning_rate=0.05, max_depth=6, n_estimators=100, random_state=100, scale_pos_weight=11;, score=0.502 total time=  13.7s\n",
      "[CV 3/5] END alpha=1000, colsample_bytree=0.5, learning_rate=0.05, max_depth=6, n_estimators=100, random_state=100, scale_pos_weight=11;, score=0.508 total time=  13.7s\n",
      "[CV 4/5] END alpha=1000, colsample_bytree=0.5, learning_rate=0.05, max_depth=6, n_estimators=100, random_state=100, scale_pos_weight=11;, score=0.505 total time=  14.1s\n",
      "[CV 5/5] END alpha=1000, colsample_bytree=0.5, learning_rate=0.05, max_depth=6, n_estimators=100, random_state=100, scale_pos_weight=11;, score=0.522 total time=  13.9s\n",
      "[CV 1/5] END alpha=100, colsample_bytree=0.5, learning_rate=0.01, max_depth=4, n_estimators=125, random_state=100, scale_pos_weight=11;, score=0.522 total time=  11.8s\n",
      "[CV 2/5] END alpha=100, colsample_bytree=0.5, learning_rate=0.01, max_depth=4, n_estimators=125, random_state=100, scale_pos_weight=11;, score=0.503 total time=  11.8s\n",
      "[CV 3/5] END alpha=100, colsample_bytree=0.5, learning_rate=0.01, max_depth=4, n_estimators=125, random_state=100, scale_pos_weight=11;, score=0.500 total time=  11.8s\n",
      "[CV 4/5] END alpha=100, colsample_bytree=0.5, learning_rate=0.01, max_depth=4, n_estimators=125, random_state=100, scale_pos_weight=11;, score=0.506 total time=  11.8s\n",
      "[CV 5/5] END alpha=100, colsample_bytree=0.5, learning_rate=0.01, max_depth=4, n_estimators=125, random_state=100, scale_pos_weight=11;, score=0.519 total time=  11.8s\n",
      "[CV 1/5] END alpha=1, colsample_bytree=0.5, learning_rate=0.1, max_depth=8, n_estimators=100, random_state=100, scale_pos_weight=6;, score=0.777 total time=  18.6s\n",
      "[CV 2/5] END alpha=1, colsample_bytree=0.5, learning_rate=0.1, max_depth=8, n_estimators=100, random_state=100, scale_pos_weight=6;, score=0.767 total time=  18.7s\n",
      "[CV 3/5] END alpha=1, colsample_bytree=0.5, learning_rate=0.1, max_depth=8, n_estimators=100, random_state=100, scale_pos_weight=6;, score=0.765 total time=  18.7s\n",
      "[CV 4/5] END alpha=1, colsample_bytree=0.5, learning_rate=0.1, max_depth=8, n_estimators=100, random_state=100, scale_pos_weight=6;, score=0.764 total time=  18.8s\n",
      "[CV 5/5] END alpha=1, colsample_bytree=0.5, learning_rate=0.1, max_depth=8, n_estimators=100, random_state=100, scale_pos_weight=6;, score=0.773 total time=  18.8s\n",
      "[CV 1/5] END alpha=100, colsample_bytree=0.5, learning_rate=0.05, max_depth=2, n_estimators=125, random_state=100, scale_pos_weight=6;, score=0.606 total time=   6.7s\n",
      "[CV 2/5] END alpha=100, colsample_bytree=0.5, learning_rate=0.05, max_depth=2, n_estimators=125, random_state=100, scale_pos_weight=6;, score=0.609 total time=   6.6s\n",
      "[CV 3/5] END alpha=100, colsample_bytree=0.5, learning_rate=0.05, max_depth=2, n_estimators=125, random_state=100, scale_pos_weight=6;, score=0.591 total time=   6.5s\n",
      "[CV 4/5] END alpha=100, colsample_bytree=0.5, learning_rate=0.05, max_depth=2, n_estimators=125, random_state=100, scale_pos_weight=6;, score=0.585 total time=   6.7s\n",
      "[CV 5/5] END alpha=100, colsample_bytree=0.5, learning_rate=0.05, max_depth=2, n_estimators=125, random_state=100, scale_pos_weight=6;, score=0.616 total time=   6.5s\n",
      "[CV 1/5] END alpha=1, colsample_bytree=0.75, learning_rate=0.1, max_depth=7, n_estimators=50, random_state=100, scale_pos_weight=11;, score=0.674 total time=  11.8s\n",
      "[CV 2/5] END alpha=1, colsample_bytree=0.75, learning_rate=0.1, max_depth=7, n_estimators=50, random_state=100, scale_pos_weight=11;, score=0.656 total time=  11.8s\n",
      "[CV 3/5] END alpha=1, colsample_bytree=0.75, learning_rate=0.1, max_depth=7, n_estimators=50, random_state=100, scale_pos_weight=11;, score=0.674 total time=  11.7s\n",
      "[CV 4/5] END alpha=1, colsample_bytree=0.75, learning_rate=0.1, max_depth=7, n_estimators=50, random_state=100, scale_pos_weight=11;, score=0.650 total time=  11.7s\n",
      "[CV 5/5] END alpha=1, colsample_bytree=0.75, learning_rate=0.1, max_depth=7, n_estimators=50, random_state=100, scale_pos_weight=11;, score=0.679 total time=  11.8s\n",
      "[CV 1/5] END alpha=100, colsample_bytree=0.5, learning_rate=0.05, max_depth=6, n_estimators=75, random_state=100, scale_pos_weight=6;, score=0.677 total time=  10.6s\n",
      "[CV 2/5] END alpha=100, colsample_bytree=0.5, learning_rate=0.05, max_depth=6, n_estimators=75, random_state=100, scale_pos_weight=6;, score=0.664 total time=  10.7s\n",
      "[CV 3/5] END alpha=100, colsample_bytree=0.5, learning_rate=0.05, max_depth=6, n_estimators=75, random_state=100, scale_pos_weight=6;, score=0.659 total time=  10.5s\n",
      "[CV 4/5] END alpha=100, colsample_bytree=0.5, learning_rate=0.05, max_depth=6, n_estimators=75, random_state=100, scale_pos_weight=6;, score=0.653 total time=  10.5s\n",
      "[CV 5/5] END alpha=100, colsample_bytree=0.5, learning_rate=0.05, max_depth=6, n_estimators=75, random_state=100, scale_pos_weight=6;, score=0.678 total time=  10.6s\n",
      "[CV 1/5] END alpha=100, colsample_bytree=0.5, learning_rate=0.01, max_depth=7, n_estimators=100, random_state=100, scale_pos_weight=1;, score=0.599 total time=  15.5s\n",
      "[CV 2/5] END alpha=100, colsample_bytree=0.5, learning_rate=0.01, max_depth=7, n_estimators=100, random_state=100, scale_pos_weight=1;, score=0.603 total time=  15.5s\n",
      "[CV 3/5] END alpha=100, colsample_bytree=0.5, learning_rate=0.01, max_depth=7, n_estimators=100, random_state=100, scale_pos_weight=1;, score=0.577 total time=  15.5s\n",
      "[CV 4/5] END alpha=100, colsample_bytree=0.5, learning_rate=0.01, max_depth=7, n_estimators=100, random_state=100, scale_pos_weight=1;, score=0.585 total time=  15.7s\n",
      "[CV 5/5] END alpha=100, colsample_bytree=0.5, learning_rate=0.01, max_depth=7, n_estimators=100, random_state=100, scale_pos_weight=1;, score=0.597 total time=  15.5s\n",
      "[CV 1/5] END alpha=1, colsample_bytree=0.5, learning_rate=0.1, max_depth=6, n_estimators=75, random_state=100, scale_pos_weight=11;, score=0.658 total time=  10.4s\n",
      "[CV 2/5] END alpha=1, colsample_bytree=0.5, learning_rate=0.1, max_depth=6, n_estimators=75, random_state=100, scale_pos_weight=11;, score=0.649 total time=  10.4s\n",
      "[CV 3/5] END alpha=1, colsample_bytree=0.5, learning_rate=0.1, max_depth=6, n_estimators=75, random_state=100, scale_pos_weight=11;, score=0.664 total time=  10.8s\n",
      "[CV 4/5] END alpha=1, colsample_bytree=0.5, learning_rate=0.1, max_depth=6, n_estimators=75, random_state=100, scale_pos_weight=11;, score=0.646 total time=  10.5s\n",
      "[CV 5/5] END alpha=1, colsample_bytree=0.5, learning_rate=0.1, max_depth=6, n_estimators=75, random_state=100, scale_pos_weight=11;, score=0.675 total time=  10.5s\n",
      "[CV 1/5] END alpha=10, colsample_bytree=1, learning_rate=0.01, max_depth=7, n_estimators=100, random_state=100, scale_pos_weight=1;, score=0.662 total time=  29.6s\n",
      "[CV 2/5] END alpha=10, colsample_bytree=1, learning_rate=0.01, max_depth=7, n_estimators=100, random_state=100, scale_pos_weight=1;, score=0.668 total time=  29.8s\n",
      "[CV 3/5] END alpha=10, colsample_bytree=1, learning_rate=0.01, max_depth=7, n_estimators=100, random_state=100, scale_pos_weight=1;, score=0.634 total time=  29.8s\n",
      "[CV 4/5] END alpha=10, colsample_bytree=1, learning_rate=0.01, max_depth=7, n_estimators=100, random_state=100, scale_pos_weight=1;, score=0.635 total time=  29.8s\n",
      "[CV 5/5] END alpha=10, colsample_bytree=1, learning_rate=0.01, max_depth=7, n_estimators=100, random_state=100, scale_pos_weight=1;, score=0.650 total time=  30.3s\n"
     ]
    },
    {
     "data": {
      "text/plain": [
       "{'scale_pos_weight': 6,\n",
       " 'random_state': 100,\n",
       " 'n_estimators': 100,\n",
       " 'max_depth': 8,\n",
       " 'learning_rate': 0.1,\n",
       " 'colsample_bytree': 0.5,\n",
       " 'alpha': 1}"
      ]
     },
     "execution_count": 541,
     "metadata": {},
     "output_type": "execute_result"
    }
   ],
   "source": [
    "# source: https://www.mikulskibartosz.name/xgboost-hyperparameter-tuning-in-python-using-grid-search/\n",
    "# source: https://towardsdatascience.com/xgboost-fine-tune-and-optimize-your-model-23d996fab663\n",
    "\n",
    "# grid with hyperparameter values\n",
    "param_grid_xgboost_randomized = {\n",
    "    'max_depth': range (2, 10, 1),\n",
    "    'n_estimators': [50,75,100,125],\n",
    "     'colsample_bytree': [0.5, 0.75, 1],\n",
    "    'learning_rate': [0.1, 0.01, 0.05],\n",
    "    'alpha' : [1,10,100,1000],\n",
    "    'random_state': [100],\n",
    "    'scale_pos_weight': [1,6,11]\n",
    "\n",
    "}\n",
    "\n",
    "# fit XGBoost instance\n",
    "estimator = xgb.XGBClassifier(\n",
    "    objective= 'binary:logistic',\n",
    "    nthread=4,\n",
    "    seed=100\n",
    ")\n",
    "\n",
    "# randomised grid search with f1 scoring metric\n",
    "grid_xgboost_randomized = RandomizedSearchCV(estimator=estimator, param_distributions=param_grid_xgboost_randomized, cv=5, scoring='f1', verbose=3, random_state=100)\n",
    "\n",
    "# fit model\n",
    "grid_xgboost_randomized.fit(X_train_imp_scaledALL, y_train);\n",
    "\n",
    "# print best parameters\n",
    "grid_xgboost_randomized.best_params_"
   ]
  },
  {
   "cell_type": "code",
   "execution_count": 543,
   "id": "72df2cfb-6785-4c78-bd81-2d510b73fe13",
   "metadata": {},
   "outputs": [
    {
     "data": {
      "text/plain": [
       "0.7689384056204633"
      ]
     },
     "execution_count": 543,
     "metadata": {},
     "output_type": "execute_result"
    }
   ],
   "source": [
    "# print best score\n",
    "grid_xgboost_randomized.best_score_"
   ]
  },
  {
   "cell_type": "code",
   "execution_count": 553,
   "id": "cb580ffd-7cd0-4707-821c-d9e29536cdd6",
   "metadata": {},
   "outputs": [],
   "source": [
    "# with open('grid_xgboost_randomized_initial_bestParams.pkl', 'wb') as f:\n",
    "#     pickle.dump(grid_xgboost_randomized.best_params_, f)\n",
    "# with open('grid_xgboost_randomized_initial_bestScore.pkl', 'wb') as f:\n",
    "#     pickle.dump(grid_xgboost_randomized.best_score_, f)\n",
    "# with open('grid_xgboost_randomized_initial_cvResults.pkl', 'wb') as f:\n",
    "#     pickle.dump(grid_xgboost_randomized.cv_results_, f)"
   ]
  },
  {
   "cell_type": "code",
   "execution_count": 104,
   "id": "4283f43a-ddb2-4682-acc0-83ae4e8f17fd",
   "metadata": {},
   "outputs": [
    {
     "name": "stdout",
     "output_type": "stream",
     "text": [
      "{'scale_pos_weight': 6, 'random_state': 100, 'n_estimators': 100, 'max_depth': 8, 'learning_rate': 0.1, 'colsample_bytree': 0.5, 'alpha': 1}\n",
      "0.7689384056204633\n"
     ]
    }
   ],
   "source": [
    "with open('grid_xgboost_randomized_initial_bestParams.pkl', 'rb') as f:\n",
    "    grid_xgboost_randomized_initial_bestParams = pickle.load(f)\n",
    "with open('grid_xgboost_randomized_initial_bestScore.pkl', 'rb') as f:\n",
    "    grid_xgboost_randomized_initial_bestScore = pickle.load(f)\n",
    "with open('grid_xgboost_randomized_initial_cvResults.pkl', 'rb') as f:\n",
    "    grid_xgboost_randomized_initial_cvResults = pickle.load(f)\n",
    "    \n",
    "print(grid_xgboost_randomized_initial_bestParams)\n",
    "print(grid_xgboost_randomized_initial_bestScore)"
   ]
  },
  {
   "cell_type": "markdown",
   "id": "6ffabfaf-0107-4a35-b4a2-5266d4aa3372",
   "metadata": {},
   "source": [
    "#### 2nd attempt"
   ]
  },
  {
   "cell_type": "code",
   "execution_count": 562,
   "id": "11d817f4-f570-4b23-b022-8be9e0e1f73f",
   "metadata": {
    "scrolled": true,
    "tags": []
   },
   "outputs": [
    {
     "name": "stdout",
     "output_type": "stream",
     "text": [
      "Fitting 5 folds for each of 100 candidates, totalling 500 fits\n",
      "[CV 1/5] END alpha=1, colsample_bytree=0.25, learning_rate=0.2, max_depth=5, n_estimators=125, random_state=100, scale_pos_weight=11;, score=0.682 total time=   8.5s\n",
      "[CV 2/5] END alpha=1, colsample_bytree=0.25, learning_rate=0.2, max_depth=5, n_estimators=125, random_state=100, scale_pos_weight=11;, score=0.680 total time=   8.5s\n",
      "[CV 3/5] END alpha=1, colsample_bytree=0.25, learning_rate=0.2, max_depth=5, n_estimators=125, random_state=100, scale_pos_weight=11;, score=0.672 total time=   8.3s\n",
      "[CV 4/5] END alpha=1, colsample_bytree=0.25, learning_rate=0.2, max_depth=5, n_estimators=125, random_state=100, scale_pos_weight=11;, score=0.682 total time=   8.7s\n",
      "[CV 5/5] END alpha=1, colsample_bytree=0.25, learning_rate=0.2, max_depth=5, n_estimators=125, random_state=100, scale_pos_weight=11;, score=0.680 total time=   8.6s\n",
      "[CV 1/5] END alpha=0.1, colsample_bytree=0.75, learning_rate=0.1, max_depth=7, n_estimators=75, random_state=100, scale_pos_weight=11;, score=0.688 total time=  17.4s\n",
      "[CV 2/5] END alpha=0.1, colsample_bytree=0.75, learning_rate=0.1, max_depth=7, n_estimators=75, random_state=100, scale_pos_weight=11;, score=0.699 total time=  17.9s\n",
      "[CV 3/5] END alpha=0.1, colsample_bytree=0.75, learning_rate=0.1, max_depth=7, n_estimators=75, random_state=100, scale_pos_weight=11;, score=0.682 total time=  17.4s\n",
      "[CV 4/5] END alpha=0.1, colsample_bytree=0.75, learning_rate=0.1, max_depth=7, n_estimators=75, random_state=100, scale_pos_weight=11;, score=0.691 total time=  17.5s\n",
      "[CV 5/5] END alpha=0.1, colsample_bytree=0.75, learning_rate=0.1, max_depth=7, n_estimators=75, random_state=100, scale_pos_weight=11;, score=0.678 total time=  17.6s\n",
      "[CV 1/5] END alpha=1, colsample_bytree=0.5, learning_rate=0.05, max_depth=9, n_estimators=125, random_state=100, scale_pos_weight=6;, score=0.774 total time=  27.2s\n",
      "[CV 2/5] END alpha=1, colsample_bytree=0.5, learning_rate=0.05, max_depth=9, n_estimators=125, random_state=100, scale_pos_weight=6;, score=0.779 total time=  26.8s\n",
      "[CV 3/5] END alpha=1, colsample_bytree=0.5, learning_rate=0.05, max_depth=9, n_estimators=125, random_state=100, scale_pos_weight=6;, score=0.770 total time=  26.8s\n",
      "[CV 4/5] END alpha=1, colsample_bytree=0.5, learning_rate=0.05, max_depth=9, n_estimators=125, random_state=100, scale_pos_weight=6;, score=0.777 total time=  27.2s\n",
      "[CV 5/5] END alpha=1, colsample_bytree=0.5, learning_rate=0.05, max_depth=9, n_estimators=125, random_state=100, scale_pos_weight=6;, score=0.767 total time=  26.7s\n",
      "[CV 1/5] END alpha=0.1, colsample_bytree=0.25, learning_rate=0.05, max_depth=9, n_estimators=125, random_state=100, scale_pos_weight=6;, score=0.775 total time=  15.7s\n",
      "[CV 2/5] END alpha=0.1, colsample_bytree=0.25, learning_rate=0.05, max_depth=9, n_estimators=125, random_state=100, scale_pos_weight=6;, score=0.783 total time=  15.5s\n",
      "[CV 3/5] END alpha=0.1, colsample_bytree=0.25, learning_rate=0.05, max_depth=9, n_estimators=125, random_state=100, scale_pos_weight=6;, score=0.772 total time=  15.5s\n",
      "[CV 4/5] END alpha=0.1, colsample_bytree=0.25, learning_rate=0.05, max_depth=9, n_estimators=125, random_state=100, scale_pos_weight=6;, score=0.778 total time=  15.7s\n",
      "[CV 5/5] END alpha=0.1, colsample_bytree=0.25, learning_rate=0.05, max_depth=9, n_estimators=125, random_state=100, scale_pos_weight=6;, score=0.771 total time=  15.6s\n",
      "[CV 1/5] END alpha=0.1, colsample_bytree=0.75, learning_rate=0.1, max_depth=9, n_estimators=75, random_state=100, scale_pos_weight=1;, score=0.758 total time=  22.7s\n",
      "[CV 2/5] END alpha=0.1, colsample_bytree=0.75, learning_rate=0.1, max_depth=9, n_estimators=75, random_state=100, scale_pos_weight=1;, score=0.767 total time=  22.7s\n",
      "[CV 3/5] END alpha=0.1, colsample_bytree=0.75, learning_rate=0.1, max_depth=9, n_estimators=75, random_state=100, scale_pos_weight=1;, score=0.777 total time=  22.6s\n",
      "[CV 4/5] END alpha=0.1, colsample_bytree=0.75, learning_rate=0.1, max_depth=9, n_estimators=75, random_state=100, scale_pos_weight=1;, score=0.773 total time=  22.8s\n",
      "[CV 5/5] END alpha=0.1, colsample_bytree=0.75, learning_rate=0.1, max_depth=9, n_estimators=75, random_state=100, scale_pos_weight=1;, score=0.778 total time=  22.5s\n",
      "[CV 1/5] END alpha=1, colsample_bytree=0.5, learning_rate=0.1, max_depth=5, n_estimators=100, random_state=100, scale_pos_weight=1;, score=0.714 total time=  11.5s\n",
      "[CV 2/5] END alpha=1, colsample_bytree=0.5, learning_rate=0.1, max_depth=5, n_estimators=100, random_state=100, scale_pos_weight=1;, score=0.728 total time=  11.5s\n",
      "[CV 3/5] END alpha=1, colsample_bytree=0.5, learning_rate=0.1, max_depth=5, n_estimators=100, random_state=100, scale_pos_weight=1;, score=0.722 total time=  11.6s\n",
      "[CV 4/5] END alpha=1, colsample_bytree=0.5, learning_rate=0.1, max_depth=5, n_estimators=100, random_state=100, scale_pos_weight=1;, score=0.713 total time=  11.5s\n",
      "[CV 5/5] END alpha=1, colsample_bytree=0.5, learning_rate=0.1, max_depth=5, n_estimators=100, random_state=100, scale_pos_weight=1;, score=0.731 total time=  11.5s\n",
      "[CV 1/5] END alpha=0, colsample_bytree=0.5, learning_rate=0.05, max_depth=5, n_estimators=100, random_state=100, scale_pos_weight=1;, score=0.687 total time=  11.5s\n",
      "[CV 2/5] END alpha=0, colsample_bytree=0.5, learning_rate=0.05, max_depth=5, n_estimators=100, random_state=100, scale_pos_weight=1;, score=0.704 total time=  11.5s\n",
      "[CV 3/5] END alpha=0, colsample_bytree=0.5, learning_rate=0.05, max_depth=5, n_estimators=100, random_state=100, scale_pos_weight=1;, score=0.699 total time=  11.5s\n",
      "[CV 4/5] END alpha=0, colsample_bytree=0.5, learning_rate=0.05, max_depth=5, n_estimators=100, random_state=100, scale_pos_weight=1;, score=0.691 total time=  11.6s\n",
      "[CV 5/5] END alpha=0, colsample_bytree=0.5, learning_rate=0.05, max_depth=5, n_estimators=100, random_state=100, scale_pos_weight=1;, score=0.712 total time=  11.6s\n",
      "[CV 1/5] END alpha=0, colsample_bytree=0.25, learning_rate=0.2, max_depth=6, n_estimators=75, random_state=100, scale_pos_weight=11;, score=0.679 total time=   6.0s\n",
      "[CV 2/5] END alpha=0, colsample_bytree=0.25, learning_rate=0.2, max_depth=6, n_estimators=75, random_state=100, scale_pos_weight=11;, score=0.683 total time=   6.0s\n",
      "[CV 3/5] END alpha=0, colsample_bytree=0.25, learning_rate=0.2, max_depth=6, n_estimators=75, random_state=100, scale_pos_weight=11;, score=0.681 total time=   6.0s\n",
      "[CV 4/5] END alpha=0, colsample_bytree=0.25, learning_rate=0.2, max_depth=6, n_estimators=75, random_state=100, scale_pos_weight=11;, score=0.689 total time=   6.1s\n",
      "[CV 5/5] END alpha=0, colsample_bytree=0.25, learning_rate=0.2, max_depth=6, n_estimators=75, random_state=100, scale_pos_weight=11;, score=0.679 total time=   6.1s\n",
      "[CV 1/5] END alpha=1, colsample_bytree=0.5, learning_rate=0.2, max_depth=6, n_estimators=125, random_state=100, scale_pos_weight=6;, score=0.767 total time=  17.0s\n",
      "[CV 2/5] END alpha=1, colsample_bytree=0.5, learning_rate=0.2, max_depth=6, n_estimators=125, random_state=100, scale_pos_weight=6;, score=0.765 total time=  17.0s\n",
      "[CV 3/5] END alpha=1, colsample_bytree=0.5, learning_rate=0.2, max_depth=6, n_estimators=125, random_state=100, scale_pos_weight=6;, score=0.760 total time=  16.9s\n",
      "[CV 4/5] END alpha=1, colsample_bytree=0.5, learning_rate=0.2, max_depth=6, n_estimators=125, random_state=100, scale_pos_weight=6;, score=0.765 total time=  17.0s\n",
      "[CV 5/5] END alpha=1, colsample_bytree=0.5, learning_rate=0.2, max_depth=6, n_estimators=125, random_state=100, scale_pos_weight=6;, score=0.765 total time=  17.0s\n",
      "[CV 1/5] END alpha=1, colsample_bytree=0.5, learning_rate=0.2, max_depth=6, n_estimators=75, random_state=100, scale_pos_weight=1;, score=0.751 total time=  10.3s\n",
      "[CV 2/5] END alpha=1, colsample_bytree=0.5, learning_rate=0.2, max_depth=6, n_estimators=75, random_state=100, scale_pos_weight=1;, score=0.754 total time=  10.5s\n",
      "[CV 3/5] END alpha=1, colsample_bytree=0.5, learning_rate=0.2, max_depth=6, n_estimators=75, random_state=100, scale_pos_weight=1;, score=0.762 total time=  10.5s\n",
      "[CV 4/5] END alpha=1, colsample_bytree=0.5, learning_rate=0.2, max_depth=6, n_estimators=75, random_state=100, scale_pos_weight=1;, score=0.760 total time=  10.4s\n",
      "[CV 5/5] END alpha=1, colsample_bytree=0.5, learning_rate=0.2, max_depth=6, n_estimators=75, random_state=100, scale_pos_weight=1;, score=0.766 total time=  10.4s\n",
      "[CV 1/5] END alpha=10, colsample_bytree=0.5, learning_rate=0.1, max_depth=5, n_estimators=125, random_state=100, scale_pos_weight=1;, score=0.716 total time=  14.4s\n",
      "[CV 2/5] END alpha=10, colsample_bytree=0.5, learning_rate=0.1, max_depth=5, n_estimators=125, random_state=100, scale_pos_weight=1;, score=0.729 total time=  14.3s\n",
      "[CV 3/5] END alpha=10, colsample_bytree=0.5, learning_rate=0.1, max_depth=5, n_estimators=125, random_state=100, scale_pos_weight=1;, score=0.722 total time=  14.4s\n",
      "[CV 4/5] END alpha=10, colsample_bytree=0.5, learning_rate=0.1, max_depth=5, n_estimators=125, random_state=100, scale_pos_weight=1;, score=0.715 total time=  14.4s\n",
      "[CV 5/5] END alpha=10, colsample_bytree=0.5, learning_rate=0.1, max_depth=5, n_estimators=125, random_state=100, scale_pos_weight=1;, score=0.735 total time=  14.4s\n",
      "[CV 1/5] END alpha=1, colsample_bytree=0.25, learning_rate=0.1, max_depth=7, n_estimators=100, random_state=100, scale_pos_weight=6;, score=0.759 total time=   9.4s\n",
      "[CV 2/5] END alpha=1, colsample_bytree=0.25, learning_rate=0.1, max_depth=7, n_estimators=100, random_state=100, scale_pos_weight=6;, score=0.757 total time=   9.3s\n",
      "[CV 3/5] END alpha=1, colsample_bytree=0.25, learning_rate=0.1, max_depth=7, n_estimators=100, random_state=100, scale_pos_weight=6;, score=0.746 total time=   9.3s\n",
      "[CV 4/5] END alpha=1, colsample_bytree=0.25, learning_rate=0.1, max_depth=7, n_estimators=100, random_state=100, scale_pos_weight=6;, score=0.755 total time=   9.5s\n",
      "[CV 5/5] END alpha=1, colsample_bytree=0.25, learning_rate=0.1, max_depth=7, n_estimators=100, random_state=100, scale_pos_weight=6;, score=0.741 total time=   9.4s\n",
      "[CV 1/5] END alpha=0.1, colsample_bytree=0.25, learning_rate=0.05, max_depth=9, n_estimators=75, random_state=100, scale_pos_weight=6;, score=0.756 total time=   9.6s\n",
      "[CV 2/5] END alpha=0.1, colsample_bytree=0.25, learning_rate=0.05, max_depth=9, n_estimators=75, random_state=100, scale_pos_weight=6;, score=0.768 total time=   9.5s\n",
      "[CV 3/5] END alpha=0.1, colsample_bytree=0.25, learning_rate=0.05, max_depth=9, n_estimators=75, random_state=100, scale_pos_weight=6;, score=0.754 total time=   9.6s\n",
      "[CV 4/5] END alpha=0.1, colsample_bytree=0.25, learning_rate=0.05, max_depth=9, n_estimators=75, random_state=100, scale_pos_weight=6;, score=0.763 total time=   9.6s\n",
      "[CV 5/5] END alpha=0.1, colsample_bytree=0.25, learning_rate=0.05, max_depth=9, n_estimators=75, random_state=100, scale_pos_weight=6;, score=0.758 total time=   9.5s\n",
      "[CV 1/5] END alpha=0, colsample_bytree=0.25, learning_rate=0.2, max_depth=8, n_estimators=100, random_state=100, scale_pos_weight=1;, score=0.779 total time=  10.6s\n",
      "[CV 2/5] END alpha=0, colsample_bytree=0.25, learning_rate=0.2, max_depth=8, n_estimators=100, random_state=100, scale_pos_weight=1;, score=0.775 total time=  10.6s\n",
      "[CV 3/5] END alpha=0, colsample_bytree=0.25, learning_rate=0.2, max_depth=8, n_estimators=100, random_state=100, scale_pos_weight=1;, score=0.778 total time=  10.4s\n",
      "[CV 4/5] END alpha=0, colsample_bytree=0.25, learning_rate=0.2, max_depth=8, n_estimators=100, random_state=100, scale_pos_weight=1;, score=0.786 total time=  10.5s\n",
      "[CV 5/5] END alpha=0, colsample_bytree=0.25, learning_rate=0.2, max_depth=8, n_estimators=100, random_state=100, scale_pos_weight=1;, score=0.783 total time=  10.9s\n",
      "[CV 1/5] END alpha=1, colsample_bytree=0.5, learning_rate=0.1, max_depth=5, n_estimators=75, random_state=100, scale_pos_weight=6;, score=0.703 total time=   9.5s\n",
      "[CV 2/5] END alpha=1, colsample_bytree=0.5, learning_rate=0.1, max_depth=5, n_estimators=75, random_state=100, scale_pos_weight=6;, score=0.703 total time=   9.0s\n",
      "[CV 3/5] END alpha=1, colsample_bytree=0.5, learning_rate=0.1, max_depth=5, n_estimators=75, random_state=100, scale_pos_weight=6;, score=0.699 total time=   9.0s\n",
      "[CV 4/5] END alpha=1, colsample_bytree=0.5, learning_rate=0.1, max_depth=5, n_estimators=75, random_state=100, scale_pos_weight=6;, score=0.699 total time=   8.9s\n",
      "[CV 5/5] END alpha=1, colsample_bytree=0.5, learning_rate=0.1, max_depth=5, n_estimators=75, random_state=100, scale_pos_weight=6;, score=0.701 total time=   9.4s\n",
      "[CV 1/5] END alpha=1, colsample_bytree=0.25, learning_rate=0.05, max_depth=5, n_estimators=75, random_state=100, scale_pos_weight=11;, score=0.594 total time=   5.3s\n",
      "[CV 2/5] END alpha=1, colsample_bytree=0.25, learning_rate=0.05, max_depth=5, n_estimators=75, random_state=100, scale_pos_weight=11;, score=0.601 total time=   5.2s\n",
      "[CV 3/5] END alpha=1, colsample_bytree=0.25, learning_rate=0.05, max_depth=5, n_estimators=75, random_state=100, scale_pos_weight=11;, score=0.592 total time=   5.3s\n",
      "[CV 4/5] END alpha=1, colsample_bytree=0.25, learning_rate=0.05, max_depth=5, n_estimators=75, random_state=100, scale_pos_weight=11;, score=0.600 total time=   5.5s\n",
      "[CV 5/5] END alpha=1, colsample_bytree=0.25, learning_rate=0.05, max_depth=5, n_estimators=75, random_state=100, scale_pos_weight=11;, score=0.591 total time=   5.3s\n",
      "[CV 1/5] END alpha=0, colsample_bytree=0.75, learning_rate=0.2, max_depth=5, n_estimators=100, random_state=100, scale_pos_weight=1;, score=0.746 total time=  16.4s\n",
      "[CV 2/5] END alpha=0, colsample_bytree=0.75, learning_rate=0.2, max_depth=5, n_estimators=100, random_state=100, scale_pos_weight=1;, score=0.753 total time=  16.3s\n",
      "[CV 3/5] END alpha=0, colsample_bytree=0.75, learning_rate=0.2, max_depth=5, n_estimators=100, random_state=100, scale_pos_weight=1;, score=0.757 total time=  16.3s\n",
      "[CV 4/5] END alpha=0, colsample_bytree=0.75, learning_rate=0.2, max_depth=5, n_estimators=100, random_state=100, scale_pos_weight=1;, score=0.744 total time=  16.4s\n",
      "[CV 5/5] END alpha=0, colsample_bytree=0.75, learning_rate=0.2, max_depth=5, n_estimators=100, random_state=100, scale_pos_weight=1;, score=0.761 total time=  16.5s\n",
      "[CV 1/5] END alpha=0, colsample_bytree=0.5, learning_rate=0.05, max_depth=6, n_estimators=125, random_state=100, scale_pos_weight=6;, score=0.729 total time=  17.5s\n",
      "[CV 2/5] END alpha=0, colsample_bytree=0.5, learning_rate=0.05, max_depth=6, n_estimators=125, random_state=100, scale_pos_weight=6;, score=0.727 total time=  17.4s\n",
      "[CV 3/5] END alpha=0, colsample_bytree=0.5, learning_rate=0.05, max_depth=6, n_estimators=125, random_state=100, scale_pos_weight=6;, score=0.719 total time=  17.4s\n",
      "[CV 4/5] END alpha=0, colsample_bytree=0.5, learning_rate=0.05, max_depth=6, n_estimators=125, random_state=100, scale_pos_weight=6;, score=0.723 total time=  17.3s\n",
      "[CV 5/5] END alpha=0, colsample_bytree=0.5, learning_rate=0.05, max_depth=6, n_estimators=125, random_state=100, scale_pos_weight=6;, score=0.725 total time=  17.3s\n",
      "[CV 1/5] END alpha=0.1, colsample_bytree=0.25, learning_rate=0.05, max_depth=6, n_estimators=125, random_state=100, scale_pos_weight=6;, score=0.728 total time=  10.0s\n",
      "[CV 2/5] END alpha=0.1, colsample_bytree=0.25, learning_rate=0.05, max_depth=6, n_estimators=125, random_state=100, scale_pos_weight=6;, score=0.726 total time=  10.0s\n",
      "[CV 3/5] END alpha=0.1, colsample_bytree=0.25, learning_rate=0.05, max_depth=6, n_estimators=125, random_state=100, scale_pos_weight=6;, score=0.718 total time=  10.0s\n",
      "[CV 4/5] END alpha=0.1, colsample_bytree=0.25, learning_rate=0.05, max_depth=6, n_estimators=125, random_state=100, scale_pos_weight=6;, score=0.724 total time=  10.0s\n",
      "[CV 5/5] END alpha=0.1, colsample_bytree=0.25, learning_rate=0.05, max_depth=6, n_estimators=125, random_state=100, scale_pos_weight=6;, score=0.716 total time=  10.1s\n",
      "[CV 1/5] END alpha=0, colsample_bytree=0.5, learning_rate=0.1, max_depth=8, n_estimators=125, random_state=100, scale_pos_weight=11;, score=0.739 total time=  23.0s\n",
      "[CV 2/5] END alpha=0, colsample_bytree=0.5, learning_rate=0.1, max_depth=8, n_estimators=125, random_state=100, scale_pos_weight=11;, score=0.745 total time=  23.0s\n",
      "[CV 3/5] END alpha=0, colsample_bytree=0.5, learning_rate=0.1, max_depth=8, n_estimators=125, random_state=100, scale_pos_weight=11;, score=0.735 total time=  22.9s\n",
      "[CV 4/5] END alpha=0, colsample_bytree=0.5, learning_rate=0.1, max_depth=8, n_estimators=125, random_state=100, scale_pos_weight=11;, score=0.747 total time=  23.1s\n",
      "[CV 5/5] END alpha=0, colsample_bytree=0.5, learning_rate=0.1, max_depth=8, n_estimators=125, random_state=100, scale_pos_weight=11;, score=0.739 total time=  23.0s\n",
      "[CV 1/5] END alpha=1, colsample_bytree=0.75, learning_rate=0.05, max_depth=5, n_estimators=125, random_state=100, scale_pos_weight=1;, score=0.696 total time=  20.3s\n",
      "[CV 2/5] END alpha=1, colsample_bytree=0.75, learning_rate=0.05, max_depth=5, n_estimators=125, random_state=100, scale_pos_weight=1;, score=0.714 total time=  20.5s\n",
      "[CV 3/5] END alpha=1, colsample_bytree=0.75, learning_rate=0.05, max_depth=5, n_estimators=125, random_state=100, scale_pos_weight=1;, score=0.710 total time=  20.4s\n",
      "[CV 4/5] END alpha=1, colsample_bytree=0.75, learning_rate=0.05, max_depth=5, n_estimators=125, random_state=100, scale_pos_weight=1;, score=0.701 total time=  20.7s\n",
      "[CV 5/5] END alpha=1, colsample_bytree=0.75, learning_rate=0.05, max_depth=5, n_estimators=125, random_state=100, scale_pos_weight=1;, score=0.712 total time=  20.5s\n",
      "[CV 1/5] END alpha=0, colsample_bytree=0.5, learning_rate=0.1, max_depth=6, n_estimators=125, random_state=100, scale_pos_weight=11;, score=0.686 total time=  17.3s\n",
      "[CV 2/5] END alpha=0, colsample_bytree=0.5, learning_rate=0.1, max_depth=6, n_estimators=125, random_state=100, scale_pos_weight=11;, score=0.688 total time=  17.3s\n",
      "[CV 3/5] END alpha=0, colsample_bytree=0.5, learning_rate=0.1, max_depth=6, n_estimators=125, random_state=100, scale_pos_weight=11;, score=0.681 total time=  17.3s\n",
      "[CV 4/5] END alpha=0, colsample_bytree=0.5, learning_rate=0.1, max_depth=6, n_estimators=125, random_state=100, scale_pos_weight=11;, score=0.690 total time=  17.3s\n",
      "[CV 5/5] END alpha=0, colsample_bytree=0.5, learning_rate=0.1, max_depth=6, n_estimators=125, random_state=100, scale_pos_weight=11;, score=0.676 total time=  17.4s\n",
      "[CV 1/5] END alpha=10, colsample_bytree=0.5, learning_rate=0.2, max_depth=5, n_estimators=125, random_state=100, scale_pos_weight=1;, score=0.742 total time=  14.5s\n",
      "[CV 2/5] END alpha=10, colsample_bytree=0.5, learning_rate=0.2, max_depth=5, n_estimators=125, random_state=100, scale_pos_weight=1;, score=0.749 total time=  14.6s\n",
      "[CV 3/5] END alpha=10, colsample_bytree=0.5, learning_rate=0.2, max_depth=5, n_estimators=125, random_state=100, scale_pos_weight=1;, score=0.749 total time=  14.5s\n",
      "[CV 4/5] END alpha=10, colsample_bytree=0.5, learning_rate=0.2, max_depth=5, n_estimators=125, random_state=100, scale_pos_weight=1;, score=0.742 total time=  14.5s\n",
      "[CV 5/5] END alpha=10, colsample_bytree=0.5, learning_rate=0.2, max_depth=5, n_estimators=125, random_state=100, scale_pos_weight=1;, score=0.760 total time=  14.4s\n",
      "[CV 1/5] END alpha=10, colsample_bytree=0.75, learning_rate=0.05, max_depth=6, n_estimators=125, random_state=100, scale_pos_weight=6;, score=0.714 total time=  24.5s\n",
      "[CV 2/5] END alpha=10, colsample_bytree=0.75, learning_rate=0.05, max_depth=6, n_estimators=125, random_state=100, scale_pos_weight=6;, score=0.714 total time=  24.7s\n",
      "[CV 3/5] END alpha=10, colsample_bytree=0.75, learning_rate=0.05, max_depth=6, n_estimators=125, random_state=100, scale_pos_weight=6;, score=0.711 total time=  25.1s\n",
      "[CV 4/5] END alpha=10, colsample_bytree=0.75, learning_rate=0.05, max_depth=6, n_estimators=125, random_state=100, scale_pos_weight=6;, score=0.713 total time=  25.5s\n",
      "[CV 5/5] END alpha=10, colsample_bytree=0.75, learning_rate=0.05, max_depth=6, n_estimators=125, random_state=100, scale_pos_weight=6;, score=0.710 total time=  24.6s\n",
      "[CV 1/5] END alpha=0, colsample_bytree=0.5, learning_rate=0.05, max_depth=9, n_estimators=125, random_state=100, scale_pos_weight=11;, score=0.738 total time=  26.9s\n",
      "[CV 2/5] END alpha=0, colsample_bytree=0.5, learning_rate=0.05, max_depth=9, n_estimators=125, random_state=100, scale_pos_weight=11;, score=0.743 total time=  26.9s\n",
      "[CV 3/5] END alpha=0, colsample_bytree=0.5, learning_rate=0.05, max_depth=9, n_estimators=125, random_state=100, scale_pos_weight=11;, score=0.731 total time=  26.9s\n",
      "[CV 4/5] END alpha=0, colsample_bytree=0.5, learning_rate=0.05, max_depth=9, n_estimators=125, random_state=100, scale_pos_weight=11;, score=0.744 total time=  27.2s\n",
      "[CV 5/5] END alpha=0, colsample_bytree=0.5, learning_rate=0.05, max_depth=9, n_estimators=125, random_state=100, scale_pos_weight=11;, score=0.729 total time=  26.9s\n",
      "[CV 1/5] END alpha=1, colsample_bytree=0.75, learning_rate=0.05, max_depth=6, n_estimators=125, random_state=100, scale_pos_weight=1;, score=0.715 total time=  24.6s\n",
      "[CV 2/5] END alpha=1, colsample_bytree=0.75, learning_rate=0.05, max_depth=6, n_estimators=125, random_state=100, scale_pos_weight=1;, score=0.729 total time=  24.6s\n",
      "[CV 3/5] END alpha=1, colsample_bytree=0.75, learning_rate=0.05, max_depth=6, n_estimators=125, random_state=100, scale_pos_weight=1;, score=0.727 total time=  24.5s\n",
      "[CV 4/5] END alpha=1, colsample_bytree=0.75, learning_rate=0.05, max_depth=6, n_estimators=125, random_state=100, scale_pos_weight=1;, score=0.716 total time=  24.8s\n",
      "[CV 5/5] END alpha=1, colsample_bytree=0.75, learning_rate=0.05, max_depth=6, n_estimators=125, random_state=100, scale_pos_weight=1;, score=0.732 total time=  24.6s\n",
      "[CV 1/5] END alpha=1, colsample_bytree=0.25, learning_rate=0.1, max_depth=8, n_estimators=125, random_state=100, scale_pos_weight=6;, score=0.780 total time=  13.8s\n",
      "[CV 2/5] END alpha=1, colsample_bytree=0.25, learning_rate=0.1, max_depth=8, n_estimators=125, random_state=100, scale_pos_weight=6;, score=0.781 total time=  13.5s\n",
      "[CV 3/5] END alpha=1, colsample_bytree=0.25, learning_rate=0.1, max_depth=8, n_estimators=125, random_state=100, scale_pos_weight=6;, score=0.767 total time=  13.5s\n",
      "[CV 4/5] END alpha=1, colsample_bytree=0.25, learning_rate=0.1, max_depth=8, n_estimators=125, random_state=100, scale_pos_weight=6;, score=0.780 total time=  13.6s\n",
      "[CV 5/5] END alpha=1, colsample_bytree=0.25, learning_rate=0.1, max_depth=8, n_estimators=125, random_state=100, scale_pos_weight=6;, score=0.766 total time=  14.0s\n",
      "[CV 1/5] END alpha=1, colsample_bytree=0.75, learning_rate=0.05, max_depth=5, n_estimators=100, random_state=100, scale_pos_weight=11;, score=0.618 total time=  16.5s\n",
      "[CV 2/5] END alpha=1, colsample_bytree=0.75, learning_rate=0.05, max_depth=5, n_estimators=100, random_state=100, scale_pos_weight=11;, score=0.618 total time=  16.7s\n",
      "[CV 3/5] END alpha=1, colsample_bytree=0.75, learning_rate=0.05, max_depth=5, n_estimators=100, random_state=100, scale_pos_weight=11;, score=0.608 total time=  16.5s\n",
      "[CV 4/5] END alpha=1, colsample_bytree=0.75, learning_rate=0.05, max_depth=5, n_estimators=100, random_state=100, scale_pos_weight=11;, score=0.616 total time=  16.5s\n",
      "[CV 5/5] END alpha=1, colsample_bytree=0.75, learning_rate=0.05, max_depth=5, n_estimators=100, random_state=100, scale_pos_weight=11;, score=0.610 total time=  16.6s\n",
      "[CV 1/5] END alpha=10, colsample_bytree=0.25, learning_rate=0.1, max_depth=6, n_estimators=75, random_state=100, scale_pos_weight=6;, score=0.715 total time=   6.2s\n",
      "[CV 2/5] END alpha=10, colsample_bytree=0.25, learning_rate=0.1, max_depth=6, n_estimators=75, random_state=100, scale_pos_weight=6;, score=0.713 total time=   6.2s\n",
      "[CV 3/5] END alpha=10, colsample_bytree=0.25, learning_rate=0.1, max_depth=6, n_estimators=75, random_state=100, scale_pos_weight=6;, score=0.709 total time=   6.3s\n",
      "[CV 4/5] END alpha=10, colsample_bytree=0.25, learning_rate=0.1, max_depth=6, n_estimators=75, random_state=100, scale_pos_weight=6;, score=0.709 total time=   6.2s\n",
      "[CV 5/5] END alpha=10, colsample_bytree=0.25, learning_rate=0.1, max_depth=6, n_estimators=75, random_state=100, scale_pos_weight=6;, score=0.702 total time=   6.2s\n",
      "[CV 1/5] END alpha=0.1, colsample_bytree=0.25, learning_rate=0.1, max_depth=8, n_estimators=75, random_state=100, scale_pos_weight=11;, score=0.706 total time=   8.6s\n",
      "[CV 2/5] END alpha=0.1, colsample_bytree=0.25, learning_rate=0.1, max_depth=8, n_estimators=75, random_state=100, scale_pos_weight=11;, score=0.725 total time=   9.5s\n",
      "[CV 3/5] END alpha=0.1, colsample_bytree=0.25, learning_rate=0.1, max_depth=8, n_estimators=75, random_state=100, scale_pos_weight=11;, score=0.703 total time=   8.5s\n",
      "[CV 4/5] END alpha=0.1, colsample_bytree=0.25, learning_rate=0.1, max_depth=8, n_estimators=75, random_state=100, scale_pos_weight=11;, score=0.719 total time=   8.4s\n",
      "[CV 5/5] END alpha=0.1, colsample_bytree=0.25, learning_rate=0.1, max_depth=8, n_estimators=75, random_state=100, scale_pos_weight=11;, score=0.708 total time=   8.3s\n",
      "[CV 1/5] END alpha=0.1, colsample_bytree=0.25, learning_rate=0.2, max_depth=7, n_estimators=125, random_state=100, scale_pos_weight=1;, score=0.769 total time=  11.6s\n",
      "[CV 2/5] END alpha=0.1, colsample_bytree=0.25, learning_rate=0.2, max_depth=7, n_estimators=125, random_state=100, scale_pos_weight=1;, score=0.787 total time=  11.4s\n",
      "[CV 3/5] END alpha=0.1, colsample_bytree=0.25, learning_rate=0.2, max_depth=7, n_estimators=125, random_state=100, scale_pos_weight=1;, score=0.770 total time=  11.3s\n",
      "[CV 4/5] END alpha=0.1, colsample_bytree=0.25, learning_rate=0.2, max_depth=7, n_estimators=125, random_state=100, scale_pos_weight=1;, score=0.783 total time=  11.5s\n",
      "[CV 5/5] END alpha=0.1, colsample_bytree=0.25, learning_rate=0.2, max_depth=7, n_estimators=125, random_state=100, scale_pos_weight=1;, score=0.783 total time=  11.5s\n",
      "[CV 1/5] END alpha=1, colsample_bytree=0.5, learning_rate=0.1, max_depth=7, n_estimators=100, random_state=100, scale_pos_weight=11;, score=0.705 total time=  16.2s\n",
      "[CV 2/5] END alpha=1, colsample_bytree=0.5, learning_rate=0.1, max_depth=7, n_estimators=100, random_state=100, scale_pos_weight=11;, score=0.704 total time=  16.1s\n",
      "[CV 3/5] END alpha=1, colsample_bytree=0.5, learning_rate=0.1, max_depth=7, n_estimators=100, random_state=100, scale_pos_weight=11;, score=0.693 total time=  16.9s\n",
      "[CV 4/5] END alpha=1, colsample_bytree=0.5, learning_rate=0.1, max_depth=7, n_estimators=100, random_state=100, scale_pos_weight=11;, score=0.707 total time=  16.3s\n",
      "[CV 5/5] END alpha=1, colsample_bytree=0.5, learning_rate=0.1, max_depth=7, n_estimators=100, random_state=100, scale_pos_weight=11;, score=0.696 total time=  16.2s\n",
      "[CV 1/5] END alpha=0, colsample_bytree=0.75, learning_rate=0.1, max_depth=5, n_estimators=125, random_state=100, scale_pos_weight=6;, score=0.718 total time=  20.2s\n",
      "[CV 2/5] END alpha=0, colsample_bytree=0.75, learning_rate=0.1, max_depth=5, n_estimators=125, random_state=100, scale_pos_weight=6;, score=0.718 total time=  20.3s\n",
      "[CV 3/5] END alpha=0, colsample_bytree=0.75, learning_rate=0.1, max_depth=5, n_estimators=125, random_state=100, scale_pos_weight=6;, score=0.713 total time=  20.2s\n",
      "[CV 4/5] END alpha=0, colsample_bytree=0.75, learning_rate=0.1, max_depth=5, n_estimators=125, random_state=100, scale_pos_weight=6;, score=0.710 total time=  20.3s\n",
      "[CV 5/5] END alpha=0, colsample_bytree=0.75, learning_rate=0.1, max_depth=5, n_estimators=125, random_state=100, scale_pos_weight=6;, score=0.716 total time=  20.3s\n",
      "[CV 1/5] END alpha=0, colsample_bytree=0.75, learning_rate=0.05, max_depth=9, n_estimators=125, random_state=100, scale_pos_weight=1;, score=0.755 total time=  37.3s\n",
      "[CV 2/5] END alpha=0, colsample_bytree=0.75, learning_rate=0.05, max_depth=9, n_estimators=125, random_state=100, scale_pos_weight=1;, score=0.766 total time=  37.4s\n",
      "[CV 3/5] END alpha=0, colsample_bytree=0.75, learning_rate=0.05, max_depth=9, n_estimators=125, random_state=100, scale_pos_weight=1;, score=0.773 total time=  37.3s\n",
      "[CV 4/5] END alpha=0, colsample_bytree=0.75, learning_rate=0.05, max_depth=9, n_estimators=125, random_state=100, scale_pos_weight=1;, score=0.768 total time=  37.5s\n",
      "[CV 5/5] END alpha=0, colsample_bytree=0.75, learning_rate=0.05, max_depth=9, n_estimators=125, random_state=100, scale_pos_weight=1;, score=0.774 total time=  37.5s\n",
      "[CV 1/5] END alpha=0.1, colsample_bytree=0.5, learning_rate=0.2, max_depth=9, n_estimators=75, random_state=100, scale_pos_weight=6;, score=0.787 total time=  15.9s\n",
      "[CV 2/5] END alpha=0.1, colsample_bytree=0.5, learning_rate=0.2, max_depth=9, n_estimators=75, random_state=100, scale_pos_weight=6;, score=0.799 total time=  15.7s\n",
      "[CV 3/5] END alpha=0.1, colsample_bytree=0.5, learning_rate=0.2, max_depth=9, n_estimators=75, random_state=100, scale_pos_weight=6;, score=0.789 total time=  15.8s\n",
      "[CV 4/5] END alpha=0.1, colsample_bytree=0.5, learning_rate=0.2, max_depth=9, n_estimators=75, random_state=100, scale_pos_weight=6;, score=0.794 total time=  15.8s\n",
      "[CV 5/5] END alpha=0.1, colsample_bytree=0.5, learning_rate=0.2, max_depth=9, n_estimators=75, random_state=100, scale_pos_weight=6;, score=0.782 total time=  16.3s\n",
      "[CV 1/5] END alpha=0, colsample_bytree=0.25, learning_rate=0.1, max_depth=8, n_estimators=100, random_state=100, scale_pos_weight=6;, score=0.769 total time=  10.8s\n",
      "[CV 2/5] END alpha=0, colsample_bytree=0.25, learning_rate=0.1, max_depth=8, n_estimators=100, random_state=100, scale_pos_weight=6;, score=0.775 total time=  10.8s\n",
      "[CV 3/5] END alpha=0, colsample_bytree=0.25, learning_rate=0.1, max_depth=8, n_estimators=100, random_state=100, scale_pos_weight=6;, score=0.762 total time=  10.8s\n",
      "[CV 4/5] END alpha=0, colsample_bytree=0.25, learning_rate=0.1, max_depth=8, n_estimators=100, random_state=100, scale_pos_weight=6;, score=0.771 total time=  10.8s\n",
      "[CV 5/5] END alpha=0, colsample_bytree=0.25, learning_rate=0.1, max_depth=8, n_estimators=100, random_state=100, scale_pos_weight=6;, score=0.766 total time=  11.0s\n",
      "[CV 1/5] END alpha=1, colsample_bytree=0.75, learning_rate=0.2, max_depth=7, n_estimators=100, random_state=100, scale_pos_weight=11;, score=0.734 total time=  22.9s\n",
      "[CV 2/5] END alpha=1, colsample_bytree=0.75, learning_rate=0.2, max_depth=7, n_estimators=100, random_state=100, scale_pos_weight=11;, score=0.738 total time=  23.0s\n",
      "[CV 3/5] END alpha=1, colsample_bytree=0.75, learning_rate=0.2, max_depth=7, n_estimators=100, random_state=100, scale_pos_weight=11;, score=0.728 total time=  22.9s\n",
      "[CV 4/5] END alpha=1, colsample_bytree=0.75, learning_rate=0.2, max_depth=7, n_estimators=100, random_state=100, scale_pos_weight=11;, score=0.741 total time=  23.0s\n",
      "[CV 5/5] END alpha=1, colsample_bytree=0.75, learning_rate=0.2, max_depth=7, n_estimators=100, random_state=100, scale_pos_weight=11;, score=0.728 total time=  22.9s\n",
      "[CV 1/5] END alpha=0, colsample_bytree=0.5, learning_rate=0.2, max_depth=6, n_estimators=75, random_state=100, scale_pos_weight=11;, score=0.685 total time=  10.4s\n",
      "[CV 2/5] END alpha=0, colsample_bytree=0.5, learning_rate=0.2, max_depth=6, n_estimators=75, random_state=100, scale_pos_weight=11;, score=0.687 total time=  10.4s\n",
      "[CV 3/5] END alpha=0, colsample_bytree=0.5, learning_rate=0.2, max_depth=6, n_estimators=75, random_state=100, scale_pos_weight=11;, score=0.679 total time=  10.3s\n",
      "[CV 4/5] END alpha=0, colsample_bytree=0.5, learning_rate=0.2, max_depth=6, n_estimators=75, random_state=100, scale_pos_weight=11;, score=0.693 total time=  10.5s\n",
      "[CV 5/5] END alpha=0, colsample_bytree=0.5, learning_rate=0.2, max_depth=6, n_estimators=75, random_state=100, scale_pos_weight=11;, score=0.681 total time=  10.5s\n",
      "[CV 1/5] END alpha=10, colsample_bytree=0.5, learning_rate=0.2, max_depth=5, n_estimators=75, random_state=100, scale_pos_weight=1;, score=0.721 total time=   8.8s\n",
      "[CV 2/5] END alpha=10, colsample_bytree=0.5, learning_rate=0.2, max_depth=5, n_estimators=75, random_state=100, scale_pos_weight=1;, score=0.732 total time=   8.8s\n",
      "[CV 3/5] END alpha=10, colsample_bytree=0.5, learning_rate=0.2, max_depth=5, n_estimators=75, random_state=100, scale_pos_weight=1;, score=0.736 total time=   8.9s\n",
      "[CV 4/5] END alpha=10, colsample_bytree=0.5, learning_rate=0.2, max_depth=5, n_estimators=75, random_state=100, scale_pos_weight=1;, score=0.724 total time=   8.9s\n",
      "[CV 5/5] END alpha=10, colsample_bytree=0.5, learning_rate=0.2, max_depth=5, n_estimators=75, random_state=100, scale_pos_weight=1;, score=0.739 total time=   8.9s\n",
      "[CV 1/5] END alpha=1, colsample_bytree=0.75, learning_rate=0.2, max_depth=8, n_estimators=75, random_state=100, scale_pos_weight=6;, score=0.774 total time=  19.9s\n",
      "[CV 2/5] END alpha=1, colsample_bytree=0.75, learning_rate=0.2, max_depth=8, n_estimators=75, random_state=100, scale_pos_weight=6;, score=0.780 total time=  19.8s\n",
      "[CV 3/5] END alpha=1, colsample_bytree=0.75, learning_rate=0.2, max_depth=8, n_estimators=75, random_state=100, scale_pos_weight=6;, score=0.770 total time=  19.9s\n",
      "[CV 4/5] END alpha=1, colsample_bytree=0.75, learning_rate=0.2, max_depth=8, n_estimators=75, random_state=100, scale_pos_weight=6;, score=0.779 total time=  19.9s\n",
      "[CV 5/5] END alpha=1, colsample_bytree=0.75, learning_rate=0.2, max_depth=8, n_estimators=75, random_state=100, scale_pos_weight=6;, score=0.780 total time=  20.1s\n",
      "[CV 1/5] END alpha=1, colsample_bytree=0.75, learning_rate=0.2, max_depth=9, n_estimators=75, random_state=100, scale_pos_weight=1;, score=0.779 total time=  22.3s\n",
      "[CV 2/5] END alpha=1, colsample_bytree=0.75, learning_rate=0.2, max_depth=9, n_estimators=75, random_state=100, scale_pos_weight=1;, score=0.786 total time=  22.2s\n",
      "[CV 3/5] END alpha=1, colsample_bytree=0.75, learning_rate=0.2, max_depth=9, n_estimators=75, random_state=100, scale_pos_weight=1;, score=0.779 total time=  22.2s\n",
      "[CV 4/5] END alpha=1, colsample_bytree=0.75, learning_rate=0.2, max_depth=9, n_estimators=75, random_state=100, scale_pos_weight=1;, score=0.781 total time=  22.3s\n",
      "[CV 5/5] END alpha=1, colsample_bytree=0.75, learning_rate=0.2, max_depth=9, n_estimators=75, random_state=100, scale_pos_weight=1;, score=0.792 total time=  22.3s\n",
      "[CV 1/5] END alpha=10, colsample_bytree=0.75, learning_rate=0.05, max_depth=8, n_estimators=75, random_state=100, scale_pos_weight=11;, score=0.667 total time=  20.4s\n",
      "[CV 2/5] END alpha=10, colsample_bytree=0.75, learning_rate=0.05, max_depth=8, n_estimators=75, random_state=100, scale_pos_weight=11;, score=0.678 total time=  20.3s\n",
      "[CV 3/5] END alpha=10, colsample_bytree=0.75, learning_rate=0.05, max_depth=8, n_estimators=75, random_state=100, scale_pos_weight=11;, score=0.671 total time=  20.3s\n",
      "[CV 4/5] END alpha=10, colsample_bytree=0.75, learning_rate=0.05, max_depth=8, n_estimators=75, random_state=100, scale_pos_weight=11;, score=0.675 total time=  20.3s\n",
      "[CV 5/5] END alpha=10, colsample_bytree=0.75, learning_rate=0.05, max_depth=8, n_estimators=75, random_state=100, scale_pos_weight=11;, score=0.665 total time=  20.3s\n",
      "[CV 1/5] END alpha=0.1, colsample_bytree=0.75, learning_rate=0.2, max_depth=5, n_estimators=100, random_state=100, scale_pos_weight=11;, score=0.670 total time=  16.3s\n",
      "[CV 2/5] END alpha=0.1, colsample_bytree=0.75, learning_rate=0.2, max_depth=5, n_estimators=100, random_state=100, scale_pos_weight=11;, score=0.675 total time=  16.2s\n",
      "[CV 3/5] END alpha=0.1, colsample_bytree=0.75, learning_rate=0.2, max_depth=5, n_estimators=100, random_state=100, scale_pos_weight=11;, score=0.667 total time=  16.2s\n",
      "[CV 4/5] END alpha=0.1, colsample_bytree=0.75, learning_rate=0.2, max_depth=5, n_estimators=100, random_state=100, scale_pos_weight=11;, score=0.679 total time=  16.2s\n",
      "[CV 5/5] END alpha=0.1, colsample_bytree=0.75, learning_rate=0.2, max_depth=5, n_estimators=100, random_state=100, scale_pos_weight=11;, score=0.666 total time=  16.3s\n",
      "[CV 1/5] END alpha=0.1, colsample_bytree=0.25, learning_rate=0.05, max_depth=8, n_estimators=125, random_state=100, scale_pos_weight=11;, score=0.709 total time=  13.5s\n",
      "[CV 2/5] END alpha=0.1, colsample_bytree=0.25, learning_rate=0.05, max_depth=8, n_estimators=125, random_state=100, scale_pos_weight=11;, score=0.717 total time=  13.5s\n",
      "[CV 3/5] END alpha=0.1, colsample_bytree=0.25, learning_rate=0.05, max_depth=8, n_estimators=125, random_state=100, scale_pos_weight=11;, score=0.701 total time=  13.5s\n",
      "[CV 4/5] END alpha=0.1, colsample_bytree=0.25, learning_rate=0.05, max_depth=8, n_estimators=125, random_state=100, scale_pos_weight=11;, score=0.720 total time=  13.6s\n",
      "[CV 5/5] END alpha=0.1, colsample_bytree=0.25, learning_rate=0.05, max_depth=8, n_estimators=125, random_state=100, scale_pos_weight=11;, score=0.701 total time=  13.6s\n",
      "[CV 1/5] END alpha=1, colsample_bytree=0.5, learning_rate=0.05, max_depth=5, n_estimators=125, random_state=100, scale_pos_weight=11;, score=0.623 total time=  14.4s\n",
      "[CV 2/5] END alpha=1, colsample_bytree=0.5, learning_rate=0.05, max_depth=5, n_estimators=125, random_state=100, scale_pos_weight=11;, score=0.621 total time=  14.8s\n",
      "[CV 3/5] END alpha=1, colsample_bytree=0.5, learning_rate=0.05, max_depth=5, n_estimators=125, random_state=100, scale_pos_weight=11;, score=0.614 total time=  14.6s\n",
      "[CV 4/5] END alpha=1, colsample_bytree=0.5, learning_rate=0.05, max_depth=5, n_estimators=125, random_state=100, scale_pos_weight=11;, score=0.622 total time=  14.6s\n",
      "[CV 5/5] END alpha=1, colsample_bytree=0.5, learning_rate=0.05, max_depth=5, n_estimators=125, random_state=100, scale_pos_weight=11;, score=0.613 total time=  14.5s\n",
      "[CV 1/5] END alpha=0.1, colsample_bytree=0.5, learning_rate=0.1, max_depth=8, n_estimators=100, random_state=100, scale_pos_weight=1;, score=0.759 total time=  19.0s\n",
      "[CV 2/5] END alpha=0.1, colsample_bytree=0.5, learning_rate=0.1, max_depth=8, n_estimators=100, random_state=100, scale_pos_weight=1;, score=0.772 total time=  18.5s\n",
      "[CV 3/5] END alpha=0.1, colsample_bytree=0.5, learning_rate=0.1, max_depth=8, n_estimators=100, random_state=100, scale_pos_weight=1;, score=0.775 total time=  18.9s\n",
      "[CV 4/5] END alpha=0.1, colsample_bytree=0.5, learning_rate=0.1, max_depth=8, n_estimators=100, random_state=100, scale_pos_weight=1;, score=0.773 total time=  18.6s\n",
      "[CV 5/5] END alpha=0.1, colsample_bytree=0.5, learning_rate=0.1, max_depth=8, n_estimators=100, random_state=100, scale_pos_weight=1;, score=0.772 total time=  18.6s\n",
      "[CV 1/5] END alpha=0, colsample_bytree=0.5, learning_rate=0.1, max_depth=5, n_estimators=125, random_state=100, scale_pos_weight=11;, score=0.655 total time=  14.3s\n",
      "[CV 2/5] END alpha=0, colsample_bytree=0.5, learning_rate=0.1, max_depth=5, n_estimators=125, random_state=100, scale_pos_weight=11;, score=0.648 total time=  14.6s\n",
      "[CV 3/5] END alpha=0, colsample_bytree=0.5, learning_rate=0.1, max_depth=5, n_estimators=125, random_state=100, scale_pos_weight=11;, score=0.650 total time=  14.4s\n",
      "[CV 4/5] END alpha=0, colsample_bytree=0.5, learning_rate=0.1, max_depth=5, n_estimators=125, random_state=100, scale_pos_weight=11;, score=0.651 total time=  14.4s\n",
      "[CV 5/5] END alpha=0, colsample_bytree=0.5, learning_rate=0.1, max_depth=5, n_estimators=125, random_state=100, scale_pos_weight=11;, score=0.641 total time=  14.6s\n",
      "[CV 1/5] END alpha=10, colsample_bytree=0.25, learning_rate=0.1, max_depth=6, n_estimators=75, random_state=100, scale_pos_weight=1;, score=0.697 total time=   6.1s\n",
      "[CV 2/5] END alpha=10, colsample_bytree=0.25, learning_rate=0.1, max_depth=6, n_estimators=75, random_state=100, scale_pos_weight=1;, score=0.717 total time=   6.1s\n",
      "[CV 3/5] END alpha=10, colsample_bytree=0.25, learning_rate=0.1, max_depth=6, n_estimators=75, random_state=100, scale_pos_weight=1;, score=0.715 total time=   6.0s\n",
      "[CV 4/5] END alpha=10, colsample_bytree=0.25, learning_rate=0.1, max_depth=6, n_estimators=75, random_state=100, scale_pos_weight=1;, score=0.706 total time=   6.1s\n",
      "[CV 5/5] END alpha=10, colsample_bytree=0.25, learning_rate=0.1, max_depth=6, n_estimators=75, random_state=100, scale_pos_weight=1;, score=0.721 total time=   6.1s\n",
      "[CV 1/5] END alpha=0, colsample_bytree=0.5, learning_rate=0.05, max_depth=9, n_estimators=125, random_state=100, scale_pos_weight=6;, score=0.777 total time=  26.5s\n",
      "[CV 2/5] END alpha=0, colsample_bytree=0.5, learning_rate=0.05, max_depth=9, n_estimators=125, random_state=100, scale_pos_weight=6;, score=0.780 total time=  26.6s\n",
      "[CV 3/5] END alpha=0, colsample_bytree=0.5, learning_rate=0.05, max_depth=9, n_estimators=125, random_state=100, scale_pos_weight=6;, score=0.776 total time=  26.6s\n",
      "[CV 4/5] END alpha=0, colsample_bytree=0.5, learning_rate=0.05, max_depth=9, n_estimators=125, random_state=100, scale_pos_weight=6;, score=0.780 total time=  26.9s\n",
      "[CV 5/5] END alpha=0, colsample_bytree=0.5, learning_rate=0.05, max_depth=9, n_estimators=125, random_state=100, scale_pos_weight=6;, score=0.771 total time=  27.0s\n",
      "[CV 1/5] END alpha=0, colsample_bytree=0.5, learning_rate=0.05, max_depth=7, n_estimators=125, random_state=100, scale_pos_weight=6;, score=0.747 total time=  20.3s\n",
      "[CV 2/5] END alpha=0, colsample_bytree=0.5, learning_rate=0.05, max_depth=7, n_estimators=125, random_state=100, scale_pos_weight=6;, score=0.745 total time=  20.3s\n",
      "[CV 3/5] END alpha=0, colsample_bytree=0.5, learning_rate=0.05, max_depth=7, n_estimators=125, random_state=100, scale_pos_weight=6;, score=0.742 total time=  20.3s\n",
      "[CV 4/5] END alpha=0, colsample_bytree=0.5, learning_rate=0.05, max_depth=7, n_estimators=125, random_state=100, scale_pos_weight=6;, score=0.744 total time=  20.4s\n",
      "[CV 5/5] END alpha=0, colsample_bytree=0.5, learning_rate=0.05, max_depth=7, n_estimators=125, random_state=100, scale_pos_weight=6;, score=0.742 total time=  20.4s\n",
      "[CV 1/5] END alpha=0, colsample_bytree=0.75, learning_rate=0.2, max_depth=8, n_estimators=100, random_state=100, scale_pos_weight=11;, score=0.760 total time=  26.0s\n",
      "[CV 2/5] END alpha=0, colsample_bytree=0.75, learning_rate=0.2, max_depth=8, n_estimators=100, random_state=100, scale_pos_weight=11;, score=0.767 total time=  25.9s\n",
      "[CV 3/5] END alpha=0, colsample_bytree=0.75, learning_rate=0.2, max_depth=8, n_estimators=100, random_state=100, scale_pos_weight=11;, score=0.758 total time=  25.9s\n",
      "[CV 4/5] END alpha=0, colsample_bytree=0.75, learning_rate=0.2, max_depth=8, n_estimators=100, random_state=100, scale_pos_weight=11;, score=0.771 total time=  26.0s\n",
      "[CV 5/5] END alpha=0, colsample_bytree=0.75, learning_rate=0.2, max_depth=8, n_estimators=100, random_state=100, scale_pos_weight=11;, score=0.749 total time=  26.1s\n",
      "[CV 1/5] END alpha=10, colsample_bytree=0.5, learning_rate=0.05, max_depth=5, n_estimators=125, random_state=100, scale_pos_weight=11;, score=0.618 total time=  14.6s\n",
      "[CV 2/5] END alpha=10, colsample_bytree=0.5, learning_rate=0.05, max_depth=5, n_estimators=125, random_state=100, scale_pos_weight=11;, score=0.618 total time=  14.4s\n",
      "[CV 3/5] END alpha=10, colsample_bytree=0.5, learning_rate=0.05, max_depth=5, n_estimators=125, random_state=100, scale_pos_weight=11;, score=0.610 total time=  14.4s\n",
      "[CV 4/5] END alpha=10, colsample_bytree=0.5, learning_rate=0.05, max_depth=5, n_estimators=125, random_state=100, scale_pos_weight=11;, score=0.613 total time=  14.4s\n",
      "[CV 5/5] END alpha=10, colsample_bytree=0.5, learning_rate=0.05, max_depth=5, n_estimators=125, random_state=100, scale_pos_weight=11;, score=0.608 total time=  14.4s\n",
      "[CV 1/5] END alpha=0.1, colsample_bytree=0.5, learning_rate=0.05, max_depth=6, n_estimators=100, random_state=100, scale_pos_weight=11;, score=0.643 total time=  14.5s\n",
      "[CV 2/5] END alpha=0.1, colsample_bytree=0.5, learning_rate=0.05, max_depth=6, n_estimators=100, random_state=100, scale_pos_weight=11;, score=0.648 total time=  13.9s\n",
      "[CV 3/5] END alpha=0.1, colsample_bytree=0.5, learning_rate=0.05, max_depth=6, n_estimators=100, random_state=100, scale_pos_weight=11;, score=0.637 total time=  13.9s\n",
      "[CV 4/5] END alpha=0.1, colsample_bytree=0.5, learning_rate=0.05, max_depth=6, n_estimators=100, random_state=100, scale_pos_weight=11;, score=0.651 total time=  13.9s\n",
      "[CV 5/5] END alpha=0.1, colsample_bytree=0.5, learning_rate=0.05, max_depth=6, n_estimators=100, random_state=100, scale_pos_weight=11;, score=0.637 total time=  13.9s\n",
      "[CV 1/5] END alpha=10, colsample_bytree=0.75, learning_rate=0.05, max_depth=9, n_estimators=75, random_state=100, scale_pos_weight=1;, score=0.712 total time=  22.3s\n",
      "[CV 2/5] END alpha=10, colsample_bytree=0.75, learning_rate=0.05, max_depth=9, n_estimators=75, random_state=100, scale_pos_weight=1;, score=0.726 total time=  22.4s\n",
      "[CV 3/5] END alpha=10, colsample_bytree=0.75, learning_rate=0.05, max_depth=9, n_estimators=75, random_state=100, scale_pos_weight=1;, score=0.723 total time=  22.3s\n",
      "[CV 4/5] END alpha=10, colsample_bytree=0.75, learning_rate=0.05, max_depth=9, n_estimators=75, random_state=100, scale_pos_weight=1;, score=0.711 total time=  22.4s\n",
      "[CV 5/5] END alpha=10, colsample_bytree=0.75, learning_rate=0.05, max_depth=9, n_estimators=75, random_state=100, scale_pos_weight=1;, score=0.729 total time=  22.4s\n",
      "[CV 1/5] END alpha=1, colsample_bytree=0.75, learning_rate=0.05, max_depth=5, n_estimators=100, random_state=100, scale_pos_weight=1;, score=0.689 total time=  16.3s\n",
      "[CV 2/5] END alpha=1, colsample_bytree=0.75, learning_rate=0.05, max_depth=5, n_estimators=100, random_state=100, scale_pos_weight=1;, score=0.707 total time=  16.3s\n",
      "[CV 3/5] END alpha=1, colsample_bytree=0.75, learning_rate=0.05, max_depth=5, n_estimators=100, random_state=100, scale_pos_weight=1;, score=0.706 total time=  16.4s\n",
      "[CV 4/5] END alpha=1, colsample_bytree=0.75, learning_rate=0.05, max_depth=5, n_estimators=100, random_state=100, scale_pos_weight=1;, score=0.693 total time=  16.6s\n",
      "[CV 5/5] END alpha=1, colsample_bytree=0.75, learning_rate=0.05, max_depth=5, n_estimators=100, random_state=100, scale_pos_weight=1;, score=0.709 total time=  16.4s\n",
      "[CV 1/5] END alpha=0, colsample_bytree=0.5, learning_rate=0.1, max_depth=9, n_estimators=75, random_state=100, scale_pos_weight=11;, score=0.744 total time=  16.0s\n",
      "[CV 2/5] END alpha=0, colsample_bytree=0.5, learning_rate=0.1, max_depth=9, n_estimators=75, random_state=100, scale_pos_weight=11;, score=0.743 total time=  16.0s\n",
      "[CV 3/5] END alpha=0, colsample_bytree=0.5, learning_rate=0.1, max_depth=9, n_estimators=75, random_state=100, scale_pos_weight=11;, score=0.732 total time=  16.1s\n",
      "[CV 4/5] END alpha=0, colsample_bytree=0.5, learning_rate=0.1, max_depth=9, n_estimators=75, random_state=100, scale_pos_weight=11;, score=0.741 total time=  16.2s\n",
      "[CV 5/5] END alpha=0, colsample_bytree=0.5, learning_rate=0.1, max_depth=9, n_estimators=75, random_state=100, scale_pos_weight=11;, score=0.735 total time=  16.0s\n",
      "[CV 1/5] END alpha=0.1, colsample_bytree=0.25, learning_rate=0.1, max_depth=6, n_estimators=75, random_state=100, scale_pos_weight=11;, score=0.655 total time=   6.2s\n",
      "[CV 2/5] END alpha=0.1, colsample_bytree=0.25, learning_rate=0.1, max_depth=6, n_estimators=75, random_state=100, scale_pos_weight=11;, score=0.659 total time=   6.1s\n",
      "[CV 3/5] END alpha=0.1, colsample_bytree=0.25, learning_rate=0.1, max_depth=6, n_estimators=75, random_state=100, scale_pos_weight=11;, score=0.653 total time=   6.1s\n",
      "[CV 4/5] END alpha=0.1, colsample_bytree=0.25, learning_rate=0.1, max_depth=6, n_estimators=75, random_state=100, scale_pos_weight=11;, score=0.659 total time=   6.1s\n",
      "[CV 5/5] END alpha=0.1, colsample_bytree=0.25, learning_rate=0.1, max_depth=6, n_estimators=75, random_state=100, scale_pos_weight=11;, score=0.645 total time=   6.1s\n",
      "[CV 1/5] END alpha=0, colsample_bytree=0.5, learning_rate=0.05, max_depth=5, n_estimators=125, random_state=100, scale_pos_weight=6;, score=0.705 total time=  14.3s\n",
      "[CV 2/5] END alpha=0, colsample_bytree=0.5, learning_rate=0.05, max_depth=5, n_estimators=125, random_state=100, scale_pos_weight=6;, score=0.706 total time=  14.3s\n",
      "[CV 3/5] END alpha=0, colsample_bytree=0.5, learning_rate=0.05, max_depth=5, n_estimators=125, random_state=100, scale_pos_weight=6;, score=0.695 total time=  14.3s\n",
      "[CV 4/5] END alpha=0, colsample_bytree=0.5, learning_rate=0.05, max_depth=5, n_estimators=125, random_state=100, scale_pos_weight=6;, score=0.697 total time=  14.6s\n",
      "[CV 5/5] END alpha=0, colsample_bytree=0.5, learning_rate=0.05, max_depth=5, n_estimators=125, random_state=100, scale_pos_weight=6;, score=0.699 total time=  14.6s\n",
      "[CV 1/5] END alpha=1, colsample_bytree=0.75, learning_rate=0.1, max_depth=6, n_estimators=75, random_state=100, scale_pos_weight=1;, score=0.728 total time=  15.0s\n",
      "[CV 2/5] END alpha=1, colsample_bytree=0.75, learning_rate=0.1, max_depth=6, n_estimators=75, random_state=100, scale_pos_weight=1;, score=0.739 total time=  14.8s\n",
      "[CV 3/5] END alpha=1, colsample_bytree=0.75, learning_rate=0.1, max_depth=6, n_estimators=75, random_state=100, scale_pos_weight=1;, score=0.734 total time=  14.7s\n",
      "[CV 4/5] END alpha=1, colsample_bytree=0.75, learning_rate=0.1, max_depth=6, n_estimators=75, random_state=100, scale_pos_weight=1;, score=0.722 total time=  14.9s\n",
      "[CV 5/5] END alpha=1, colsample_bytree=0.75, learning_rate=0.1, max_depth=6, n_estimators=75, random_state=100, scale_pos_weight=1;, score=0.740 total time=  14.8s\n",
      "[CV 1/5] END alpha=0, colsample_bytree=0.5, learning_rate=0.05, max_depth=6, n_estimators=100, random_state=100, scale_pos_weight=6;, score=0.718 total time=  13.9s\n",
      "[CV 2/5] END alpha=0, colsample_bytree=0.5, learning_rate=0.05, max_depth=6, n_estimators=100, random_state=100, scale_pos_weight=6;, score=0.720 total time=  13.9s\n",
      "[CV 3/5] END alpha=0, colsample_bytree=0.5, learning_rate=0.05, max_depth=6, n_estimators=100, random_state=100, scale_pos_weight=6;, score=0.710 total time=  14.0s\n",
      "[CV 4/5] END alpha=0, colsample_bytree=0.5, learning_rate=0.05, max_depth=6, n_estimators=100, random_state=100, scale_pos_weight=6;, score=0.713 total time=  14.0s\n",
      "[CV 5/5] END alpha=0, colsample_bytree=0.5, learning_rate=0.05, max_depth=6, n_estimators=100, random_state=100, scale_pos_weight=6;, score=0.715 total time=  13.9s\n",
      "[CV 1/5] END alpha=0.1, colsample_bytree=0.5, learning_rate=0.2, max_depth=5, n_estimators=75, random_state=100, scale_pos_weight=1;, score=0.735 total time=   8.7s\n",
      "[CV 2/5] END alpha=0.1, colsample_bytree=0.5, learning_rate=0.2, max_depth=5, n_estimators=75, random_state=100, scale_pos_weight=1;, score=0.739 total time=   8.7s\n",
      "[CV 3/5] END alpha=0.1, colsample_bytree=0.5, learning_rate=0.2, max_depth=5, n_estimators=75, random_state=100, scale_pos_weight=1;, score=0.737 total time=   8.8s\n",
      "[CV 4/5] END alpha=0.1, colsample_bytree=0.5, learning_rate=0.2, max_depth=5, n_estimators=75, random_state=100, scale_pos_weight=1;, score=0.731 total time=   8.8s\n",
      "[CV 5/5] END alpha=0.1, colsample_bytree=0.5, learning_rate=0.2, max_depth=5, n_estimators=75, random_state=100, scale_pos_weight=1;, score=0.749 total time=   8.8s\n",
      "[CV 1/5] END alpha=0, colsample_bytree=0.75, learning_rate=0.2, max_depth=8, n_estimators=100, random_state=100, scale_pos_weight=1;, score=0.783 total time=  26.1s\n",
      "[CV 2/5] END alpha=0, colsample_bytree=0.75, learning_rate=0.2, max_depth=8, n_estimators=100, random_state=100, scale_pos_weight=1;, score=0.789 total time=  26.0s\n",
      "[CV 3/5] END alpha=0, colsample_bytree=0.75, learning_rate=0.2, max_depth=8, n_estimators=100, random_state=100, scale_pos_weight=1;, score=0.790 total time=  25.8s\n",
      "[CV 4/5] END alpha=0, colsample_bytree=0.75, learning_rate=0.2, max_depth=8, n_estimators=100, random_state=100, scale_pos_weight=1;, score=0.791 total time=  26.1s\n",
      "[CV 5/5] END alpha=0, colsample_bytree=0.75, learning_rate=0.2, max_depth=8, n_estimators=100, random_state=100, scale_pos_weight=1;, score=0.794 total time=  26.1s\n",
      "[CV 1/5] END alpha=10, colsample_bytree=0.5, learning_rate=0.1, max_depth=6, n_estimators=75, random_state=100, scale_pos_weight=1;, score=0.709 total time=  10.5s\n",
      "[CV 2/5] END alpha=10, colsample_bytree=0.5, learning_rate=0.1, max_depth=6, n_estimators=75, random_state=100, scale_pos_weight=1;, score=0.730 total time=  10.5s\n",
      "[CV 3/5] END alpha=10, colsample_bytree=0.5, learning_rate=0.1, max_depth=6, n_estimators=75, random_state=100, scale_pos_weight=1;, score=0.721 total time=  10.5s\n",
      "[CV 4/5] END alpha=10, colsample_bytree=0.5, learning_rate=0.1, max_depth=6, n_estimators=75, random_state=100, scale_pos_weight=1;, score=0.709 total time=  10.7s\n",
      "[CV 5/5] END alpha=10, colsample_bytree=0.5, learning_rate=0.1, max_depth=6, n_estimators=75, random_state=100, scale_pos_weight=1;, score=0.724 total time=  10.6s\n",
      "[CV 1/5] END alpha=0.1, colsample_bytree=0.5, learning_rate=0.05, max_depth=7, n_estimators=125, random_state=100, scale_pos_weight=11;, score=0.690 total time=  20.4s\n",
      "[CV 2/5] END alpha=0.1, colsample_bytree=0.5, learning_rate=0.05, max_depth=7, n_estimators=125, random_state=100, scale_pos_weight=11;, score=0.691 total time=  20.4s\n",
      "[CV 3/5] END alpha=0.1, colsample_bytree=0.5, learning_rate=0.05, max_depth=7, n_estimators=125, random_state=100, scale_pos_weight=11;, score=0.679 total time=  20.3s\n",
      "[CV 4/5] END alpha=0.1, colsample_bytree=0.5, learning_rate=0.05, max_depth=7, n_estimators=125, random_state=100, scale_pos_weight=11;, score=0.692 total time=  20.6s\n",
      "[CV 5/5] END alpha=0.1, colsample_bytree=0.5, learning_rate=0.05, max_depth=7, n_estimators=125, random_state=100, scale_pos_weight=11;, score=0.677 total time=  20.3s\n",
      "[CV 1/5] END alpha=0, colsample_bytree=0.5, learning_rate=0.2, max_depth=7, n_estimators=125, random_state=100, scale_pos_weight=1;, score=0.778 total time=  19.8s\n",
      "[CV 2/5] END alpha=0, colsample_bytree=0.5, learning_rate=0.2, max_depth=7, n_estimators=125, random_state=100, scale_pos_weight=1;, score=0.779 total time=  19.9s\n",
      "[CV 3/5] END alpha=0, colsample_bytree=0.5, learning_rate=0.2, max_depth=7, n_estimators=125, random_state=100, scale_pos_weight=1;, score=0.778 total time=  19.8s\n",
      "[CV 4/5] END alpha=0, colsample_bytree=0.5, learning_rate=0.2, max_depth=7, n_estimators=125, random_state=100, scale_pos_weight=1;, score=0.787 total time=  19.9s\n",
      "[CV 5/5] END alpha=0, colsample_bytree=0.5, learning_rate=0.2, max_depth=7, n_estimators=125, random_state=100, scale_pos_weight=1;, score=0.791 total time=  19.8s\n",
      "[CV 1/5] END alpha=0.1, colsample_bytree=0.25, learning_rate=0.05, max_depth=7, n_estimators=100, random_state=100, scale_pos_weight=6;, score=0.743 total time=   9.7s\n",
      "[CV 2/5] END alpha=0.1, colsample_bytree=0.25, learning_rate=0.05, max_depth=7, n_estimators=100, random_state=100, scale_pos_weight=6;, score=0.742 total time=   9.5s\n",
      "[CV 3/5] END alpha=0.1, colsample_bytree=0.25, learning_rate=0.05, max_depth=7, n_estimators=100, random_state=100, scale_pos_weight=6;, score=0.730 total time=   9.4s\n",
      "[CV 4/5] END alpha=0.1, colsample_bytree=0.25, learning_rate=0.05, max_depth=7, n_estimators=100, random_state=100, scale_pos_weight=6;, score=0.741 total time=   9.5s\n",
      "[CV 5/5] END alpha=0.1, colsample_bytree=0.25, learning_rate=0.05, max_depth=7, n_estimators=100, random_state=100, scale_pos_weight=6;, score=0.734 total time=   9.6s\n",
      "[CV 1/5] END alpha=0, colsample_bytree=0.25, learning_rate=0.05, max_depth=7, n_estimators=100, random_state=100, scale_pos_weight=1;, score=0.708 total time=   9.5s\n",
      "[CV 2/5] END alpha=0, colsample_bytree=0.25, learning_rate=0.05, max_depth=7, n_estimators=100, random_state=100, scale_pos_weight=1;, score=0.721 total time=   9.5s\n",
      "[CV 3/5] END alpha=0, colsample_bytree=0.25, learning_rate=0.05, max_depth=7, n_estimators=100, random_state=100, scale_pos_weight=1;, score=0.720 total time=   9.6s\n",
      "[CV 4/5] END alpha=0, colsample_bytree=0.25, learning_rate=0.05, max_depth=7, n_estimators=100, random_state=100, scale_pos_weight=1;, score=0.708 total time=   9.5s\n",
      "[CV 5/5] END alpha=0, colsample_bytree=0.25, learning_rate=0.05, max_depth=7, n_estimators=100, random_state=100, scale_pos_weight=1;, score=0.723 total time=   9.5s\n",
      "[CV 1/5] END alpha=0.1, colsample_bytree=0.75, learning_rate=0.05, max_depth=5, n_estimators=125, random_state=100, scale_pos_weight=11;, score=0.624 total time=  20.5s\n",
      "[CV 2/5] END alpha=0.1, colsample_bytree=0.75, learning_rate=0.05, max_depth=5, n_estimators=125, random_state=100, scale_pos_weight=11;, score=0.627 total time=  20.4s\n",
      "[CV 3/5] END alpha=0.1, colsample_bytree=0.75, learning_rate=0.05, max_depth=5, n_estimators=125, random_state=100, scale_pos_weight=11;, score=0.613 total time=  20.4s\n",
      "[CV 4/5] END alpha=0.1, colsample_bytree=0.75, learning_rate=0.05, max_depth=5, n_estimators=125, random_state=100, scale_pos_weight=11;, score=0.626 total time=  20.4s\n",
      "[CV 5/5] END alpha=0.1, colsample_bytree=0.75, learning_rate=0.05, max_depth=5, n_estimators=125, random_state=100, scale_pos_weight=11;, score=0.615 total time=  20.5s\n",
      "[CV 1/5] END alpha=1, colsample_bytree=0.5, learning_rate=0.1, max_depth=5, n_estimators=125, random_state=100, scale_pos_weight=11;, score=0.654 total time=  14.3s\n",
      "[CV 2/5] END alpha=1, colsample_bytree=0.5, learning_rate=0.1, max_depth=5, n_estimators=125, random_state=100, scale_pos_weight=11;, score=0.654 total time=  14.4s\n",
      "[CV 3/5] END alpha=1, colsample_bytree=0.5, learning_rate=0.1, max_depth=5, n_estimators=125, random_state=100, scale_pos_weight=11;, score=0.648 total time=  14.2s\n",
      "[CV 4/5] END alpha=1, colsample_bytree=0.5, learning_rate=0.1, max_depth=5, n_estimators=125, random_state=100, scale_pos_weight=11;, score=0.652 total time=  14.2s\n",
      "[CV 5/5] END alpha=1, colsample_bytree=0.5, learning_rate=0.1, max_depth=5, n_estimators=125, random_state=100, scale_pos_weight=11;, score=0.639 total time=  14.3s\n",
      "[CV 1/5] END alpha=10, colsample_bytree=0.75, learning_rate=0.05, max_depth=9, n_estimators=100, random_state=100, scale_pos_weight=6;, score=0.746 total time=  30.2s\n",
      "[CV 2/5] END alpha=10, colsample_bytree=0.75, learning_rate=0.05, max_depth=9, n_estimators=100, random_state=100, scale_pos_weight=6;, score=0.751 total time=  30.3s\n",
      "[CV 3/5] END alpha=10, colsample_bytree=0.75, learning_rate=0.05, max_depth=9, n_estimators=100, random_state=100, scale_pos_weight=6;, score=0.749 total time=  30.2s\n",
      "[CV 4/5] END alpha=10, colsample_bytree=0.75, learning_rate=0.05, max_depth=9, n_estimators=100, random_state=100, scale_pos_weight=6;, score=0.750 total time=  30.5s\n",
      "[CV 5/5] END alpha=10, colsample_bytree=0.75, learning_rate=0.05, max_depth=9, n_estimators=100, random_state=100, scale_pos_weight=6;, score=0.748 total time=  30.4s\n",
      "[CV 1/5] END alpha=1, colsample_bytree=0.75, learning_rate=0.1, max_depth=6, n_estimators=100, random_state=100, scale_pos_weight=1;, score=0.736 total time=  19.6s\n",
      "[CV 2/5] END alpha=1, colsample_bytree=0.75, learning_rate=0.1, max_depth=6, n_estimators=100, random_state=100, scale_pos_weight=1;, score=0.747 total time=  19.5s\n",
      "[CV 3/5] END alpha=1, colsample_bytree=0.75, learning_rate=0.1, max_depth=6, n_estimators=100, random_state=100, scale_pos_weight=1;, score=0.746 total time=  19.5s\n",
      "[CV 4/5] END alpha=1, colsample_bytree=0.75, learning_rate=0.1, max_depth=6, n_estimators=100, random_state=100, scale_pos_weight=1;, score=0.733 total time=  19.5s\n",
      "[CV 5/5] END alpha=1, colsample_bytree=0.75, learning_rate=0.1, max_depth=6, n_estimators=100, random_state=100, scale_pos_weight=1;, score=0.750 total time=  19.6s\n",
      "[CV 1/5] END alpha=0.1, colsample_bytree=0.5, learning_rate=0.2, max_depth=9, n_estimators=100, random_state=100, scale_pos_weight=6;, score=0.794 total time=  20.9s\n",
      "[CV 2/5] END alpha=0.1, colsample_bytree=0.5, learning_rate=0.2, max_depth=9, n_estimators=100, random_state=100, scale_pos_weight=6;, score=0.808 total time=  20.7s\n",
      "[CV 3/5] END alpha=0.1, colsample_bytree=0.5, learning_rate=0.2, max_depth=9, n_estimators=100, random_state=100, scale_pos_weight=6;, score=0.795 total time=  20.9s\n",
      "[CV 4/5] END alpha=0.1, colsample_bytree=0.5, learning_rate=0.2, max_depth=9, n_estimators=100, random_state=100, scale_pos_weight=6;, score=0.800 total time=  20.8s\n",
      "[CV 5/5] END alpha=0.1, colsample_bytree=0.5, learning_rate=0.2, max_depth=9, n_estimators=100, random_state=100, scale_pos_weight=6;, score=0.787 total time=  20.8s\n",
      "[CV 1/5] END alpha=0.1, colsample_bytree=0.25, learning_rate=0.1, max_depth=7, n_estimators=75, random_state=100, scale_pos_weight=11;, score=0.682 total time=   7.3s\n",
      "[CV 2/5] END alpha=0.1, colsample_bytree=0.25, learning_rate=0.1, max_depth=7, n_estimators=75, random_state=100, scale_pos_weight=11;, score=0.691 total time=   7.1s\n",
      "[CV 3/5] END alpha=0.1, colsample_bytree=0.25, learning_rate=0.1, max_depth=7, n_estimators=75, random_state=100, scale_pos_weight=11;, score=0.681 total time=   7.2s\n",
      "[CV 4/5] END alpha=0.1, colsample_bytree=0.25, learning_rate=0.1, max_depth=7, n_estimators=75, random_state=100, scale_pos_weight=11;, score=0.687 total time=   7.2s\n",
      "[CV 5/5] END alpha=0.1, colsample_bytree=0.25, learning_rate=0.1, max_depth=7, n_estimators=75, random_state=100, scale_pos_weight=11;, score=0.678 total time=   7.1s\n",
      "[CV 1/5] END alpha=1, colsample_bytree=0.25, learning_rate=0.05, max_depth=8, n_estimators=75, random_state=100, scale_pos_weight=6;, score=0.741 total time=   8.3s\n",
      "[CV 2/5] END alpha=1, colsample_bytree=0.25, learning_rate=0.05, max_depth=8, n_estimators=75, random_state=100, scale_pos_weight=6;, score=0.745 total time=   8.3s\n",
      "[CV 3/5] END alpha=1, colsample_bytree=0.25, learning_rate=0.05, max_depth=8, n_estimators=75, random_state=100, scale_pos_weight=6;, score=0.736 total time=   8.4s\n",
      "[CV 4/5] END alpha=1, colsample_bytree=0.25, learning_rate=0.05, max_depth=8, n_estimators=75, random_state=100, scale_pos_weight=6;, score=0.743 total time=   8.3s\n",
      "[CV 5/5] END alpha=1, colsample_bytree=0.25, learning_rate=0.05, max_depth=8, n_estimators=75, random_state=100, scale_pos_weight=6;, score=0.738 total time=   8.3s\n",
      "[CV 1/5] END alpha=0, colsample_bytree=0.75, learning_rate=0.1, max_depth=7, n_estimators=75, random_state=100, scale_pos_weight=1;, score=0.745 total time=  17.3s\n",
      "[CV 2/5] END alpha=0, colsample_bytree=0.75, learning_rate=0.1, max_depth=7, n_estimators=75, random_state=100, scale_pos_weight=1;, score=0.749 total time=  17.3s\n",
      "[CV 3/5] END alpha=0, colsample_bytree=0.75, learning_rate=0.1, max_depth=7, n_estimators=75, random_state=100, scale_pos_weight=1;, score=0.751 total time=  17.2s\n",
      "[CV 4/5] END alpha=0, colsample_bytree=0.75, learning_rate=0.1, max_depth=7, n_estimators=75, random_state=100, scale_pos_weight=1;, score=0.747 total time=  17.3s\n",
      "[CV 5/5] END alpha=0, colsample_bytree=0.75, learning_rate=0.1, max_depth=7, n_estimators=75, random_state=100, scale_pos_weight=1;, score=0.758 total time=  17.4s\n",
      "[CV 1/5] END alpha=0.1, colsample_bytree=0.25, learning_rate=0.2, max_depth=8, n_estimators=75, random_state=100, scale_pos_weight=11;, score=0.742 total time=   8.0s\n",
      "[CV 2/5] END alpha=0.1, colsample_bytree=0.25, learning_rate=0.2, max_depth=8, n_estimators=75, random_state=100, scale_pos_weight=11;, score=0.748 total time=   8.1s\n",
      "[CV 3/5] END alpha=0.1, colsample_bytree=0.25, learning_rate=0.2, max_depth=8, n_estimators=75, random_state=100, scale_pos_weight=11;, score=0.727 total time=   8.1s\n",
      "[CV 4/5] END alpha=0.1, colsample_bytree=0.25, learning_rate=0.2, max_depth=8, n_estimators=75, random_state=100, scale_pos_weight=11;, score=0.751 total time=   8.1s\n",
      "[CV 5/5] END alpha=0.1, colsample_bytree=0.25, learning_rate=0.2, max_depth=8, n_estimators=75, random_state=100, scale_pos_weight=11;, score=0.736 total time=   8.1s\n",
      "[CV 1/5] END alpha=0.1, colsample_bytree=0.5, learning_rate=0.05, max_depth=6, n_estimators=75, random_state=100, scale_pos_weight=11;, score=0.628 total time=  10.7s\n",
      "[CV 2/5] END alpha=0.1, colsample_bytree=0.5, learning_rate=0.05, max_depth=6, n_estimators=75, random_state=100, scale_pos_weight=11;, score=0.633 total time=  10.6s\n",
      "[CV 3/5] END alpha=0.1, colsample_bytree=0.5, learning_rate=0.05, max_depth=6, n_estimators=75, random_state=100, scale_pos_weight=11;, score=0.622 total time=  10.7s\n",
      "[CV 4/5] END alpha=0.1, colsample_bytree=0.5, learning_rate=0.05, max_depth=6, n_estimators=75, random_state=100, scale_pos_weight=11;, score=0.635 total time=  10.7s\n",
      "[CV 5/5] END alpha=0.1, colsample_bytree=0.5, learning_rate=0.05, max_depth=6, n_estimators=75, random_state=100, scale_pos_weight=11;, score=0.623 total time=  10.5s\n",
      "[CV 1/5] END alpha=0, colsample_bytree=0.5, learning_rate=0.2, max_depth=5, n_estimators=100, random_state=100, scale_pos_weight=11;, score=0.663 total time=  11.4s\n",
      "[CV 2/5] END alpha=0, colsample_bytree=0.5, learning_rate=0.2, max_depth=5, n_estimators=100, random_state=100, scale_pos_weight=11;, score=0.669 total time=  11.4s\n",
      "[CV 3/5] END alpha=0, colsample_bytree=0.5, learning_rate=0.2, max_depth=5, n_estimators=100, random_state=100, scale_pos_weight=11;, score=0.664 total time=  11.4s\n",
      "[CV 4/5] END alpha=0, colsample_bytree=0.5, learning_rate=0.2, max_depth=5, n_estimators=100, random_state=100, scale_pos_weight=11;, score=0.677 total time=  11.5s\n",
      "[CV 5/5] END alpha=0, colsample_bytree=0.5, learning_rate=0.2, max_depth=5, n_estimators=100, random_state=100, scale_pos_weight=11;, score=0.665 total time=  11.6s\n",
      "[CV 1/5] END alpha=1, colsample_bytree=0.5, learning_rate=0.1, max_depth=6, n_estimators=100, random_state=100, scale_pos_weight=1;, score=0.735 total time=  13.7s\n",
      "[CV 2/5] END alpha=1, colsample_bytree=0.5, learning_rate=0.1, max_depth=6, n_estimators=100, random_state=100, scale_pos_weight=1;, score=0.743 total time=  13.7s\n",
      "[CV 3/5] END alpha=1, colsample_bytree=0.5, learning_rate=0.1, max_depth=6, n_estimators=100, random_state=100, scale_pos_weight=1;, score=0.743 total time=  13.8s\n",
      "[CV 4/5] END alpha=1, colsample_bytree=0.5, learning_rate=0.1, max_depth=6, n_estimators=100, random_state=100, scale_pos_weight=1;, score=0.737 total time=  13.9s\n",
      "[CV 5/5] END alpha=1, colsample_bytree=0.5, learning_rate=0.1, max_depth=6, n_estimators=100, random_state=100, scale_pos_weight=1;, score=0.745 total time=  13.8s\n",
      "[CV 1/5] END alpha=0, colsample_bytree=0.25, learning_rate=0.05, max_depth=6, n_estimators=75, random_state=100, scale_pos_weight=11;, score=0.629 total time=   6.1s\n",
      "[CV 2/5] END alpha=0, colsample_bytree=0.25, learning_rate=0.05, max_depth=6, n_estimators=75, random_state=100, scale_pos_weight=11;, score=0.633 total time=   6.1s\n",
      "[CV 3/5] END alpha=0, colsample_bytree=0.25, learning_rate=0.05, max_depth=6, n_estimators=75, random_state=100, scale_pos_weight=11;, score=0.624 total time=   6.1s\n",
      "[CV 4/5] END alpha=0, colsample_bytree=0.25, learning_rate=0.05, max_depth=6, n_estimators=75, random_state=100, scale_pos_weight=11;, score=0.629 total time=   6.2s\n",
      "[CV 5/5] END alpha=0, colsample_bytree=0.25, learning_rate=0.05, max_depth=6, n_estimators=75, random_state=100, scale_pos_weight=11;, score=0.629 total time=   6.2s\n",
      "[CV 1/5] END alpha=0, colsample_bytree=0.75, learning_rate=0.2, max_depth=9, n_estimators=100, random_state=100, scale_pos_weight=11;, score=0.777 total time=  29.4s\n",
      "[CV 2/5] END alpha=0, colsample_bytree=0.75, learning_rate=0.2, max_depth=9, n_estimators=100, random_state=100, scale_pos_weight=11;, score=0.782 total time=  29.7s\n",
      "[CV 3/5] END alpha=0, colsample_bytree=0.75, learning_rate=0.2, max_depth=9, n_estimators=100, random_state=100, scale_pos_weight=11;, score=0.770 total time=  29.6s\n",
      "[CV 4/5] END alpha=0, colsample_bytree=0.75, learning_rate=0.2, max_depth=9, n_estimators=100, random_state=100, scale_pos_weight=11;, score=0.793 total time=  29.4s\n",
      "[CV 5/5] END alpha=0, colsample_bytree=0.75, learning_rate=0.2, max_depth=9, n_estimators=100, random_state=100, scale_pos_weight=11;, score=0.778 total time=  29.5s\n",
      "[CV 1/5] END alpha=1, colsample_bytree=0.25, learning_rate=0.1, max_depth=8, n_estimators=125, random_state=100, scale_pos_weight=1;, score=0.763 total time=  13.4s\n",
      "[CV 2/5] END alpha=1, colsample_bytree=0.25, learning_rate=0.1, max_depth=8, n_estimators=125, random_state=100, scale_pos_weight=1;, score=0.769 total time=  13.3s\n",
      "[CV 3/5] END alpha=1, colsample_bytree=0.25, learning_rate=0.1, max_depth=8, n_estimators=125, random_state=100, scale_pos_weight=1;, score=0.768 total time=  13.3s\n",
      "[CV 4/5] END alpha=1, colsample_bytree=0.25, learning_rate=0.1, max_depth=8, n_estimators=125, random_state=100, scale_pos_weight=1;, score=0.772 total time=  13.4s\n",
      "[CV 5/5] END alpha=1, colsample_bytree=0.25, learning_rate=0.1, max_depth=8, n_estimators=125, random_state=100, scale_pos_weight=1;, score=0.776 total time=  13.3s\n",
      "[CV 1/5] END alpha=0.1, colsample_bytree=0.25, learning_rate=0.1, max_depth=5, n_estimators=125, random_state=100, scale_pos_weight=1;, score=0.725 total time=   8.3s\n",
      "[CV 2/5] END alpha=0.1, colsample_bytree=0.25, learning_rate=0.1, max_depth=5, n_estimators=125, random_state=100, scale_pos_weight=1;, score=0.734 total time=   8.4s\n",
      "[CV 3/5] END alpha=0.1, colsample_bytree=0.25, learning_rate=0.1, max_depth=5, n_estimators=125, random_state=100, scale_pos_weight=1;, score=0.733 total time=   8.4s\n",
      "[CV 4/5] END alpha=0.1, colsample_bytree=0.25, learning_rate=0.1, max_depth=5, n_estimators=125, random_state=100, scale_pos_weight=1;, score=0.727 total time=   8.5s\n",
      "[CV 5/5] END alpha=0.1, colsample_bytree=0.25, learning_rate=0.1, max_depth=5, n_estimators=125, random_state=100, scale_pos_weight=1;, score=0.738 total time=   8.6s\n",
      "[CV 1/5] END alpha=1, colsample_bytree=0.75, learning_rate=0.1, max_depth=5, n_estimators=100, random_state=100, scale_pos_weight=6;, score=0.712 total time=  16.4s\n",
      "[CV 2/5] END alpha=1, colsample_bytree=0.75, learning_rate=0.1, max_depth=5, n_estimators=100, random_state=100, scale_pos_weight=6;, score=0.710 total time=  16.7s\n",
      "[CV 3/5] END alpha=1, colsample_bytree=0.75, learning_rate=0.1, max_depth=5, n_estimators=100, random_state=100, scale_pos_weight=6;, score=0.708 total time=  16.5s\n",
      "[CV 4/5] END alpha=1, colsample_bytree=0.75, learning_rate=0.1, max_depth=5, n_estimators=100, random_state=100, scale_pos_weight=6;, score=0.713 total time=  16.4s\n",
      "[CV 5/5] END alpha=1, colsample_bytree=0.75, learning_rate=0.1, max_depth=5, n_estimators=100, random_state=100, scale_pos_weight=6;, score=0.708 total time=  16.5s\n",
      "[CV 1/5] END alpha=1, colsample_bytree=0.25, learning_rate=0.1, max_depth=6, n_estimators=125, random_state=100, scale_pos_weight=11;, score=0.682 total time=  10.0s\n",
      "[CV 2/5] END alpha=1, colsample_bytree=0.25, learning_rate=0.1, max_depth=6, n_estimators=125, random_state=100, scale_pos_weight=11;, score=0.690 total time=  10.0s\n",
      "[CV 3/5] END alpha=1, colsample_bytree=0.25, learning_rate=0.1, max_depth=6, n_estimators=125, random_state=100, scale_pos_weight=11;, score=0.676 total time=  10.0s\n",
      "[CV 4/5] END alpha=1, colsample_bytree=0.25, learning_rate=0.1, max_depth=6, n_estimators=125, random_state=100, scale_pos_weight=11;, score=0.687 total time=  10.1s\n",
      "[CV 5/5] END alpha=1, colsample_bytree=0.25, learning_rate=0.1, max_depth=6, n_estimators=125, random_state=100, scale_pos_weight=11;, score=0.671 total time=  10.0s\n",
      "[CV 1/5] END alpha=0, colsample_bytree=0.75, learning_rate=0.05, max_depth=7, n_estimators=75, random_state=100, scale_pos_weight=11;, score=0.664 total time=  17.5s\n",
      "[CV 2/5] END alpha=0, colsample_bytree=0.75, learning_rate=0.05, max_depth=7, n_estimators=75, random_state=100, scale_pos_weight=11;, score=0.668 total time=  17.6s\n",
      "[CV 3/5] END alpha=0, colsample_bytree=0.75, learning_rate=0.05, max_depth=7, n_estimators=75, random_state=100, scale_pos_weight=11;, score=0.653 total time=  17.5s\n",
      "[CV 4/5] END alpha=0, colsample_bytree=0.75, learning_rate=0.05, max_depth=7, n_estimators=75, random_state=100, scale_pos_weight=11;, score=0.667 total time=  17.6s\n",
      "[CV 5/5] END alpha=0, colsample_bytree=0.75, learning_rate=0.05, max_depth=7, n_estimators=75, random_state=100, scale_pos_weight=11;, score=0.655 total time=  17.6s\n",
      "[CV 1/5] END alpha=0.1, colsample_bytree=0.75, learning_rate=0.05, max_depth=7, n_estimators=75, random_state=100, scale_pos_weight=11;, score=0.666 total time=  17.7s\n",
      "[CV 2/5] END alpha=0.1, colsample_bytree=0.75, learning_rate=0.05, max_depth=7, n_estimators=75, random_state=100, scale_pos_weight=11;, score=0.671 total time=  17.7s\n",
      "[CV 3/5] END alpha=0.1, colsample_bytree=0.75, learning_rate=0.05, max_depth=7, n_estimators=75, random_state=100, scale_pos_weight=11;, score=0.657 total time=  17.9s\n",
      "[CV 4/5] END alpha=0.1, colsample_bytree=0.75, learning_rate=0.05, max_depth=7, n_estimators=75, random_state=100, scale_pos_weight=11;, score=0.666 total time=  17.7s\n",
      "[CV 5/5] END alpha=0.1, colsample_bytree=0.75, learning_rate=0.05, max_depth=7, n_estimators=75, random_state=100, scale_pos_weight=11;, score=0.655 total time=  17.6s\n",
      "[CV 1/5] END alpha=10, colsample_bytree=0.75, learning_rate=0.1, max_depth=8, n_estimators=75, random_state=100, scale_pos_weight=11;, score=0.694 total time=  20.0s\n",
      "[CV 2/5] END alpha=10, colsample_bytree=0.75, learning_rate=0.1, max_depth=8, n_estimators=75, random_state=100, scale_pos_weight=11;, score=0.708 total time=  20.2s\n",
      "[CV 3/5] END alpha=10, colsample_bytree=0.75, learning_rate=0.1, max_depth=8, n_estimators=75, random_state=100, scale_pos_weight=11;, score=0.693 total time=  20.4s\n",
      "[CV 4/5] END alpha=10, colsample_bytree=0.75, learning_rate=0.1, max_depth=8, n_estimators=75, random_state=100, scale_pos_weight=11;, score=0.703 total time=  20.4s\n",
      "[CV 5/5] END alpha=10, colsample_bytree=0.75, learning_rate=0.1, max_depth=8, n_estimators=75, random_state=100, scale_pos_weight=11;, score=0.686 total time=  20.4s\n",
      "[CV 1/5] END alpha=1, colsample_bytree=0.75, learning_rate=0.1, max_depth=8, n_estimators=100, random_state=100, scale_pos_weight=11;, score=0.722 total time=  26.9s\n",
      "[CV 2/5] END alpha=1, colsample_bytree=0.75, learning_rate=0.1, max_depth=8, n_estimators=100, random_state=100, scale_pos_weight=11;, score=0.733 total time=  26.8s\n",
      "[CV 3/5] END alpha=1, colsample_bytree=0.75, learning_rate=0.1, max_depth=8, n_estimators=100, random_state=100, scale_pos_weight=11;, score=0.718 total time=  26.7s\n",
      "[CV 4/5] END alpha=1, colsample_bytree=0.75, learning_rate=0.1, max_depth=8, n_estimators=100, random_state=100, scale_pos_weight=11;, score=0.730 total time=  26.9s\n",
      "[CV 5/5] END alpha=1, colsample_bytree=0.75, learning_rate=0.1, max_depth=8, n_estimators=100, random_state=100, scale_pos_weight=11;, score=0.722 total time=  26.9s\n",
      "[CV 1/5] END alpha=10, colsample_bytree=0.25, learning_rate=0.2, max_depth=5, n_estimators=125, random_state=100, scale_pos_weight=6;, score=0.731 total time=   8.5s\n",
      "[CV 2/5] END alpha=10, colsample_bytree=0.25, learning_rate=0.2, max_depth=5, n_estimators=125, random_state=100, scale_pos_weight=6;, score=0.731 total time=   8.4s\n",
      "[CV 3/5] END alpha=10, colsample_bytree=0.25, learning_rate=0.2, max_depth=5, n_estimators=125, random_state=100, scale_pos_weight=6;, score=0.723 total time=   8.3s\n",
      "[CV 4/5] END alpha=10, colsample_bytree=0.25, learning_rate=0.2, max_depth=5, n_estimators=125, random_state=100, scale_pos_weight=6;, score=0.731 total time=   8.4s\n",
      "[CV 5/5] END alpha=10, colsample_bytree=0.25, learning_rate=0.2, max_depth=5, n_estimators=125, random_state=100, scale_pos_weight=6;, score=0.723 total time=   8.3s\n",
      "[CV 1/5] END alpha=1, colsample_bytree=0.75, learning_rate=0.2, max_depth=6, n_estimators=75, random_state=100, scale_pos_weight=11;, score=0.682 total time=  14.7s\n",
      "[CV 2/5] END alpha=1, colsample_bytree=0.75, learning_rate=0.2, max_depth=6, n_estimators=75, random_state=100, scale_pos_weight=11;, score=0.693 total time=  14.8s\n",
      "[CV 3/5] END alpha=1, colsample_bytree=0.75, learning_rate=0.2, max_depth=6, n_estimators=75, random_state=100, scale_pos_weight=11;, score=0.677 total time=  14.8s\n",
      "[CV 4/5] END alpha=1, colsample_bytree=0.75, learning_rate=0.2, max_depth=6, n_estimators=75, random_state=100, scale_pos_weight=11;, score=0.688 total time=  14.8s\n",
      "[CV 5/5] END alpha=1, colsample_bytree=0.75, learning_rate=0.2, max_depth=6, n_estimators=75, random_state=100, scale_pos_weight=11;, score=0.680 total time=  14.8s\n",
      "[CV 1/5] END alpha=0, colsample_bytree=0.5, learning_rate=0.2, max_depth=9, n_estimators=125, random_state=100, scale_pos_weight=6;, score=0.803 total time=  25.7s\n",
      "[CV 2/5] END alpha=0, colsample_bytree=0.5, learning_rate=0.2, max_depth=9, n_estimators=125, random_state=100, scale_pos_weight=6;, score=0.810 total time=  25.7s\n",
      "[CV 3/5] END alpha=0, colsample_bytree=0.5, learning_rate=0.2, max_depth=9, n_estimators=125, random_state=100, scale_pos_weight=6;, score=0.799 total time=  25.8s\n",
      "[CV 4/5] END alpha=0, colsample_bytree=0.5, learning_rate=0.2, max_depth=9, n_estimators=125, random_state=100, scale_pos_weight=6;, score=0.807 total time=  25.8s\n",
      "[CV 5/5] END alpha=0, colsample_bytree=0.5, learning_rate=0.2, max_depth=9, n_estimators=125, random_state=100, scale_pos_weight=6;, score=0.797 total time=  25.8s\n",
      "[CV 1/5] END alpha=10, colsample_bytree=0.5, learning_rate=0.05, max_depth=5, n_estimators=75, random_state=100, scale_pos_weight=6;, score=0.681 total time=   8.9s\n",
      "[CV 2/5] END alpha=10, colsample_bytree=0.5, learning_rate=0.05, max_depth=5, n_estimators=75, random_state=100, scale_pos_weight=6;, score=0.689 total time=   8.8s\n",
      "[CV 3/5] END alpha=10, colsample_bytree=0.5, learning_rate=0.05, max_depth=5, n_estimators=75, random_state=100, scale_pos_weight=6;, score=0.673 total time=   8.8s\n",
      "[CV 4/5] END alpha=10, colsample_bytree=0.5, learning_rate=0.05, max_depth=5, n_estimators=75, random_state=100, scale_pos_weight=6;, score=0.675 total time=   8.8s\n",
      "[CV 5/5] END alpha=10, colsample_bytree=0.5, learning_rate=0.05, max_depth=5, n_estimators=75, random_state=100, scale_pos_weight=6;, score=0.684 total time=   8.9s\n",
      "[CV 1/5] END alpha=0, colsample_bytree=0.25, learning_rate=0.05, max_depth=7, n_estimators=125, random_state=100, scale_pos_weight=11;, score=0.680 total time=  11.7s\n",
      "[CV 2/5] END alpha=0, colsample_bytree=0.25, learning_rate=0.05, max_depth=7, n_estimators=125, random_state=100, scale_pos_weight=11;, score=0.688 total time=  11.8s\n",
      "[CV 3/5] END alpha=0, colsample_bytree=0.25, learning_rate=0.05, max_depth=7, n_estimators=125, random_state=100, scale_pos_weight=11;, score=0.679 total time=  11.9s\n",
      "[CV 4/5] END alpha=0, colsample_bytree=0.25, learning_rate=0.05, max_depth=7, n_estimators=125, random_state=100, scale_pos_weight=11;, score=0.690 total time=  11.7s\n",
      "[CV 5/5] END alpha=0, colsample_bytree=0.25, learning_rate=0.05, max_depth=7, n_estimators=125, random_state=100, scale_pos_weight=11;, score=0.675 total time=  11.7s\n",
      "[CV 1/5] END alpha=0, colsample_bytree=0.5, learning_rate=0.1, max_depth=9, n_estimators=100, random_state=100, scale_pos_weight=1;, score=0.770 total time=  20.9s\n",
      "[CV 2/5] END alpha=0, colsample_bytree=0.5, learning_rate=0.1, max_depth=9, n_estimators=100, random_state=100, scale_pos_weight=1;, score=0.779 total time=  20.9s\n",
      "[CV 3/5] END alpha=0, colsample_bytree=0.5, learning_rate=0.1, max_depth=9, n_estimators=100, random_state=100, scale_pos_weight=1;, score=0.772 total time=  20.9s\n",
      "[CV 4/5] END alpha=0, colsample_bytree=0.5, learning_rate=0.1, max_depth=9, n_estimators=100, random_state=100, scale_pos_weight=1;, score=0.778 total time=  21.1s\n",
      "[CV 5/5] END alpha=0, colsample_bytree=0.5, learning_rate=0.1, max_depth=9, n_estimators=100, random_state=100, scale_pos_weight=1;, score=0.778 total time=  20.9s\n",
      "[CV 1/5] END alpha=1, colsample_bytree=0.5, learning_rate=0.1, max_depth=9, n_estimators=75, random_state=100, scale_pos_weight=11;, score=0.739 total time=  16.2s\n",
      "[CV 2/5] END alpha=1, colsample_bytree=0.5, learning_rate=0.1, max_depth=9, n_estimators=75, random_state=100, scale_pos_weight=11;, score=0.747 total time=  16.0s\n",
      "[CV 3/5] END alpha=1, colsample_bytree=0.5, learning_rate=0.1, max_depth=9, n_estimators=75, random_state=100, scale_pos_weight=11;, score=0.734 total time=  16.1s\n",
      "[CV 4/5] END alpha=1, colsample_bytree=0.5, learning_rate=0.1, max_depth=9, n_estimators=75, random_state=100, scale_pos_weight=11;, score=0.744 total time=  16.1s\n",
      "[CV 5/5] END alpha=1, colsample_bytree=0.5, learning_rate=0.1, max_depth=9, n_estimators=75, random_state=100, scale_pos_weight=11;, score=0.731 total time=  16.0s\n",
      "[CV 1/5] END alpha=1, colsample_bytree=0.75, learning_rate=0.05, max_depth=6, n_estimators=125, random_state=100, scale_pos_weight=6;, score=0.724 total time=  24.5s\n",
      "[CV 2/5] END alpha=1, colsample_bytree=0.75, learning_rate=0.05, max_depth=6, n_estimators=125, random_state=100, scale_pos_weight=6;, score=0.725 total time=  24.6s\n",
      "[CV 3/5] END alpha=1, colsample_bytree=0.75, learning_rate=0.05, max_depth=6, n_estimators=125, random_state=100, scale_pos_weight=6;, score=0.716 total time=  24.5s\n",
      "[CV 4/5] END alpha=1, colsample_bytree=0.75, learning_rate=0.05, max_depth=6, n_estimators=125, random_state=100, scale_pos_weight=6;, score=0.718 total time=  24.4s\n",
      "[CV 5/5] END alpha=1, colsample_bytree=0.75, learning_rate=0.05, max_depth=6, n_estimators=125, random_state=100, scale_pos_weight=6;, score=0.720 total time=  24.5s\n",
      "[CV 1/5] END alpha=0, colsample_bytree=0.25, learning_rate=0.1, max_depth=6, n_estimators=100, random_state=100, scale_pos_weight=1;, score=0.733 total time=   8.0s\n",
      "[CV 2/5] END alpha=0, colsample_bytree=0.25, learning_rate=0.1, max_depth=6, n_estimators=100, random_state=100, scale_pos_weight=1;, score=0.742 total time=   8.0s\n",
      "[CV 3/5] END alpha=0, colsample_bytree=0.25, learning_rate=0.1, max_depth=6, n_estimators=100, random_state=100, scale_pos_weight=1;, score=0.743 total time=   8.1s\n",
      "[CV 4/5] END alpha=0, colsample_bytree=0.25, learning_rate=0.1, max_depth=6, n_estimators=100, random_state=100, scale_pos_weight=1;, score=0.735 total time=   8.1s\n",
      "[CV 5/5] END alpha=0, colsample_bytree=0.25, learning_rate=0.1, max_depth=6, n_estimators=100, random_state=100, scale_pos_weight=1;, score=0.748 total time=   8.1s\n",
      "[CV 1/5] END alpha=1, colsample_bytree=0.25, learning_rate=0.05, max_depth=5, n_estimators=100, random_state=100, scale_pos_weight=1;, score=0.662 total time=   6.7s\n",
      "[CV 2/5] END alpha=1, colsample_bytree=0.25, learning_rate=0.05, max_depth=5, n_estimators=100, random_state=100, scale_pos_weight=1;, score=0.688 total time=   6.7s\n",
      "[CV 3/5] END alpha=1, colsample_bytree=0.25, learning_rate=0.05, max_depth=5, n_estimators=100, random_state=100, scale_pos_weight=1;, score=0.682 total time=   6.7s\n",
      "[CV 4/5] END alpha=1, colsample_bytree=0.25, learning_rate=0.05, max_depth=5, n_estimators=100, random_state=100, scale_pos_weight=1;, score=0.668 total time=   6.7s\n",
      "[CV 5/5] END alpha=1, colsample_bytree=0.25, learning_rate=0.05, max_depth=5, n_estimators=100, random_state=100, scale_pos_weight=1;, score=0.683 total time=   6.8s\n",
      "[CV 1/5] END alpha=10, colsample_bytree=0.75, learning_rate=0.1, max_depth=6, n_estimators=125, random_state=100, scale_pos_weight=11;, score=0.674 total time=  24.6s\n",
      "[CV 2/5] END alpha=10, colsample_bytree=0.75, learning_rate=0.1, max_depth=6, n_estimators=125, random_state=100, scale_pos_weight=11;, score=0.683 total time=  24.3s\n",
      "[CV 3/5] END alpha=10, colsample_bytree=0.75, learning_rate=0.1, max_depth=6, n_estimators=125, random_state=100, scale_pos_weight=11;, score=0.673 total time=  24.4s\n",
      "[CV 4/5] END alpha=10, colsample_bytree=0.75, learning_rate=0.1, max_depth=6, n_estimators=125, random_state=100, scale_pos_weight=11;, score=0.679 total time=  24.6s\n",
      "[CV 5/5] END alpha=10, colsample_bytree=0.75, learning_rate=0.1, max_depth=6, n_estimators=125, random_state=100, scale_pos_weight=11;, score=0.665 total time=  24.6s\n"
     ]
    },
    {
     "data": {
      "text/plain": [
       "{'scale_pos_weight': 6,\n",
       " 'random_state': 100,\n",
       " 'n_estimators': 125,\n",
       " 'max_depth': 9,\n",
       " 'learning_rate': 0.2,\n",
       " 'colsample_bytree': 0.5,\n",
       " 'alpha': 0}"
      ]
     },
     "execution_count": 562,
     "metadata": {},
     "output_type": "execute_result"
    }
   ],
   "source": [
    "################# refined grid based on previous\n",
    "#https://www.mikulskibartosz.name/xgboost-hyperparameter-tuning-in-python-using-grid-search/\n",
    "#https://towardsdatascience.com/xgboost-fine-tune-and-optimize-your-model-23d996fab663\n",
    "\n",
    "param_grid_xgboost_randomized_2 = {\n",
    "    'max_depth': range (5, 10, 1),\n",
    "    'n_estimators': [75,100,125],\n",
    "     'colsample_bytree': [0.25, 0.5, 0.75],\n",
    "    'learning_rate': [0.1, 0.2, 0.05],\n",
    "    'alpha' : [0, 0.1,1,10],\n",
    "    'random_state': [100],\n",
    "     'scale_pos_weight': [1,6,11]\n",
    "\n",
    "}\n",
    "\n",
    "# 5-fold cv\n",
    "cv = RepeatedStratifiedKFold(n_splits=5, n_repeats=1, random_state=100)\n",
    "\n",
    "# fit xgb instance\n",
    "estimator = xgb.XGBClassifier(\n",
    "    objective= 'binary:logistic',\n",
    "    nthread=4,\n",
    "    seed=100\n",
    ")\n",
    "\n",
    "# randomised search\n",
    "grid_xgboost_randomized_2 = RandomizedSearchCV(estimator=estimator, param_distributions=param_grid_xgboost_randomized_2, cv=cv, scoring='f1', verbose=3, random_state=100, n_iter=100)\n",
    "\n",
    "# fit model\n",
    "grid_xgboost_randomized_2.fit(X_train_imp_scaledALL, y_train);\n",
    "\n",
    "# best params\n",
    "print(grid_xgboost_randomized_2.best_params_)"
   ]
  },
  {
   "cell_type": "code",
   "execution_count": 575,
   "id": "44b70573-1f50-4ce5-909c-0aa9e68692ea",
   "metadata": {},
   "outputs": [
    {
     "data": {
      "text/plain": [
       "0.8031657790982539"
      ]
     },
     "execution_count": 575,
     "metadata": {},
     "output_type": "execute_result"
    }
   ],
   "source": [
    "# best score\n",
    "grid_xgboost_randomized_2.best_score_"
   ]
  },
  {
   "cell_type": "code",
   "execution_count": 564,
   "id": "dc866408-5e87-4122-aefa-62578de32d0e",
   "metadata": {},
   "outputs": [],
   "source": [
    "# with open('grid_xgboost_randomized_2_bestParams.pkl', 'wb') as f:\n",
    "#     pickle.dump(grid_xgboost_randomized_2.best_params_, f)\n",
    "# with open('grid_xgboost_randomized_2_bestScore.pkl', 'wb') as f:\n",
    "#     pickle.dump(grid_xgboost_randomized_2.best_score_, f)\n",
    "# with open('grid_xgboost_randomized_2_cvResults.pkl', 'wb') as f:\n",
    "#     pickle.dump(grid_xgboost_randomized_2.cv_results_, f)"
   ]
  },
  {
   "cell_type": "code",
   "execution_count": 105,
   "id": "2bdc2e9b-ae76-489c-8d63-f97fa1efe725",
   "metadata": {},
   "outputs": [
    {
     "name": "stdout",
     "output_type": "stream",
     "text": [
      "{'scale_pos_weight': 6, 'random_state': 100, 'n_estimators': 125, 'max_depth': 9, 'learning_rate': 0.2, 'colsample_bytree': 0.5, 'alpha': 0}\n",
      "0.8031657790982539\n"
     ]
    }
   ],
   "source": [
    "with open('grid_xgboost_randomized_2_bestParams.pkl', 'rb') as f:\n",
    "    grid_xgboost_randomized_2_bestParams = pickle.load(f)\n",
    "with open('grid_xgboost_randomized_2_bestScore.pkl', 'rb') as f:\n",
    "    grid_xgboost_randomized_2_bestScore = pickle.load(f)\n",
    "with open('grid_xgboost_randomized_2_cvResults.pkl', 'rb') as f:\n",
    "    grid_xgboost_randomized_2_cvResults = pickle.load(f)\n",
    "    \n",
    "print(grid_xgboost_randomized_2_bestParams)\n",
    "print(grid_xgboost_randomized_2_bestScore)"
   ]
  },
  {
   "cell_type": "markdown",
   "id": "6785e072-08b7-4f8a-a305-f2feefb239f5",
   "metadata": {},
   "source": [
    "### Fit and predict"
   ]
  },
  {
   "cell_type": "code",
   "execution_count": 735,
   "id": "71c61376-54bc-471e-af7f-30e3c343df22",
   "metadata": {},
   "outputs": [
    {
     "data": {
      "text/plain": [
       "array([[39295,   580],\n",
       "       [  645,  2750]])"
      ]
     },
     "metadata": {},
     "output_type": "display_data"
    },
    {
     "data": {
      "text/plain": [
       "0.8178438661710038"
      ]
     },
     "execution_count": 735,
     "metadata": {},
     "output_type": "execute_result"
    }
   ],
   "source": [
    "# best hyperparameter values from the randomized search (among tested)\n",
    "clf_xgb = xgb.XGBClassifier(\n",
    "    objective = 'binary:logistic',\n",
    "    nthread = 4,\n",
    "    seed = 100,\n",
    "    random_state = 100,\n",
    "    scale_pos_weight = grid_xgboost_randomized_2_bestParams['scale_pos_weight'],\n",
    "    n_estimators = grid_xgboost_randomized_2_bestParams['n_estimators'],\n",
    "    max_depth = grid_xgboost_randomized_2_bestParams['max_depth'],\n",
    "    learning_rate = 0grid_xgboost_randomized_2_bestParams['learning_rate'],\n",
    "    colsample_bytree = grid_xgboost_randomized_2_bestParams['colsample_bytree'],\n",
    "    alpha = grid_xgboost_randomized_2_bestParams['alpha'])\n",
    "\n",
    "# fit model\n",
    "clf_xgb.fit(X_train_imp_scaledALL, y_train)\n",
    "\n",
    "######### pickle (to save time when reloading notebook again)\n",
    "# with open('xgb_randomized_all_finalModel.pkl', 'wb') as f:\n",
    "#     pickle.dump(clf_xgb, f)\n",
    "# with open('xgb_randomized_all_finalModel.pkl', 'rb') as f:\n",
    "#    clf_xgb = pickle.load(f)\n",
    "\n",
    "# perform prediction\n",
    "pred_xgb = clf_xgb.predict(X_test_imp_scaledALL)\n",
    "\n",
    "# show confusion matrix and f1 score\n",
    "display(confusion_matrix(y_test, pred_xgb))\n",
    "f1_score(y_test, pred_xgb)"
   ]
  },
  {
   "cell_type": "code",
   "execution_count": 738,
   "id": "1ab985a6-8d8a-462a-bb14-c12362dffd20",
   "metadata": {},
   "outputs": [
    {
     "data": {
      "image/png": "[encoded data removed]",
      "text/plain": [
       "<Figure size 432x288 with 1 Axes>"
      ]
     },
     "metadata": {
      "needs_background": "light"
     },
     "output_type": "display_data"
    }
   ],
   "source": [
    "# show confusion matrix\n",
    "plot_cm(confusion_matrix(y_test, pred_xgb))"
   ]
  },
  {
   "cell_type": "code",
   "execution_count": 737,
   "id": "244fdc8d-4990-40b6-b669-05c321f2e27e",
   "metadata": {},
   "outputs": [
    {
     "data": {
      "text/html": [
       "<div>\n",
       "<style scoped>\n",
       "    .dataframe tbody tr th:only-of-type {\n",
       "        vertical-align: middle;\n",
       "    }\n",
       "\n",
       "    .dataframe tbody tr th {\n",
       "        vertical-align: top;\n",
       "    }\n",
       "\n",
       "    .dataframe thead th {\n",
       "        text-align: right;\n",
       "    }\n",
       "</style>\n",
       "<table border=\"1\" class=\"dataframe\">\n",
       "  <thead>\n",
       "    <tr style=\"text-align: right;\">\n",
       "      <th></th>\n",
       "      <th>Metric</th>\n",
       "      <th>Score</th>\n",
       "    </tr>\n",
       "  </thead>\n",
       "  <tbody>\n",
       "    <tr>\n",
       "      <th>0</th>\n",
       "      <td>f1</td>\n",
       "      <td>0.817844</td>\n",
       "    </tr>\n",
       "    <tr>\n",
       "      <th>1</th>\n",
       "      <td>precision</td>\n",
       "      <td>0.825826</td>\n",
       "    </tr>\n",
       "    <tr>\n",
       "      <th>2</th>\n",
       "      <td>recall</td>\n",
       "      <td>0.810015</td>\n",
       "    </tr>\n",
       "    <tr>\n",
       "      <th>3</th>\n",
       "      <td>accuracy</td>\n",
       "      <td>0.971689</td>\n",
       "    </tr>\n",
       "  </tbody>\n",
       "</table>\n",
       "</div>"
      ],
      "text/plain": [
       "      Metric     Score\n",
       "0         f1  0.817844\n",
       "1  precision  0.825826\n",
       "2     recall  0.810015\n",
       "3   accuracy  0.971689"
      ]
     },
     "execution_count": 737,
     "metadata": {},
     "output_type": "execute_result"
    }
   ],
   "source": [
    "# show scores\n",
    "pd.DataFrame(\n",
    "    {\"Metric\" : [\"f1\", \"precision\", \"recall\", \"accuracy\"], \"Score\" : [f1_score(y_test, pred_xgb), precision_score(y_test, pred_xgb),recall_score(y_test, pred_xgb), accuracy_score(y_test, pred_xgb)]})\n"
   ]
  },
  {
   "cell_type": "markdown",
   "id": "264ce275-b757-48cc-9bb5-c7cd9809c354",
   "metadata": {},
   "source": [
    "### Cutoff"
   ]
  },
  {
   "cell_type": "code",
   "execution_count": 739,
   "id": "c4d58fe2-aaa7-414d-b400-2b9b94dfd64f",
   "metadata": {},
   "outputs": [
    {
     "name": "stdout",
     "output_type": "stream",
     "text": [
      "Cutoff = 0.0\n",
      "Cutoff = 0.1\n",
      "Cutoff = 0.2\n",
      "Cutoff = 0.30000000000000004\n",
      "Cutoff = 0.4\n",
      "Cutoff = 0.5\n",
      "Cutoff = 0.6000000000000001\n",
      "Cutoff = 0.7000000000000001\n",
      "Cutoff = 0.8\n",
      "Cutoff = 0.9\n",
      "Cutoff = 1.0\n"
     ]
    },
    {
     "data": {
      "image/png": "[encoded data removed]",
      "text/plain": [
       "<Figure size 432x288 with 1 Axes>"
      ]
     },
     "metadata": {
      "needs_background": "light"
     },
     "output_type": "display_data"
    },
    {
     "data": {
      "text/plain": [
       "{0.0: 0.15,\n",
       " 0.1: 0.58,\n",
       " 0.2: 0.71,\n",
       " 0.30000000000000004: 0.77,\n",
       " 0.4: 0.8,\n",
       " 0.5: 0.82,\n",
       " 0.6000000000000001: 0.82,\n",
       " 0.7000000000000001: 0.82,\n",
       " 0.8: 0.8,\n",
       " 0.9: 0.76,\n",
       " 1.0: 0.0}"
      ]
     },
     "execution_count": 739,
     "metadata": {},
     "output_type": "execute_result"
    }
   ],
   "source": [
    "# calculate f1 score for various cut-off values\n",
    "plot_cutoff_f1(clf_xgb.predict_proba(X_test_imp_scaledALL)[:,1],y_test,0)"
   ]
  }
 ],
 "metadata": {
  "kernelspec": {
   "display_name": "Python 3 (ipykernel)",
   "language": "python",
   "name": "python3"
  },
  "language_info": {
   "codemirror_mode": {
    "name": "ipython",
    "version": 3
   },
   "file_extension": ".py",
   "mimetype": "text/x-python",
   "name": "python",
   "nbconvert_exporter": "python",
   "pygments_lexer": "ipython3",
   "version": "3.9.12"
  }
 },
 "nbformat": 4,
 "nbformat_minor": 5
}
